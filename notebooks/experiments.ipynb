{
 "cells": [
  {
   "cell_type": "markdown",
   "source": [
    "# Experiments"
   ],
   "metadata": {
    "collapsed": false
   }
  },
  {
   "cell_type": "code",
   "execution_count": null,
   "outputs": [],
   "source": [
    "import os\n",
    "import pandas as pd\n",
    "import time\n",
    "import torch\n",
    "from configs.models import SCOOP_cfg, NeuralPrior_cfg\n",
    "from data.gpu_utils import get_free_gpu_indices\n",
    "from pipeline.run_utils import run_experiment\n",
    "\n",
    "# load cfg list from csv later? or just permute variables\n",
    "cfg_list = [#{**SCOOP_cfg, 'affiliation' : 'baseline', 'smooth_weight' : 1},\n",
    "            {**NeuralPrior_cfg, 'affiliation' : 'ours', 'sm_normals_K' : 5, 'K' : 4, 'smooth_weight' : 1., 'forward_weight' : 1, 'free_weight' : 1, 'pc2_smooth' : 1, 'VA' : 1},\n",
    "            ]\n",
    "\n",
    "import subprocess\n",
    "DETACH = 0\n",
    "# tohle cele do subprocessu ve funkci potom #\n",
    "\n",
    "\n",
    "\n",
    "for cfg in cfg_list:\n",
    "\n",
    "    while len(get_free_gpu_indices()) == 0:\n",
    "        print('waiting for gpu')\n",
    "        time.sleep(20)\n",
    "\n",
    "    # for dataset in ['kitti_o', 'kitti_t', 'argoverse', 'nuscenes', 'waymo']:\n",
    "    for dataset in ['argoverse']:\n",
    "\n",
    "        cfg['dataset'] = dataset\n",
    "        cfg['iters'] = 100\n",
    "        # cfg['lr'] = 0.008\n",
    "        cfg['dev'] = 1\n",
    "        # cfg['vis'] = 1\n",
    "        # print(dataset)\n",
    "        run_experiment(cfg, DETACH=DETACH)\n",
    "\n",
    "    # time.sleep(5)\n",
    "\n",
    "    # break"
   ],
   "metadata": {
    "collapsed": false
   }
  },
  {
   "cell_type": "markdown",
   "source": [
    "# notes\n",
    "- SCOOP wont generalize to other real world datasets (Cross-dataset evaluation) - performance on argoverse is bad, retraining?\n",
    "    - \"It extracts discriminative features, which transfer well across the FT3Do and KITTIo datasets, and enables to compute the correspondence-based flow between the point clouds\"\n",
    "    - We dont have advantage in that, but this kinda justifies the results on argoverse without fine-tunning?\n",
    "    - KittiSF is bijection, that is why it works very good in SCOOP\n",
    "- https://arxiv.org/pdf/2305.02528.pdf cite baseline\n",
    "- Pouceni z reimplementace\n",
    "    - Asi to fakt chce delat krok po kroku uz odzacatku? Tim mysleno testovat vsechno krok po kroku kdyz se prevezmou funkce\n",
    "    - Izolovat (rozumet tem krokum, jinak je proste nedelat, opravdu nedelat)\n",
    "    - Skvely je mit ten framework udelany podle toho, co opravdu clovek delat\n",
    "    - Nejlepsi je mit vsechno v jednom editoru viz. poustet pre python subprocessy, jinak prepinani zpomaluje a nici to framework workflow\n"
   ],
   "metadata": {
    "collapsed": false
   }
  },
  {
   "cell_type": "code",
   "execution_count": 27,
   "outputs": [
    {
     "data": {
      "text/plain": "           model  smooth_weight  forward_weight  free_weight   VA  \\\n0    NeuralPrior            1.0             1.0          0.0  0.0   \n1    NeuralPrior            0.0             0.0          0.0  0.0   \n2    NeuralPrior            1.0             0.0          0.0  0.0   \n3    NeuralPrior            0.0             0.0          1.0  0.0   \n4    NeuralPrior            0.0             0.0          0.0  1.0   \n..           ...            ...             ...          ...  ...   \n234        SCOOP           10.0            10.0          1.0  0.0   \n235        SCOOP           10.0            10.0          1.0  1.0   \n236        SCOOP           10.0            10.0          0.0  0.0   \n237        SCOOP           10.0            10.0          0.0  1.0   \n238        SCOOP           10.0            10.0          1.0  0.0   \n\n     sm_normals_K  pc2_smooth       aff     EPE3D  acc3d_strict  acc3d_relax  \\\n0             8.0         1.0      ours  0.038202      0.895604     0.968941   \n1             0.0         0.0  baseline  0.035799      0.915465     0.959723   \n2             0.0         0.0      ours  0.030873      0.936751     0.978280   \n3             0.0         0.0      ours  0.032693      0.919955     0.974072   \n4             0.0         0.0      ours  0.035892      0.928049     0.975277   \n..            ...         ...       ...       ...           ...          ...   \n234          12.0         0.0      ours  0.024888      0.976342     0.986366   \n235          12.0         0.0      ours  0.024854      0.976516     0.986793   \n236          12.0         1.0      ours  0.024473      0.977752     0.985462   \n237          12.0         1.0      ours  0.024893      0.977690     0.985251   \n238          12.0         1.0      ours  0.024566      0.977696     0.985493   \n\n     angle_error   outlier  avg_solver_time  \n0       0.127274  0.150882         3.377815  \n1       0.122890  0.130793         2.608330  \n2       0.111395  0.121046         2.473765  \n3       0.116542  0.108876         2.660900  \n4       0.120856  0.142548         2.406570  \n..           ...       ...              ...  \n234     0.113298  0.119376         4.175589  \n235     0.113396  0.119132         4.261738  \n236     0.112696  0.116760         3.965773  \n237     0.112888  0.116859         4.035503  \n238     0.112857  0.118077         4.095363  \n\n[239 rows x 14 columns]",
      "text/html": "<div>\n<style scoped>\n    .dataframe tbody tr th:only-of-type {\n        vertical-align: middle;\n    }\n\n    .dataframe tbody tr th {\n        vertical-align: top;\n    }\n\n    .dataframe thead th {\n        text-align: right;\n    }\n</style>\n<table border=\"1\" class=\"dataframe\">\n  <thead>\n    <tr style=\"text-align: right;\">\n      <th></th>\n      <th>model</th>\n      <th>smooth_weight</th>\n      <th>forward_weight</th>\n      <th>free_weight</th>\n      <th>VA</th>\n      <th>sm_normals_K</th>\n      <th>pc2_smooth</th>\n      <th>aff</th>\n      <th>EPE3D</th>\n      <th>acc3d_strict</th>\n      <th>acc3d_relax</th>\n      <th>angle_error</th>\n      <th>outlier</th>\n      <th>avg_solver_time</th>\n    </tr>\n  </thead>\n  <tbody>\n    <tr>\n      <th>0</th>\n      <td>NeuralPrior</td>\n      <td>1.0</td>\n      <td>1.0</td>\n      <td>0.0</td>\n      <td>0.0</td>\n      <td>8.0</td>\n      <td>1.0</td>\n      <td>ours</td>\n      <td>0.038202</td>\n      <td>0.895604</td>\n      <td>0.968941</td>\n      <td>0.127274</td>\n      <td>0.150882</td>\n      <td>3.377815</td>\n    </tr>\n    <tr>\n      <th>1</th>\n      <td>NeuralPrior</td>\n      <td>0.0</td>\n      <td>0.0</td>\n      <td>0.0</td>\n      <td>0.0</td>\n      <td>0.0</td>\n      <td>0.0</td>\n      <td>baseline</td>\n      <td>0.035799</td>\n      <td>0.915465</td>\n      <td>0.959723</td>\n      <td>0.122890</td>\n      <td>0.130793</td>\n      <td>2.608330</td>\n    </tr>\n    <tr>\n      <th>2</th>\n      <td>NeuralPrior</td>\n      <td>1.0</td>\n      <td>0.0</td>\n      <td>0.0</td>\n      <td>0.0</td>\n      <td>0.0</td>\n      <td>0.0</td>\n      <td>ours</td>\n      <td>0.030873</td>\n      <td>0.936751</td>\n      <td>0.978280</td>\n      <td>0.111395</td>\n      <td>0.121046</td>\n      <td>2.473765</td>\n    </tr>\n    <tr>\n      <th>3</th>\n      <td>NeuralPrior</td>\n      <td>0.0</td>\n      <td>0.0</td>\n      <td>1.0</td>\n      <td>0.0</td>\n      <td>0.0</td>\n      <td>0.0</td>\n      <td>ours</td>\n      <td>0.032693</td>\n      <td>0.919955</td>\n      <td>0.974072</td>\n      <td>0.116542</td>\n      <td>0.108876</td>\n      <td>2.660900</td>\n    </tr>\n    <tr>\n      <th>4</th>\n      <td>NeuralPrior</td>\n      <td>0.0</td>\n      <td>0.0</td>\n      <td>0.0</td>\n      <td>1.0</td>\n      <td>0.0</td>\n      <td>0.0</td>\n      <td>ours</td>\n      <td>0.035892</td>\n      <td>0.928049</td>\n      <td>0.975277</td>\n      <td>0.120856</td>\n      <td>0.142548</td>\n      <td>2.406570</td>\n    </tr>\n    <tr>\n      <th>...</th>\n      <td>...</td>\n      <td>...</td>\n      <td>...</td>\n      <td>...</td>\n      <td>...</td>\n      <td>...</td>\n      <td>...</td>\n      <td>...</td>\n      <td>...</td>\n      <td>...</td>\n      <td>...</td>\n      <td>...</td>\n      <td>...</td>\n      <td>...</td>\n    </tr>\n    <tr>\n      <th>234</th>\n      <td>SCOOP</td>\n      <td>10.0</td>\n      <td>10.0</td>\n      <td>1.0</td>\n      <td>0.0</td>\n      <td>12.0</td>\n      <td>0.0</td>\n      <td>ours</td>\n      <td>0.024888</td>\n      <td>0.976342</td>\n      <td>0.986366</td>\n      <td>0.113298</td>\n      <td>0.119376</td>\n      <td>4.175589</td>\n    </tr>\n    <tr>\n      <th>235</th>\n      <td>SCOOP</td>\n      <td>10.0</td>\n      <td>10.0</td>\n      <td>1.0</td>\n      <td>1.0</td>\n      <td>12.0</td>\n      <td>0.0</td>\n      <td>ours</td>\n      <td>0.024854</td>\n      <td>0.976516</td>\n      <td>0.986793</td>\n      <td>0.113396</td>\n      <td>0.119132</td>\n      <td>4.261738</td>\n    </tr>\n    <tr>\n      <th>236</th>\n      <td>SCOOP</td>\n      <td>10.0</td>\n      <td>10.0</td>\n      <td>0.0</td>\n      <td>0.0</td>\n      <td>12.0</td>\n      <td>1.0</td>\n      <td>ours</td>\n      <td>0.024473</td>\n      <td>0.977752</td>\n      <td>0.985462</td>\n      <td>0.112696</td>\n      <td>0.116760</td>\n      <td>3.965773</td>\n    </tr>\n    <tr>\n      <th>237</th>\n      <td>SCOOP</td>\n      <td>10.0</td>\n      <td>10.0</td>\n      <td>0.0</td>\n      <td>1.0</td>\n      <td>12.0</td>\n      <td>1.0</td>\n      <td>ours</td>\n      <td>0.024893</td>\n      <td>0.977690</td>\n      <td>0.985251</td>\n      <td>0.112888</td>\n      <td>0.116859</td>\n      <td>4.035503</td>\n    </tr>\n    <tr>\n      <th>238</th>\n      <td>SCOOP</td>\n      <td>10.0</td>\n      <td>10.0</td>\n      <td>1.0</td>\n      <td>0.0</td>\n      <td>12.0</td>\n      <td>1.0</td>\n      <td>ours</td>\n      <td>0.024566</td>\n      <td>0.977696</td>\n      <td>0.985493</td>\n      <td>0.112857</td>\n      <td>0.118077</td>\n      <td>4.095363</td>\n    </tr>\n  </tbody>\n</table>\n<p>239 rows × 14 columns</p>\n</div>"
     },
     "execution_count": 27,
     "metadata": {},
     "output_type": "execute_result"
    }
   ],
   "source": [
    "# Compare experiments, # Udelat cross experiment vizualizaci\n",
    "import glob\n",
    "import pandas as pd\n",
    "import os\n",
    "import matplotlib.pyplot as plt\n",
    "from data.PATHS import TMP_VIS_PATH\n",
    "\n",
    "exp_name = \"grid_search\"\n",
    "exp_dir = f'{os.path.expanduser(\"~\")}/experiments/{exp_name}'\n",
    "runs = sorted(glob.glob(f'{exp_dir}/*'))\n",
    "\n",
    "# plot?\n",
    "\n",
    "metric_all = []\n",
    "fig, axes = plt.subplots(1, 2)#, figsize=(10, 5))\n",
    "\n",
    "# plt.close()\n",
    "# plt.clf()\n",
    "\n",
    "\n",
    "for run in runs:\n",
    "\n",
    "    if os.path.exists(f'{run}/metric.csv') == False:\n",
    "        continue\n",
    "\n",
    "    metric = pd.read_csv(f'{run}/metric.csv', index_col=0, header=None).transpose()\n",
    "    metric = [v.to_dict() for k,v in metric.iterrows()][0]\n",
    "\n",
    "    args = pd.read_csv(f'{run}/args.csv', header=None, index_col=0).transpose()\n",
    "    args = [v.to_dict() for k, v in args.iterrows()][0]\n",
    "\n",
    "    for k in ['VA', 'free_weight', 'pc2_smooth', 'smooth_weight', 'forward_weight', 'sm_normals_K']:\n",
    "        if k in args.keys():\n",
    "            args[k] = float(args[k])\n",
    "\n",
    "    if args['dataset'] == 'kitti_o': continue\n",
    "\n",
    "    # Skip tryouts\n",
    "    if args['dev'] == 1:\n",
    "        continue\n",
    "\n",
    "    # aff = args['affiliation'].values[0]\n",
    "    epe = metric['EPE3D']\n",
    "    avg_solver_time = metric['avg_solver_time']\n",
    "    # decide about aff\n",
    "    if args['model'] == 'NeuralPrior':\n",
    "\n",
    "        if args['VA'] == 0 and args['free_weight'] == 0 and args['forward_weight'] == 0 and args['pc2_smooth'] == 0 and args['smooth_weight'] == 0:\n",
    "            aff = 'baseline'\n",
    "        else:\n",
    "            aff = 'ours'\n",
    "\n",
    "    if args['model'] == 'SCOOP':\n",
    "        if args['sm_normals_K'] == 0 and args['VA'] == 0 and args['free_weight'] == 0 and args['forward_weight'] == 0 and args['pc2_smooth'] == 0:\n",
    "            aff = 'baseline'\n",
    "        else:\n",
    "            aff = 'ours'\n",
    "\n",
    "    # if aff == 'baseline':\n",
    "    #     continue\n",
    "\n",
    "    del args['affiliation']\n",
    "    args['aff'] = aff\n",
    "    model_marker = '*' if args['model'] == 'NeuralPrior' else 'o'\n",
    "    color_marker = 'g' if aff == 'ours' else 'b'\n",
    "\n",
    "\n",
    "    axes[0].plot(avg_solver_time, epe, color_marker + model_marker, markersize=4, label=args['model'])\n",
    "\n",
    "\n",
    "    full_dict = {**args, **metric}\n",
    "    name_weight_list = ['free_weight', 'smooth_weight', 'forward_weight', 'pc2_smooth', 'sm_normals_K', 'VA']\n",
    "    name_metrics = ['EPE3D', 'acc3d_strict', 'acc3d_relax', 'angle_error', 'outlier']\n",
    "    interest_dict = {k:v for k,v in full_dict.items() if k in ['aff', 'avg_solver_time', 'model', 'EPE3D'] + name_weight_list + name_metrics}\n",
    "\n",
    "    # metric_all.append(full_dict)\n",
    "    metric_all.append(interest_dict)\n",
    "\n",
    "axes[0].legend(['NeuralPrior', 'SCOOP'])\n",
    "\n",
    "df = pd.DataFrame(metric_all)\n",
    "\n",
    "\n",
    "\n",
    "axes[0].set_xlabel('Average Solver Time Per Frame [s]')\n",
    "axes[0].set_ylabel('EPE [m]')\n",
    "\n",
    "axes[0].set_title('Performance on KITTI-SF')\n",
    "axes[0].legend(['baseline', 'ours'])\n",
    "axes[0].grid(True)\n",
    "\n",
    "\n",
    "#create pandas DataFrame\n",
    "\n",
    "#create table\n",
    "# table = plt.table(cellText=df.values, colLabels=df.columns, loc='center')\n",
    "plt.savefig(f'{TMP_VIS_PATH}/kittisf.png')\n",
    "plt.close()\n",
    "\n",
    "df\n",
    "# standard deviation?\n",
    "\n"
   ],
   "metadata": {
    "collapsed": false,
    "ExecuteTime": {
     "end_time": "2023-07-24T10:55:40.322235819Z",
     "start_time": "2023-07-24T10:55:39.264448941Z"
    }
   }
  },
  {
   "cell_type": "code",
   "execution_count": 28,
   "outputs": [
    {
     "data": {
      "text/plain": "     model  smooth_weight  forward_weight  free_weight   VA  sm_normals_K  \\\n160  SCOOP           10.0             0.0          0.0  0.0           0.0   \n161  SCOOP           10.0             0.0          0.0  1.0           0.0   \n162  SCOOP           10.0             0.0          1.0  0.0           0.0   \n163  SCOOP           10.0             0.0          1.0  1.0           0.0   \n164  SCOOP           10.0             1.0          0.0  0.0           0.0   \n..     ...            ...             ...          ...  ...           ...   \n234  SCOOP           10.0            10.0          1.0  0.0          12.0   \n235  SCOOP           10.0            10.0          1.0  1.0          12.0   \n236  SCOOP           10.0            10.0          0.0  0.0          12.0   \n237  SCOOP           10.0            10.0          0.0  1.0          12.0   \n238  SCOOP           10.0            10.0          1.0  0.0          12.0   \n\n     pc2_smooth       aff     EPE3D  acc3d_strict  acc3d_relax  angle_error  \\\n160         0.0  baseline  0.026485      0.973587     0.983764     0.114288   \n161         0.0      ours  0.026542      0.972849     0.983769     0.114296   \n162         0.0      ours  0.025996      0.975825     0.984730     0.114393   \n163         0.0      ours  0.026718      0.973470     0.982736     0.114534   \n164         0.0      ours  0.026127      0.973418     0.984388     0.113924   \n..          ...       ...       ...           ...          ...          ...   \n234         0.0      ours  0.024888      0.976342     0.986366     0.113298   \n235         0.0      ours  0.024854      0.976516     0.986793     0.113396   \n236         1.0      ours  0.024473      0.977752     0.985462     0.112696   \n237         1.0      ours  0.024893      0.977690     0.985251     0.112888   \n238         1.0      ours  0.024566      0.977696     0.985493     0.112857   \n\n      outlier  avg_solver_time  \n160  0.117709         2.959095  \n161  0.117369         3.017039  \n162  0.118123         2.970058  \n163  0.119662         3.156393  \n164  0.117184         4.263794  \n..        ...              ...  \n234  0.119376         4.175589  \n235  0.119132         4.261738  \n236  0.116760         3.965773  \n237  0.116859         4.035503  \n238  0.118077         4.095363  \n\n[79 rows x 14 columns]",
      "text/html": "<div>\n<style scoped>\n    .dataframe tbody tr th:only-of-type {\n        vertical-align: middle;\n    }\n\n    .dataframe tbody tr th {\n        vertical-align: top;\n    }\n\n    .dataframe thead th {\n        text-align: right;\n    }\n</style>\n<table border=\"1\" class=\"dataframe\">\n  <thead>\n    <tr style=\"text-align: right;\">\n      <th></th>\n      <th>model</th>\n      <th>smooth_weight</th>\n      <th>forward_weight</th>\n      <th>free_weight</th>\n      <th>VA</th>\n      <th>sm_normals_K</th>\n      <th>pc2_smooth</th>\n      <th>aff</th>\n      <th>EPE3D</th>\n      <th>acc3d_strict</th>\n      <th>acc3d_relax</th>\n      <th>angle_error</th>\n      <th>outlier</th>\n      <th>avg_solver_time</th>\n    </tr>\n  </thead>\n  <tbody>\n    <tr>\n      <th>160</th>\n      <td>SCOOP</td>\n      <td>10.0</td>\n      <td>0.0</td>\n      <td>0.0</td>\n      <td>0.0</td>\n      <td>0.0</td>\n      <td>0.0</td>\n      <td>baseline</td>\n      <td>0.026485</td>\n      <td>0.973587</td>\n      <td>0.983764</td>\n      <td>0.114288</td>\n      <td>0.117709</td>\n      <td>2.959095</td>\n    </tr>\n    <tr>\n      <th>161</th>\n      <td>SCOOP</td>\n      <td>10.0</td>\n      <td>0.0</td>\n      <td>0.0</td>\n      <td>1.0</td>\n      <td>0.0</td>\n      <td>0.0</td>\n      <td>ours</td>\n      <td>0.026542</td>\n      <td>0.972849</td>\n      <td>0.983769</td>\n      <td>0.114296</td>\n      <td>0.117369</td>\n      <td>3.017039</td>\n    </tr>\n    <tr>\n      <th>162</th>\n      <td>SCOOP</td>\n      <td>10.0</td>\n      <td>0.0</td>\n      <td>1.0</td>\n      <td>0.0</td>\n      <td>0.0</td>\n      <td>0.0</td>\n      <td>ours</td>\n      <td>0.025996</td>\n      <td>0.975825</td>\n      <td>0.984730</td>\n      <td>0.114393</td>\n      <td>0.118123</td>\n      <td>2.970058</td>\n    </tr>\n    <tr>\n      <th>163</th>\n      <td>SCOOP</td>\n      <td>10.0</td>\n      <td>0.0</td>\n      <td>1.0</td>\n      <td>1.0</td>\n      <td>0.0</td>\n      <td>0.0</td>\n      <td>ours</td>\n      <td>0.026718</td>\n      <td>0.973470</td>\n      <td>0.982736</td>\n      <td>0.114534</td>\n      <td>0.119662</td>\n      <td>3.156393</td>\n    </tr>\n    <tr>\n      <th>164</th>\n      <td>SCOOP</td>\n      <td>10.0</td>\n      <td>1.0</td>\n      <td>0.0</td>\n      <td>0.0</td>\n      <td>0.0</td>\n      <td>0.0</td>\n      <td>ours</td>\n      <td>0.026127</td>\n      <td>0.973418</td>\n      <td>0.984388</td>\n      <td>0.113924</td>\n      <td>0.117184</td>\n      <td>4.263794</td>\n    </tr>\n    <tr>\n      <th>...</th>\n      <td>...</td>\n      <td>...</td>\n      <td>...</td>\n      <td>...</td>\n      <td>...</td>\n      <td>...</td>\n      <td>...</td>\n      <td>...</td>\n      <td>...</td>\n      <td>...</td>\n      <td>...</td>\n      <td>...</td>\n      <td>...</td>\n      <td>...</td>\n    </tr>\n    <tr>\n      <th>234</th>\n      <td>SCOOP</td>\n      <td>10.0</td>\n      <td>10.0</td>\n      <td>1.0</td>\n      <td>0.0</td>\n      <td>12.0</td>\n      <td>0.0</td>\n      <td>ours</td>\n      <td>0.024888</td>\n      <td>0.976342</td>\n      <td>0.986366</td>\n      <td>0.113298</td>\n      <td>0.119376</td>\n      <td>4.175589</td>\n    </tr>\n    <tr>\n      <th>235</th>\n      <td>SCOOP</td>\n      <td>10.0</td>\n      <td>10.0</td>\n      <td>1.0</td>\n      <td>1.0</td>\n      <td>12.0</td>\n      <td>0.0</td>\n      <td>ours</td>\n      <td>0.024854</td>\n      <td>0.976516</td>\n      <td>0.986793</td>\n      <td>0.113396</td>\n      <td>0.119132</td>\n      <td>4.261738</td>\n    </tr>\n    <tr>\n      <th>236</th>\n      <td>SCOOP</td>\n      <td>10.0</td>\n      <td>10.0</td>\n      <td>0.0</td>\n      <td>0.0</td>\n      <td>12.0</td>\n      <td>1.0</td>\n      <td>ours</td>\n      <td>0.024473</td>\n      <td>0.977752</td>\n      <td>0.985462</td>\n      <td>0.112696</td>\n      <td>0.116760</td>\n      <td>3.965773</td>\n    </tr>\n    <tr>\n      <th>237</th>\n      <td>SCOOP</td>\n      <td>10.0</td>\n      <td>10.0</td>\n      <td>0.0</td>\n      <td>1.0</td>\n      <td>12.0</td>\n      <td>1.0</td>\n      <td>ours</td>\n      <td>0.024893</td>\n      <td>0.977690</td>\n      <td>0.985251</td>\n      <td>0.112888</td>\n      <td>0.116859</td>\n      <td>4.035503</td>\n    </tr>\n    <tr>\n      <th>238</th>\n      <td>SCOOP</td>\n      <td>10.0</td>\n      <td>10.0</td>\n      <td>1.0</td>\n      <td>0.0</td>\n      <td>12.0</td>\n      <td>1.0</td>\n      <td>ours</td>\n      <td>0.024566</td>\n      <td>0.977696</td>\n      <td>0.985493</td>\n      <td>0.112857</td>\n      <td>0.118077</td>\n      <td>4.095363</td>\n    </tr>\n  </tbody>\n</table>\n<p>79 rows × 14 columns</p>\n</div>"
     },
     "execution_count": 28,
     "metadata": {},
     "output_type": "execute_result"
    }
   ],
   "source": [
    "# for each of the datasets\n",
    "# when specific loss is used, plot everything\n",
    "# maybe add even rest of the metrics\n",
    "df.loc[df['model'] == 'SCOOP']\n"
   ],
   "metadata": {
    "collapsed": false,
    "ExecuteTime": {
     "end_time": "2023-07-24T10:55:50.487046734Z",
     "start_time": "2023-07-24T10:55:50.460559613Z"
    }
   }
  },
  {
   "cell_type": "code",
   "execution_count": 5,
   "outputs": [
    {
     "name": "stdout",
     "output_type": "stream",
     "text": [
      "960\n",
      "Runs: 960 ---> GPU time: 160.0 hours ---> 1.3 days\n"
     ]
    }
   ],
   "source": [
    "import itertools\n",
    "import pandas as pd\n",
    "import os\n",
    "from configs.models import SCOOP_cfg, NeuralPrior_cfg\n",
    "### Make configs\n",
    "\n",
    "permute_cfg = {'model': ['NeuralPrior', 'SCOOP'],\n",
    "               'store_inference' : [0],\n",
    "               'sm_normals_K': [0, 5, 8, 12],\n",
    "               'forward_weight':  [0, 1, 10],\n",
    "               'pc2_smooth': [0, 1],\n",
    "               'K': [4, 32],\n",
    "               'smooth_weight' : [0, 1],\n",
    "               'free_weight': [0, 1],\n",
    "               'VA': [0, 1],\n",
    "               'lr': [0.2, 0.008],\n",
    "               'dataset': ['kitti_t', 'kitti_o'],\n",
    "               'max_radius' : [2],\n",
    "               'early_patience' : [50],\n",
    "               }\n",
    "\n",
    "# 'dataset': ['kitti_t', 'kitti_o', 'argoverse', 'nuscenes', 'waymo'],   # wait for lidar on tommorow\n",
    "# permute all possible combinations of variables above\n",
    "\n",
    "index = permute_cfg.keys()\n",
    "combinations = list(itertools.product(*permute_cfg.values()))\n",
    "\n",
    "df = pd.DataFrame(combinations, columns=index)\n",
    "\n",
    "valid_cfg_list = []\n",
    "\n",
    "\n",
    "# leave out some configs\n",
    "runs = 3\n",
    "for run in range(runs):\n",
    "\n",
    "    for i in range(len(combinations)):\n",
    "        default_cfg = {}\n",
    "        c = df.iloc[i]\n",
    "\n",
    "        ##### KittiSF\n",
    "        if c['dataset'].startswith('kitti'):\n",
    "\n",
    "            if c['K'] != 32: continue\n",
    "\n",
    "        ##### Lidar\n",
    "        if not c['dataset'].startswith('kitti'):\n",
    "\n",
    "            if c['K'] > 8: continue\n",
    "            if c['sm_normals_K'] > 5: continue\n",
    "\n",
    "        if c['dataset'] in ['argoverse', 'nuscenes', 'waymo'] and c['sm_normals_K'] > 5: continue\n",
    "\n",
    "        ##### Models\n",
    "        if c['model'] == \"SCOOP\":\n",
    "            default_cfg = SCOOP_cfg\n",
    "            if c['K'] != 32: continue\n",
    "            if c['lr'] != 0.2: continue\n",
    "            if c['dataset'] in ['argoverse', 'nuscenes', 'waymo']: continue\n",
    "            if c['smooth_weight'] != 1: continue\n",
    "\n",
    "        if c['model'] == 'NeuralPrior':\n",
    "            default_cfg = NeuralPrior_cfg\n",
    "            if c['dataset'] in ['kitti_o']: continue\n",
    "            if c['lr'] == 0.2: continue\n",
    "            # if c['lr'] != 0.001 and c['dataset'] == 'kitti_t': continue\n",
    "            # if c['lr'] != 0.003 and c['dataset'] in ['argoverse', 'waymo', 'nuscenes']: continue\n",
    "\n",
    "\n",
    "        ##### General\n",
    "        if c['forward_weight'] == 0 and c['pc2_smooth'] == 1: continue\n",
    "        if c['K'] == 0 and (c['forward_weight'] > 0 or c['VA'] > 0): continue\n",
    "\n",
    "\n",
    "        final_config = {**default_cfg, **c.to_dict()}\n",
    "        final_config['exp_name'] = final_config['model']\n",
    "        final_config['dev'] = 0\n",
    "\n",
    "        # Exceptions\n",
    "        if c['model'] == \"SCOOP\":\n",
    "            final_config['smooth_weight'] = default_cfg['smooth_weight']\n",
    "            final_config['iters'] = 150\n",
    "\n",
    "        if c['model'] == \"NeuralPrior\":\n",
    "            final_config['iters'] = 250\n",
    "\n",
    "        # Just to make them more and compute multiple times. Otherwise it is not in argparser\n",
    "        valid_cfg_list.append(final_config)\n",
    "\n",
    "print(len(valid_cfg_list))\n",
    "nbr_gpu = 5\n",
    "experiment_time = 10 / 60 # hours\n",
    "gpu_time = len(valid_cfg_list) * experiment_time\n",
    "\n",
    "print(f\"Runs: {len(valid_cfg_list)} ---> GPU time: {gpu_time:.1f} hours ---> {gpu_time / nbr_gpu / 24:.1f} days\")\n",
    "\n",
    "final_df = pd.DataFrame(valid_cfg_list, columns=index)\n",
    "# save to different formats\n",
    "final_df.to_csv(f'{os.path.expanduser(\"~\")}/pcflow/configs/experiments/grid_search.csv', index=False)"
   ],
   "metadata": {
    "collapsed": false,
    "ExecuteTime": {
     "end_time": "2023-07-24T08:42:34.906578988Z",
     "start_time": "2023-07-24T08:42:33.560880482Z"
    }
   }
  },
  {
   "cell_type": "code",
   "execution_count": null,
   "outputs": [],
   "source": [
    "\n",
    "# Top down view example of NN connections\n",
    "KNN = nn_ind[0]\n",
    "start_arrows = pc2[0][KNN].reshape(-1,3)\n",
    "\n",
    "# NN connections\n",
    "residuals_KNN = (pc2[0].unsqueeze(1) - pc2[0][KNN]).reshape(-1,3)\n",
    "residuals_VA_KNN = (pc2[0].unsqueeze(1) - pc2[0][VA_KNN]).reshape(-1,3)\n",
    "\n",
    "import matplotlib.pyplot as plt\n",
    "from data.PATHS import TMP_VIS_PATH\n",
    "\n",
    "\n",
    "fig, ax = plt.subplots(1,2, figsize=(10,5))\n",
    "ax[0].plot(start_arrows[:,0].cpu(), start_arrows[:,1].cpu(), 'bo', alpha=0.15, markersize=0.1)\n",
    "ax[1].plot(start_arrows[:,0].cpu(), start_arrows[:,1].cpu(), 'bo', alpha=0.15, markersize=0.1)\n",
    "\n",
    "ax[0].quiver(start_arrows[:,0].cpu(), start_arrows[:,1].cpu(), residuals_KNN[:,0].cpu(), residuals_KNN[:,1].cpu(), color='r', scale_units='xy')\n",
    "ax[1].quiver(start_arrows[:,0].cpu(), start_arrows[:,1].cpu(), residuals_VA_KNN[:,0].cpu(), residuals_VA_KNN[:,1].cpu(), color='r', scale_units='xy')\n",
    "\n",
    "ax[0].axis('equal')\n",
    "ax[1].axis('equal')\n",
    "\n",
    "plt.savefig(f'{TMP_VIS_PATH}/{dataset_type}_range.png')\n"
   ],
   "metadata": {
    "collapsed": false
   }
  },
  {
   "cell_type": "code",
   "execution_count": 1,
   "outputs": [
    {
     "name": "stdout",
     "output_type": "stream",
     "text": [
      "['/home.dokt/vacekpa2/experiments/dev/2023-07-18-20-13-06-618/', '/home.dokt/vacekpa2/experiments/dev/2023-07-18-20-13-06-623/', '/home.dokt/vacekpa2/experiments/dev/2023-07-18-20-13-06-644/', '/home.dokt/vacekpa2/experiments/dev/2023-07-18-20-13-06-645/', '/home.dokt/vacekpa2/experiments/dev/2023-07-18-20-13-06-681/', '/home.dokt/vacekpa2/experiments/dev/2023-07-18-20-13-06-788/', '/home.dokt/vacekpa2/experiments/dev/2023-07-18-20-13-06-852/', '/home.dokt/vacekpa2/experiments/dev/2023-07-18-20-30-16-033/', '/home.dokt/vacekpa2/experiments/dev/2023-07-18-20-30-16-765/', '/home.dokt/vacekpa2/experiments/dev/2023-07-18-20-30-43-153/', '/home.dokt/vacekpa2/experiments/dev/2023-07-18-20-39-46-630/', '/home.dokt/vacekpa2/experiments/dev/2023-07-18-20-40-20-900/', '/home.dokt/vacekpa2/experiments/dev/2023-07-18-20-41-42-641/', '/home.dokt/vacekpa2/experiments/dev/2023-07-18-20-43-07-482/', '/home.dokt/vacekpa2/experiments/dev/2023-07-18-20-50-17-780/', '/home.dokt/vacekpa2/experiments/dev/2023-07-18-20-50-42-064/', '/home.dokt/vacekpa2/experiments/dev/2023-07-18-20-53-14-208/', '/home.dokt/vacekpa2/experiments/dev/2023-07-18-21-10-56-043/', '/home.dokt/vacekpa2/experiments/dev/2023-07-18-21-11-29-617/', '/home.dokt/vacekpa2/experiments/dev/2023-07-18-21-11-49-551/', '/home.dokt/vacekpa2/experiments/dev/2023-07-18-21-17-16-922/', '/home.dokt/vacekpa2/experiments/dev/2023-07-18-21-34-05-214/', '/home.dokt/vacekpa2/experiments/dev/2023-07-18-21-36-25-423/', '/home.dokt/vacekpa2/experiments/dev/2023-07-18-21-44-04-517/', '/home.dokt/vacekpa2/experiments/dev/2023-07-18-21-45-27-710/', '/home.dokt/vacekpa2/experiments/dev/2023-07-18-21-47-21-506/', '/home.dokt/vacekpa2/experiments/dev/2023-07-18-21-48-15-898/', '/home.dokt/vacekpa2/experiments/dev/2023-07-18-21-54-39-743/', '/home.dokt/vacekpa2/experiments/dev/2023-07-18-21-59-02-905/', '/home.dokt/vacekpa2/experiments/dev/2023-07-18-22-11-49-469/', '/home.dokt/vacekpa2/experiments/dev/2023-07-18-22-13-45-838/', '/home.dokt/vacekpa2/experiments/dev/2023-07-18-22-16-04-202/', '/home.dokt/vacekpa2/experiments/dev/2023-07-18-22-16-10-800/', '/home.dokt/vacekpa2/experiments/dev/2023-07-18-22-33-15-031/', '/home.dokt/vacekpa2/experiments/dev/2023-07-18-22-36-27-205/', '/home.dokt/vacekpa2/experiments/dev/2023-07-18-22-38-17-257/', '/home.dokt/vacekpa2/experiments/dev/2023-07-18-22-59-27-896/', '/home.dokt/vacekpa2/experiments/dev/2023-07-18-23-00-56-766/', '/home.dokt/vacekpa2/experiments/dev/2023-07-18-23-03-25-979/', '/home.dokt/vacekpa2/experiments/dev/2023-07-18-23-21-54-760/', '/home.dokt/vacekpa2/experiments/dev/2023-07-18-23-24-13-723/', '/home.dokt/vacekpa2/experiments/dev/2023-07-18-23-27-15-295/', '/home.dokt/vacekpa2/experiments/dev/2023-07-18-23-44-29-034/', '/home.dokt/vacekpa2/experiments/dev/2023-07-18-23-49-20-408/', '/home.dokt/vacekpa2/experiments/dev/2023-07-18-23-50-02-070/', '/home.dokt/vacekpa2/experiments/dev/2023-07-18-23-51-15-054/', '/home.dokt/vacekpa2/experiments/dev/2023-07-18-23-52-24-259/', '/home.dokt/vacekpa2/experiments/dev/2023-07-18-23-56-46-520/', '/home.dokt/vacekpa2/experiments/dev/2023-07-19-00-08-16-424/', '/home.dokt/vacekpa2/experiments/dev/2023-07-19-00-14-43-896/', '/home.dokt/vacekpa2/experiments/dev/2023-07-19-00-15-53-020/', '/home.dokt/vacekpa2/experiments/dev/2023-07-19-00-15-53-270/', '/home.dokt/vacekpa2/experiments/dev/2023-07-19-00-15-55-772/', '/home.dokt/vacekpa2/experiments/dev/2023-07-19-00-16-02-573/', '/home.dokt/vacekpa2/experiments/dev/2023-07-19-00-16-03-689/', '/home.dokt/vacekpa2/experiments/dev/2023-07-19-00-16-04-582/', '/home.dokt/vacekpa2/experiments/dev/2023-07-19-00-16-04-904/', '/home.dokt/vacekpa2/experiments/dev/2023-07-19-00-16-05-036/', '/home.dokt/vacekpa2/experiments/dev/2023-07-19-00-16-07-890/', '/home.dokt/vacekpa2/experiments/dev/2023-07-19-00-16-07-897/', '/home.dokt/vacekpa2/experiments/dev/2023-07-19-00-16-16-717/', '/home.dokt/vacekpa2/experiments/dev/2023-07-19-00-16-16-793/', '/home.dokt/vacekpa2/experiments/dev/2023-07-19-00-16-16-813/', '/home.dokt/vacekpa2/experiments/dev/2023-07-19-00-16-16-822/', '/home.dokt/vacekpa2/experiments/dev/2023-07-19-00-16-16-889/', '/home.dokt/vacekpa2/experiments/dev/2023-07-19-00-16-19-782/', '/home.dokt/vacekpa2/experiments/dev/2023-07-19-00-16-19-934/', '/home.dokt/vacekpa2/experiments/dev/2023-07-19-00-16-28-675/', '/home.dokt/vacekpa2/experiments/dev/2023-07-19-00-16-28-785/', '/home.dokt/vacekpa2/experiments/dev/2023-07-19-00-16-28-787/', '/home.dokt/vacekpa2/experiments/dev/2023-07-19-00-16-28-828/', '/home.dokt/vacekpa2/experiments/dev/2023-07-19-00-16-28-989/', '/home.dokt/vacekpa2/experiments/dev/2023-07-19-00-16-31-234/', '/home.dokt/vacekpa2/experiments/dev/2023-07-19-00-16-31-924/', '/home.dokt/vacekpa2/experiments/dev/2023-07-19-00-16-50-820/', '/home.dokt/vacekpa2/experiments/dev/2023-07-19-00-16-50-837/', '/home.dokt/vacekpa2/experiments/dev/2023-07-19-00-16-50-975/', '/home.dokt/vacekpa2/experiments/dev/2023-07-19-00-16-51-202/', '/home.dokt/vacekpa2/experiments/dev/2023-07-19-00-16-51-338/', '/home.dokt/vacekpa2/experiments/dev/2023-07-19-00-16-51-481/', '/home.dokt/vacekpa2/experiments/dev/2023-07-19-00-17-01-289/', '/home.dokt/vacekpa2/experiments/dev/2023-07-19-00-17-10-781/', '/home.dokt/vacekpa2/experiments/dev/2023-07-19-00-17-10-832/', '/home.dokt/vacekpa2/experiments/dev/2023-07-19-00-17-11-072/', '/home.dokt/vacekpa2/experiments/dev/2023-07-19-00-17-11-108/', '/home.dokt/vacekpa2/experiments/dev/2023-07-19-00-17-11-199/', '/home.dokt/vacekpa2/experiments/dev/2023-07-19-00-17-11-533/', '/home.dokt/vacekpa2/experiments/dev/2023-07-19-00-17-20-245/', '/home.dokt/vacekpa2/experiments/dev/2023-07-19-00-17-30-662/', '/home.dokt/vacekpa2/experiments/dev/2023-07-19-00-17-30-817/', '/home.dokt/vacekpa2/experiments/dev/2023-07-19-00-17-31-304/', '/home.dokt/vacekpa2/experiments/dev/2023-07-19-00-17-31-354/', '/home.dokt/vacekpa2/experiments/dev/2023-07-19-00-17-32-065/', '/home.dokt/vacekpa2/experiments/dev/2023-07-19-00-17-32-177/', '/home.dokt/vacekpa2/experiments/dev/2023-07-19-00-17-37-025/', '/home.dokt/vacekpa2/experiments/dev/2023-07-19-00-17-49-876/', '/home.dokt/vacekpa2/experiments/dev/2023-07-19-00-17-49-954/', '/home.dokt/vacekpa2/experiments/dev/2023-07-19-00-17-50-360/', '/home.dokt/vacekpa2/experiments/dev/2023-07-19-00-17-51-160/', '/home.dokt/vacekpa2/experiments/dev/2023-07-19-00-17-51-445/', '/home.dokt/vacekpa2/experiments/dev/2023-07-19-00-17-51-452/', '/home.dokt/vacekpa2/experiments/dev/2023-07-19-00-17-54-606/', '/home.dokt/vacekpa2/experiments/dev/2023-07-19-00-18-08-747/', '/home.dokt/vacekpa2/experiments/dev/2023-07-19-00-18-09-494/', '/home.dokt/vacekpa2/experiments/dev/2023-07-19-00-18-09-622/', '/home.dokt/vacekpa2/experiments/dev/2023-07-19-00-18-10-384/', '/home.dokt/vacekpa2/experiments/dev/2023-07-19-00-18-10-744/', '/home.dokt/vacekpa2/experiments/dev/2023-07-19-00-18-11-562/', '/home.dokt/vacekpa2/experiments/dev/2023-07-19-00-18-13-372/', '/home.dokt/vacekpa2/experiments/dev/2023-07-19-00-18-27-960/', '/home.dokt/vacekpa2/experiments/dev/2023-07-19-00-18-28-025/', '/home.dokt/vacekpa2/experiments/dev/2023-07-19-00-18-29-299/', '/home.dokt/vacekpa2/experiments/dev/2023-07-19-00-18-29-840/', '/home.dokt/vacekpa2/experiments/dev/2023-07-19-00-18-30-353/', '/home.dokt/vacekpa2/experiments/dev/2023-07-19-00-18-31-342/', '/home.dokt/vacekpa2/experiments/dev/2023-07-19-00-18-31-803/', '/home.dokt/vacekpa2/experiments/dev/2023-07-19-00-18-41-324/', '/home.dokt/vacekpa2/experiments/dev/2023-07-19-00-18-41-549/', '/home.dokt/vacekpa2/experiments/dev/2023-07-19-00-18-41-924/', '/home.dokt/vacekpa2/experiments/dev/2023-07-19-00-18-42-241/', '/home.dokt/vacekpa2/experiments/dev/2023-07-19-00-18-42-355/', '/home.dokt/vacekpa2/experiments/dev/2023-07-19-00-18-43-060/', '/home.dokt/vacekpa2/experiments/dev/2023-07-19-00-18-43-728/', '/home.dokt/vacekpa2/experiments/dev/2023-07-19-00-18-53-064/', '/home.dokt/vacekpa2/experiments/dev/2023-07-19-00-18-53-442/', '/home.dokt/vacekpa2/experiments/dev/2023-07-19-00-18-53-527/', '/home.dokt/vacekpa2/experiments/dev/2023-07-19-00-18-53-718/', '/home.dokt/vacekpa2/experiments/dev/2023-07-19-00-18-53-972/', '/home.dokt/vacekpa2/experiments/dev/2023-07-19-00-18-54-503/', '/home.dokt/vacekpa2/experiments/dev/2023-07-19-00-18-55-342/', '/home.dokt/vacekpa2/experiments/dev/2023-07-19-00-19-04-734/', '/home.dokt/vacekpa2/experiments/dev/2023-07-19-00-19-05-168/', '/home.dokt/vacekpa2/experiments/dev/2023-07-19-00-19-05-392/', '/home.dokt/vacekpa2/experiments/dev/2023-07-19-00-19-05-476/', '/home.dokt/vacekpa2/experiments/dev/2023-07-19-00-19-05-689/', '/home.dokt/vacekpa2/experiments/dev/2023-07-19-00-19-05-830/', '/home.dokt/vacekpa2/experiments/dev/2023-07-19-00-19-06-626/', '/home.dokt/vacekpa2/experiments/dev/2023-07-19-00-19-19-261/', '/home.dokt/vacekpa2/experiments/dev/2023-07-19-00-19-20-437/', '/home.dokt/vacekpa2/experiments/dev/2023-07-19-00-19-21-038/', '/home.dokt/vacekpa2/experiments/dev/2023-07-19-00-19-21-060/', '/home.dokt/vacekpa2/experiments/dev/2023-07-19-00-19-21-492/', '/home.dokt/vacekpa2/experiments/dev/2023-07-19-00-19-21-857/', '/home.dokt/vacekpa2/experiments/dev/2023-07-19-00-19-22-955/', '/home.dokt/vacekpa2/experiments/dev/2023-07-19-00-19-39-097/', '/home.dokt/vacekpa2/experiments/dev/2023-07-19-00-19-40-395/', '/home.dokt/vacekpa2/experiments/dev/2023-07-19-00-19-40-621/', '/home.dokt/vacekpa2/experiments/dev/2023-07-19-00-19-41-571/', '/home.dokt/vacekpa2/experiments/dev/2023-07-19-00-19-41-584/', '/home.dokt/vacekpa2/experiments/dev/2023-07-19-00-19-41-925/', '/home.dokt/vacekpa2/experiments/dev/2023-07-19-00-19-42-249/', '/home.dokt/vacekpa2/experiments/dev/2023-07-19-00-19-58-282/', '/home.dokt/vacekpa2/experiments/dev/2023-07-19-00-20-00-177/', '/home.dokt/vacekpa2/experiments/dev/2023-07-19-00-20-01-194/', '/home.dokt/vacekpa2/experiments/dev/2023-07-19-00-20-01-417/', '/home.dokt/vacekpa2/experiments/dev/2023-07-19-00-20-02-235/', '/home.dokt/vacekpa2/experiments/dev/2023-07-19-00-20-02-245/', '/home.dokt/vacekpa2/experiments/dev/2023-07-19-00-20-02-466/', '/home.dokt/vacekpa2/experiments/dev/2023-07-19-00-20-18-838/', '/home.dokt/vacekpa2/experiments/dev/2023-07-19-00-20-19-093/', '/home.dokt/vacekpa2/experiments/dev/2023-07-19-00-20-19-163/', '/home.dokt/vacekpa2/experiments/dev/2023-07-19-00-20-19-693/', '/home.dokt/vacekpa2/experiments/dev/2023-07-19-00-20-20-436/', '/home.dokt/vacekpa2/experiments/dev/2023-07-19-00-20-20-785/', '/home.dokt/vacekpa2/experiments/dev/2023-07-19-00-20-21-016/', '/home.dokt/vacekpa2/experiments/dev/2023-07-19-00-20-39-525/', '/home.dokt/vacekpa2/experiments/dev/2023-07-19-00-20-39-894/', '/home.dokt/vacekpa2/experiments/dev/2023-07-19-00-20-40-026/', '/home.dokt/vacekpa2/experiments/dev/2023-07-19-00-20-40-130/', '/home.dokt/vacekpa2/experiments/dev/2023-07-19-00-20-40-328/', '/home.dokt/vacekpa2/experiments/dev/2023-07-19-00-20-40-875/', '/home.dokt/vacekpa2/experiments/dev/2023-07-19-00-20-41-200/', '/home.dokt/vacekpa2/experiments/dev/2023-07-19-00-21-01-742/', '/home.dokt/vacekpa2/experiments/dev/2023-07-19-00-21-01-912/', '/home.dokt/vacekpa2/experiments/dev/2023-07-19-00-21-01-958/', '/home.dokt/vacekpa2/experiments/dev/2023-07-19-00-21-02-069/', '/home.dokt/vacekpa2/experiments/dev/2023-07-19-00-21-02-164/', '/home.dokt/vacekpa2/experiments/dev/2023-07-19-00-21-02-333/', '/home.dokt/vacekpa2/experiments/dev/2023-07-19-00-21-02-346/', '/home.dokt/vacekpa2/experiments/dev/2023-07-19-00-21-22-621/', '/home.dokt/vacekpa2/experiments/dev/2023-07-19-00-21-22-844/', '/home.dokt/vacekpa2/experiments/dev/2023-07-19-00-21-23-493/', '/home.dokt/vacekpa2/experiments/dev/2023-07-19-00-21-23-599/', '/home.dokt/vacekpa2/experiments/dev/2023-07-19-00-21-23-816/', '/home.dokt/vacekpa2/experiments/dev/2023-07-19-00-21-24-133/', '/home.dokt/vacekpa2/experiments/dev/2023-07-19-00-21-24-488/', '/home.dokt/vacekpa2/experiments/dev/2023-07-19-00-21-43-321/', '/home.dokt/vacekpa2/experiments/dev/2023-07-19-00-21-43-351/', '/home.dokt/vacekpa2/experiments/dev/2023-07-19-00-21-43-765/', '/home.dokt/vacekpa2/experiments/dev/2023-07-19-00-21-43-892/', '/home.dokt/vacekpa2/experiments/dev/2023-07-19-00-21-43-893/', '/home.dokt/vacekpa2/experiments/dev/2023-07-19-00-21-43-896/', '/home.dokt/vacekpa2/experiments/dev/2023-07-19-00-21-44-023/', '/home.dokt/vacekpa2/experiments/dev/2023-07-19-00-21-55-777/', '/home.dokt/vacekpa2/experiments/dev/2023-07-19-00-21-55-778/', '/home.dokt/vacekpa2/experiments/dev/2023-07-19-00-21-56-121/', '/home.dokt/vacekpa2/experiments/dev/2023-07-19-00-21-56-150/', '/home.dokt/vacekpa2/experiments/dev/2023-07-19-00-21-56-227/', '/home.dokt/vacekpa2/experiments/dev/2023-07-19-00-21-56-353/', '/home.dokt/vacekpa2/experiments/dev/2023-07-19-00-21-56-599/', '/home.dokt/vacekpa2/experiments/dev/2023-07-19-00-22-18-816/', '/home.dokt/vacekpa2/experiments/dev/2023-07-19-00-22-18-881/', '/home.dokt/vacekpa2/experiments/dev/2023-07-19-00-22-19-053/', '/home.dokt/vacekpa2/experiments/dev/2023-07-19-00-22-19-166/', '/home.dokt/vacekpa2/experiments/dev/2023-07-19-00-22-19-294/', '/home.dokt/vacekpa2/experiments/dev/2023-07-19-00-22-19-577/', '/home.dokt/vacekpa2/experiments/dev/2023-07-19-00-22-21-834/', '/home.dokt/vacekpa2/experiments/dev/2023-07-19-00-22-39-520/', '/home.dokt/vacekpa2/experiments/dev/2023-07-19-00-22-40-726/', '/home.dokt/vacekpa2/experiments/dev/2023-07-19-00-22-40-828/', '/home.dokt/vacekpa2/experiments/dev/2023-07-19-00-22-40-864/', '/home.dokt/vacekpa2/experiments/dev/2023-07-19-00-22-40-969/', '/home.dokt/vacekpa2/experiments/dev/2023-07-19-00-22-40-997/', '/home.dokt/vacekpa2/experiments/dev/2023-07-19-00-22-41-590/', '/home.dokt/vacekpa2/experiments/dev/2023-07-19-00-22-51-804/', '/home.dokt/vacekpa2/experiments/dev/2023-07-19-00-22-52-753/', '/home.dokt/vacekpa2/experiments/dev/2023-07-19-00-22-53-041/', '/home.dokt/vacekpa2/experiments/dev/2023-07-19-00-22-53-398/', '/home.dokt/vacekpa2/experiments/dev/2023-07-19-00-22-53-522/', '/home.dokt/vacekpa2/experiments/dev/2023-07-19-00-22-53-562/', '/home.dokt/vacekpa2/experiments/dev/2023-07-19-00-22-53-601/', '/home.dokt/vacekpa2/experiments/dev/2023-07-19-00-23-03-698/', '/home.dokt/vacekpa2/experiments/dev/2023-07-19-00-23-05-274/', '/home.dokt/vacekpa2/experiments/dev/2023-07-19-00-23-05-876/', '/home.dokt/vacekpa2/experiments/dev/2023-07-19-00-23-06-631/', '/home.dokt/vacekpa2/experiments/dev/2023-07-19-00-23-07-137/', '/home.dokt/vacekpa2/experiments/dev/2023-07-19-00-23-07-571/', '/home.dokt/vacekpa2/experiments/dev/2023-07-19-00-23-07-740/', '/home.dokt/vacekpa2/experiments/dev/2023-07-19-00-23-26-723/', '/home.dokt/vacekpa2/experiments/dev/2023-07-19-00-23-26-876/', '/home.dokt/vacekpa2/experiments/dev/2023-07-19-00-23-27-032/', '/home.dokt/vacekpa2/experiments/dev/2023-07-19-00-23-27-115/', '/home.dokt/vacekpa2/experiments/dev/2023-07-19-00-23-27-259/', '/home.dokt/vacekpa2/experiments/dev/2023-07-19-00-23-27-399/', '/home.dokt/vacekpa2/experiments/dev/2023-07-19-00-23-28-269/', '/home.dokt/vacekpa2/experiments/dev/2023-07-19-00-23-47-614/', '/home.dokt/vacekpa2/experiments/dev/2023-07-19-00-23-47-783/', '/home.dokt/vacekpa2/experiments/dev/2023-07-19-00-23-48-218/', '/home.dokt/vacekpa2/experiments/dev/2023-07-19-00-23-48-399/', '/home.dokt/vacekpa2/experiments/dev/2023-07-19-00-23-48-468/', '/home.dokt/vacekpa2/experiments/dev/2023-07-19-00-23-48-817/', '/home.dokt/vacekpa2/experiments/dev/2023-07-19-00-23-48-902/', '/home.dokt/vacekpa2/experiments/dev/2023-07-19-00-24-09-562/', '/home.dokt/vacekpa2/experiments/dev/2023-07-19-00-24-09-817/', '/home.dokt/vacekpa2/experiments/dev/2023-07-19-00-24-09-832/', '/home.dokt/vacekpa2/experiments/dev/2023-07-19-00-24-09-960/', '/home.dokt/vacekpa2/experiments/dev/2023-07-19-00-24-09-973/', '/home.dokt/vacekpa2/experiments/dev/2023-07-19-00-24-10-094/', '/home.dokt/vacekpa2/experiments/dev/2023-07-19-00-24-10-172/', '/home.dokt/vacekpa2/experiments/dev/2023-07-19-00-24-29-581/', '/home.dokt/vacekpa2/experiments/dev/2023-07-19-00-24-29-783/', '/home.dokt/vacekpa2/experiments/dev/2023-07-19-00-24-29-978/', '/home.dokt/vacekpa2/experiments/dev/2023-07-19-00-24-30-628/', '/home.dokt/vacekpa2/experiments/dev/2023-07-19-00-24-31-287/', '/home.dokt/vacekpa2/experiments/dev/2023-07-19-00-24-31-347/', '/home.dokt/vacekpa2/experiments/dev/2023-07-19-00-24-31-350/', '/home.dokt/vacekpa2/experiments/dev/2023-07-19-00-24-48-481/', '/home.dokt/vacekpa2/experiments/dev/2023-07-19-00-24-48-534/', '/home.dokt/vacekpa2/experiments/dev/2023-07-19-00-24-48-745/', '/home.dokt/vacekpa2/experiments/dev/2023-07-19-00-24-49-825/', '/home.dokt/vacekpa2/experiments/dev/2023-07-19-00-24-50-156/', '/home.dokt/vacekpa2/experiments/dev/2023-07-19-00-24-50-440/', '/home.dokt/vacekpa2/experiments/dev/2023-07-19-00-24-50-921/', '/home.dokt/vacekpa2/experiments/dev/2023-07-19-00-25-07-798/', '/home.dokt/vacekpa2/experiments/dev/2023-07-19-00-25-08-016/', '/home.dokt/vacekpa2/experiments/dev/2023-07-19-00-25-08-204/', '/home.dokt/vacekpa2/experiments/dev/2023-07-19-00-25-09-104/', '/home.dokt/vacekpa2/experiments/dev/2023-07-19-00-25-09-378/', '/home.dokt/vacekpa2/experiments/dev/2023-07-19-00-25-10-385/', '/home.dokt/vacekpa2/experiments/dev/2023-07-19-00-25-10-470/', '/home.dokt/vacekpa2/experiments/dev/2023-07-19-00-25-26-775/', '/home.dokt/vacekpa2/experiments/dev/2023-07-19-00-25-26-808/', '/home.dokt/vacekpa2/experiments/dev/2023-07-19-00-25-27-061/', '/home.dokt/vacekpa2/experiments/dev/2023-07-19-00-25-27-647/', '/home.dokt/vacekpa2/experiments/dev/2023-07-19-00-25-28-241/', '/home.dokt/vacekpa2/experiments/dev/2023-07-19-00-25-28-457/', '/home.dokt/vacekpa2/experiments/dev/2023-07-19-00-25-28-458/', '/home.dokt/vacekpa2/experiments/dev/2023-07-19-00-25-46-434/', '/home.dokt/vacekpa2/experiments/dev/2023-07-19-00-25-46-858/', '/home.dokt/vacekpa2/experiments/dev/2023-07-19-00-25-46-881/', '/home.dokt/vacekpa2/experiments/dev/2023-07-19-00-25-47-495/', '/home.dokt/vacekpa2/experiments/dev/2023-07-19-00-25-48-074/', '/home.dokt/vacekpa2/experiments/dev/2023-07-19-00-25-48-188/', '/home.dokt/vacekpa2/experiments/dev/2023-07-19-00-25-48-471/', '/home.dokt/vacekpa2/experiments/dev/2023-07-19-00-26-07-635/', '/home.dokt/vacekpa2/experiments/dev/2023-07-19-00-26-07-902/', '/home.dokt/vacekpa2/experiments/dev/2023-07-19-00-26-08-079/', '/home.dokt/vacekpa2/experiments/dev/2023-07-19-00-26-08-295/', '/home.dokt/vacekpa2/experiments/dev/2023-07-19-00-26-08-387/', '/home.dokt/vacekpa2/experiments/dev/2023-07-19-00-26-08-418/', '/home.dokt/vacekpa2/experiments/dev/2023-07-19-00-26-14-610/', '/home.dokt/vacekpa2/experiments/dev/2023-07-19-00-26-27-007/', '/home.dokt/vacekpa2/experiments/dev/2023-07-19-00-26-27-032/', '/home.dokt/vacekpa2/experiments/dev/2023-07-19-00-26-27-172/', '/home.dokt/vacekpa2/experiments/dev/2023-07-19-00-26-27-366/', '/home.dokt/vacekpa2/experiments/dev/2023-07-19-00-26-27-487/', '/home.dokt/vacekpa2/experiments/dev/2023-07-19-00-26-27-727/', '/home.dokt/vacekpa2/experiments/dev/2023-07-19-00-26-33-139/', '/home.dokt/vacekpa2/experiments/dev/2023-07-19-00-26-46-793/', '/home.dokt/vacekpa2/experiments/dev/2023-07-19-00-26-46-960/', '/home.dokt/vacekpa2/experiments/dev/2023-07-19-00-26-46-980/', '/home.dokt/vacekpa2/experiments/dev/2023-07-19-00-26-47-526/', '/home.dokt/vacekpa2/experiments/dev/2023-07-19-00-26-47-577/', '/home.dokt/vacekpa2/experiments/dev/2023-07-19-00-26-47-735/', '/home.dokt/vacekpa2/experiments/dev/2023-07-19-00-26-50-876/', '/home.dokt/vacekpa2/experiments/dev/2023-07-19-00-27-08-000/', '/home.dokt/vacekpa2/experiments/dev/2023-07-19-00-27-08-029/', '/home.dokt/vacekpa2/experiments/dev/2023-07-19-00-27-08-335/', '/home.dokt/vacekpa2/experiments/dev/2023-07-19-00-27-08-458/', '/home.dokt/vacekpa2/experiments/dev/2023-07-19-00-27-08-545/', '/home.dokt/vacekpa2/experiments/dev/2023-07-19-00-27-15-514/', '/home.dokt/vacekpa2/experiments/dev/2023-07-19-00-27-15-529/', '/home.dokt/vacekpa2/experiments/dev/2023-07-19-00-27-26-230/', '/home.dokt/vacekpa2/experiments/dev/2023-07-19-00-27-27-271/', '/home.dokt/vacekpa2/experiments/dev/2023-07-19-00-27-27-390/', '/home.dokt/vacekpa2/experiments/dev/2023-07-19-00-27-27-529/', '/home.dokt/vacekpa2/experiments/dev/2023-07-19-00-27-27-543/', '/home.dokt/vacekpa2/experiments/dev/2023-07-19-00-27-30-838/', '/home.dokt/vacekpa2/experiments/dev/2023-07-19-00-27-31-307/', '/home.dokt/vacekpa2/experiments/dev/2023-07-19-00-27-45-920/', '/home.dokt/vacekpa2/experiments/dev/2023-07-19-00-27-46-437/', '/home.dokt/vacekpa2/experiments/dev/2023-07-19-00-27-46-523/', '/home.dokt/vacekpa2/experiments/dev/2023-07-19-00-27-47-166/', '/home.dokt/vacekpa2/experiments/dev/2023-07-19-00-27-47-341/', '/home.dokt/vacekpa2/experiments/dev/2023-07-19-00-27-49-839/', '/home.dokt/vacekpa2/experiments/dev/2023-07-19-00-27-49-860/', '/home.dokt/vacekpa2/experiments/dev/2023-07-19-00-28-05-901/', '/home.dokt/vacekpa2/experiments/dev/2023-07-19-00-28-06-086/', '/home.dokt/vacekpa2/experiments/dev/2023-07-19-00-28-07-377/', '/home.dokt/vacekpa2/experiments/dev/2023-07-19-00-28-07-394/', '/home.dokt/vacekpa2/experiments/dev/2023-07-19-00-28-07-571/', '/home.dokt/vacekpa2/experiments/dev/2023-07-19-00-28-09-204/', '/home.dokt/vacekpa2/experiments/dev/2023-07-19-00-28-09-546/', '/home.dokt/vacekpa2/experiments/dev/2023-07-19-00-28-25-266/', '/home.dokt/vacekpa2/experiments/dev/2023-07-19-00-28-25-774/', '/home.dokt/vacekpa2/experiments/dev/2023-07-19-00-28-26-981/', '/home.dokt/vacekpa2/experiments/dev/2023-07-19-00-28-27-592/', '/home.dokt/vacekpa2/experiments/dev/2023-07-19-00-28-27-792/', '/home.dokt/vacekpa2/experiments/dev/2023-07-19-00-28-28-314/', '/home.dokt/vacekpa2/experiments/dev/2023-07-19-00-28-28-706/', '/home.dokt/vacekpa2/experiments/dev/2023-07-19-00-28-43-589/', '/home.dokt/vacekpa2/experiments/dev/2023-07-19-00-28-45-755/', '/home.dokt/vacekpa2/experiments/dev/2023-07-19-00-28-47-517/', '/home.dokt/vacekpa2/experiments/dev/2023-07-19-00-28-47-558/', '/home.dokt/vacekpa2/experiments/dev/2023-07-19-00-28-47-852/', '/home.dokt/vacekpa2/experiments/dev/2023-07-19-00-28-48-094/', '/home.dokt/vacekpa2/experiments/dev/2023-07-19-00-28-48-131/', '/home.dokt/vacekpa2/experiments/dev/2023-07-19-00-29-00-893/', '/home.dokt/vacekpa2/experiments/dev/2023-07-19-00-29-04-208/', '/home.dokt/vacekpa2/experiments/dev/2023-07-19-00-29-06-099/', '/home.dokt/vacekpa2/experiments/dev/2023-07-19-00-29-06-553/', '/home.dokt/vacekpa2/experiments/dev/2023-07-19-00-29-06-921/', '/home.dokt/vacekpa2/experiments/dev/2023-07-19-00-29-07-209/', '/home.dokt/vacekpa2/experiments/dev/2023-07-19-00-29-07-330/', '/home.dokt/vacekpa2/experiments/dev/2023-07-19-00-29-17-663/', '/home.dokt/vacekpa2/experiments/dev/2023-07-19-00-29-23-097/', '/home.dokt/vacekpa2/experiments/dev/2023-07-19-00-29-24-855/', '/home.dokt/vacekpa2/experiments/dev/2023-07-19-00-29-25-203/', '/home.dokt/vacekpa2/experiments/dev/2023-07-19-00-29-25-655/', '/home.dokt/vacekpa2/experiments/dev/2023-07-19-00-29-26-336/', '/home.dokt/vacekpa2/experiments/dev/2023-07-19-00-29-26-694/', '/home.dokt/vacekpa2/experiments/dev/2023-07-19-00-29-34-341/', '/home.dokt/vacekpa2/experiments/dev/2023-07-19-00-29-41-820/', '/home.dokt/vacekpa2/experiments/dev/2023-07-19-00-29-43-431/', '/home.dokt/vacekpa2/experiments/dev/2023-07-19-00-29-43-914/', '/home.dokt/vacekpa2/experiments/dev/2023-07-19-00-29-44-181/', '/home.dokt/vacekpa2/experiments/dev/2023-07-19-00-29-44-571/', '/home.dokt/vacekpa2/experiments/dev/2023-07-19-00-29-44-838/', '/home.dokt/vacekpa2/experiments/dev/2023-07-19-00-29-47-956/', '/home.dokt/vacekpa2/experiments/dev/2023-07-19-00-29-53-356/', '/home.dokt/vacekpa2/experiments/dev/2023-07-19-00-29-55-165/', '/home.dokt/vacekpa2/experiments/dev/2023-07-19-00-29-55-666/', '/home.dokt/vacekpa2/experiments/dev/2023-07-19-00-29-55-735/', '/home.dokt/vacekpa2/experiments/dev/2023-07-19-00-29-56-029/', '/home.dokt/vacekpa2/experiments/dev/2023-07-19-00-29-56-308/', '/home.dokt/vacekpa2/experiments/dev/2023-07-19-00-29-59-057/', '/home.dokt/vacekpa2/experiments/dev/2023-07-19-00-30-05-928/', '/home.dokt/vacekpa2/experiments/dev/2023-07-19-00-30-08-842/', '/home.dokt/vacekpa2/experiments/dev/2023-07-19-00-30-10-629/', '/home.dokt/vacekpa2/experiments/dev/2023-07-19-00-30-10-647/', '/home.dokt/vacekpa2/experiments/dev/2023-07-19-00-30-11-142/', '/home.dokt/vacekpa2/experiments/dev/2023-07-19-00-30-12-224/', '/home.dokt/vacekpa2/experiments/dev/2023-07-19-00-30-15-525/', '/home.dokt/vacekpa2/experiments/dev/2023-07-19-00-30-23-395/', '/home.dokt/vacekpa2/experiments/dev/2023-07-19-00-30-28-042/', '/home.dokt/vacekpa2/experiments/dev/2023-07-19-00-30-29-642/', '/home.dokt/vacekpa2/experiments/dev/2023-07-19-00-30-29-731/', '/home.dokt/vacekpa2/experiments/dev/2023-07-19-00-30-30-278/', '/home.dokt/vacekpa2/experiments/dev/2023-07-19-00-30-30-761/', '/home.dokt/vacekpa2/experiments/dev/2023-07-19-00-30-33-915/', '/home.dokt/vacekpa2/experiments/dev/2023-07-19-00-30-36-882/', '/home.dokt/vacekpa2/experiments/dev/2023-07-19-00-30-39-329/', '/home.dokt/vacekpa2/experiments/dev/2023-07-19-00-30-41-667/', '/home.dokt/vacekpa2/experiments/dev/2023-07-19-00-30-41-968/', '/home.dokt/vacekpa2/experiments/dev/2023-07-19-00-30-42-008/', '/home.dokt/vacekpa2/experiments/dev/2023-07-19-00-30-42-273/', '/home.dokt/vacekpa2/experiments/dev/2023-07-19-00-30-44-820/', '/home.dokt/vacekpa2/experiments/dev/2023-07-19-00-30-48-291/', '/home.dokt/vacekpa2/experiments/dev/2023-07-19-00-30-50-586/', '/home.dokt/vacekpa2/experiments/dev/2023-07-19-00-30-53-117/', '/home.dokt/vacekpa2/experiments/dev/2023-07-19-00-30-53-491/', '/home.dokt/vacekpa2/experiments/dev/2023-07-19-00-30-53-509/', '/home.dokt/vacekpa2/experiments/dev/2023-07-19-00-30-53-648/', '/home.dokt/vacekpa2/experiments/dev/2023-07-19-00-30-56-201/', '/home.dokt/vacekpa2/experiments/dev/2023-07-19-00-31-02-997/', '/home.dokt/vacekpa2/experiments/dev/2023-07-19-00-31-08-767/', '/home.dokt/vacekpa2/experiments/dev/2023-07-19-00-31-12-163/', '/home.dokt/vacekpa2/experiments/dev/2023-07-19-00-31-12-649/', '/home.dokt/vacekpa2/experiments/dev/2023-07-19-00-31-12-807/', '/home.dokt/vacekpa2/experiments/dev/2023-07-19-00-31-13-202/', '/home.dokt/vacekpa2/experiments/dev/2023-07-19-00-31-14-902/', '/home.dokt/vacekpa2/experiments/dev/2023-07-19-00-31-19-665/', '/home.dokt/vacekpa2/experiments/dev/2023-07-19-00-31-26-308/', '/home.dokt/vacekpa2/experiments/dev/2023-07-19-00-31-29-112/', '/home.dokt/vacekpa2/experiments/dev/2023-07-19-00-31-29-217/', '/home.dokt/vacekpa2/experiments/dev/2023-07-19-00-31-29-242/', '/home.dokt/vacekpa2/experiments/dev/2023-07-19-00-31-29-445/', '/home.dokt/vacekpa2/experiments/dev/2023-07-19-00-31-30-828/', '/home.dokt/vacekpa2/experiments/dev/2023-07-19-00-31-34-036/', '/home.dokt/vacekpa2/experiments/dev/2023-07-19-00-31-43-753/', '/home.dokt/vacekpa2/experiments/dev/2023-07-19-00-31-47-926/', '/home.dokt/vacekpa2/experiments/dev/2023-07-19-00-31-48-269/', '/home.dokt/vacekpa2/experiments/dev/2023-07-19-00-31-49-313/', '/home.dokt/vacekpa2/experiments/dev/2023-07-19-00-31-49-568/', '/home.dokt/vacekpa2/experiments/dev/2023-07-19-00-31-50-136/', '/home.dokt/vacekpa2/experiments/dev/2023-07-19-00-31-52-124/', '/home.dokt/vacekpa2/experiments/dev/2023-07-19-00-32-00-443/', '/home.dokt/vacekpa2/experiments/dev/2023-07-19-00-32-07-372/', '/home.dokt/vacekpa2/experiments/dev/2023-07-19-00-32-07-470/', '/home.dokt/vacekpa2/experiments/dev/2023-07-19-00-32-09-211/', '/home.dokt/vacekpa2/experiments/dev/2023-07-19-00-32-09-320/', '/home.dokt/vacekpa2/experiments/dev/2023-07-19-00-32-09-331/', '/home.dokt/vacekpa2/experiments/dev/2023-07-19-00-32-10-628/', '/home.dokt/vacekpa2/experiments/dev/2023-07-19-00-32-16-960/', '/home.dokt/vacekpa2/experiments/dev/2023-07-19-00-32-28-282/', '/home.dokt/vacekpa2/experiments/dev/2023-07-19-00-32-28-462/', '/home.dokt/vacekpa2/experiments/dev/2023-07-19-00-32-28-811/', '/home.dokt/vacekpa2/experiments/dev/2023-07-19-00-32-29-186/', '/home.dokt/vacekpa2/experiments/dev/2023-07-19-00-32-29-397/', '/home.dokt/vacekpa2/experiments/dev/2023-07-19-00-32-30-650/', '/home.dokt/vacekpa2/experiments/dev/2023-07-19-00-32-33-543/', '/home.dokt/vacekpa2/experiments/dev/2023-07-19-00-32-40-171/', '/home.dokt/vacekpa2/experiments/dev/2023-07-19-00-32-40-349/', '/home.dokt/vacekpa2/experiments/dev/2023-07-19-00-32-40-791/', '/home.dokt/vacekpa2/experiments/dev/2023-07-19-00-32-41-122/', '/home.dokt/vacekpa2/experiments/dev/2023-07-19-00-32-41-455/', '/home.dokt/vacekpa2/experiments/dev/2023-07-19-00-32-42-142/', '/home.dokt/vacekpa2/experiments/dev/2023-07-19-00-32-44-552/', '/home.dokt/vacekpa2/experiments/dev/2023-07-19-00-32-53-261/', '/home.dokt/vacekpa2/experiments/dev/2023-07-19-00-32-53-922/', '/home.dokt/vacekpa2/experiments/dev/2023-07-19-00-32-54-362/', '/home.dokt/vacekpa2/experiments/dev/2023-07-19-00-32-55-033/', '/home.dokt/vacekpa2/experiments/dev/2023-07-19-00-32-55-734/', '/home.dokt/vacekpa2/experiments/dev/2023-07-19-00-32-56-822/', '/home.dokt/vacekpa2/experiments/dev/2023-07-19-00-33-00-446/', '/home.dokt/vacekpa2/experiments/dev/2023-07-19-00-33-11-847/', '/home.dokt/vacekpa2/experiments/dev/2023-07-19-00-33-13-450/', '/home.dokt/vacekpa2/experiments/dev/2023-07-19-00-33-13-470/', '/home.dokt/vacekpa2/experiments/dev/2023-07-19-00-33-13-910/', '/home.dokt/vacekpa2/experiments/dev/2023-07-19-00-33-14-768/', '/home.dokt/vacekpa2/experiments/dev/2023-07-19-00-33-15-535/', '/home.dokt/vacekpa2/experiments/dev/2023-07-19-00-33-17-874/', '/home.dokt/vacekpa2/experiments/dev/2023-07-19-00-33-29-205/', '/home.dokt/vacekpa2/experiments/dev/2023-07-19-00-33-31-946/', '/home.dokt/vacekpa2/experiments/dev/2023-07-19-00-33-33-387/', '/home.dokt/vacekpa2/experiments/dev/2023-07-19-00-33-33-621/', '/home.dokt/vacekpa2/experiments/dev/2023-07-19-00-33-34-094/', '/home.dokt/vacekpa2/experiments/dev/2023-07-19-00-33-34-442/', '/home.dokt/vacekpa2/experiments/dev/2023-07-19-00-33-36-595/', '/home.dokt/vacekpa2/experiments/dev/2023-07-19-00-33-41-412/', '/home.dokt/vacekpa2/experiments/dev/2023-07-19-00-33-43-516/', '/home.dokt/vacekpa2/experiments/dev/2023-07-19-00-33-45-488/', '/home.dokt/vacekpa2/experiments/dev/2023-07-19-00-33-45-581/', '/home.dokt/vacekpa2/experiments/dev/2023-07-19-00-33-45-798/', '/home.dokt/vacekpa2/experiments/dev/2023-07-19-00-33-46-217/', '/home.dokt/vacekpa2/experiments/dev/2023-07-19-00-33-47-992/', '/home.dokt/vacekpa2/experiments/dev/2023-07-19-00-33-55-416/', '/home.dokt/vacekpa2/experiments/dev/2023-07-19-00-34-01-109/', '/home.dokt/vacekpa2/experiments/dev/2023-07-19-00-34-04-781/', '/home.dokt/vacekpa2/experiments/dev/2023-07-19-00-34-05-073/', '/home.dokt/vacekpa2/experiments/dev/2023-07-19-00-34-05-214/', '/home.dokt/vacekpa2/experiments/dev/2023-07-19-00-34-05-437/', '/home.dokt/vacekpa2/experiments/dev/2023-07-19-00-34-07-072/', '/home.dokt/vacekpa2/experiments/dev/2023-07-19-00-34-12-141/', '/home.dokt/vacekpa2/experiments/dev/2023-07-19-00-34-17-483/', '/home.dokt/vacekpa2/experiments/dev/2023-07-19-00-34-22-850/', '/home.dokt/vacekpa2/experiments/dev/2023-07-19-00-34-23-035/', '/home.dokt/vacekpa2/experiments/dev/2023-07-19-00-34-23-144/', '/home.dokt/vacekpa2/experiments/dev/2023-07-19-00-34-23-441/', '/home.dokt/vacekpa2/experiments/dev/2023-07-19-00-34-24-490/', '/home.dokt/vacekpa2/experiments/dev/2023-07-19-00-34-28-069/', '/home.dokt/vacekpa2/experiments/dev/2023-07-19-00-34-34-047/', '/home.dokt/vacekpa2/experiments/dev/2023-07-19-00-34-41-575/', '/home.dokt/vacekpa2/experiments/dev/2023-07-19-00-34-41-926/', '/home.dokt/vacekpa2/experiments/dev/2023-07-19-00-34-43-270/', '/home.dokt/vacekpa2/experiments/dev/2023-07-19-00-34-43-406/', '/home.dokt/vacekpa2/experiments/dev/2023-07-19-00-34-43-837/', '/home.dokt/vacekpa2/experiments/dev/2023-07-19-00-34-46-023/', '/home.dokt/vacekpa2/experiments/dev/2023-07-19-00-34-49-107/', '/home.dokt/vacekpa2/experiments/dev/2023-07-19-00-34-53-754/', '/home.dokt/vacekpa2/experiments/dev/2023-07-19-00-34-53-802/', '/home.dokt/vacekpa2/experiments/dev/2023-07-19-00-34-54-932/', '/home.dokt/vacekpa2/experiments/dev/2023-07-19-00-34-55-036/', '/home.dokt/vacekpa2/experiments/dev/2023-07-19-00-34-55-135/', '/home.dokt/vacekpa2/experiments/dev/2023-07-19-00-34-58-424/', '/home.dokt/vacekpa2/experiments/dev/2023-07-19-00-35-05-215/', '/home.dokt/vacekpa2/experiments/dev/2023-07-19-00-35-11-523/', '/home.dokt/vacekpa2/experiments/dev/2023-07-19-00-35-12-127/', '/home.dokt/vacekpa2/experiments/dev/2023-07-19-00-35-12-258/', '/home.dokt/vacekpa2/experiments/dev/2023-07-19-00-35-12-394/', '/home.dokt/vacekpa2/experiments/dev/2023-07-19-00-35-15-269/', '/home.dokt/vacekpa2/experiments/dev/2023-07-19-00-35-19-905/', '/home.dokt/vacekpa2/experiments/dev/2023-07-19-00-35-30-112/', '/home.dokt/vacekpa2/experiments/dev/2023-07-19-00-35-31-150/', '/home.dokt/vacekpa2/experiments/dev/2023-07-19-00-35-31-230/', '/home.dokt/vacekpa2/experiments/dev/2023-07-19-00-35-31-527/', '/home.dokt/vacekpa2/experiments/dev/2023-07-19-00-35-33-417/', '/home.dokt/vacekpa2/experiments/dev/2023-07-19-00-35-36-893/', '/home.dokt/vacekpa2/experiments/dev/2023-07-19-00-35-49-234/', '/home.dokt/vacekpa2/experiments/dev/2023-07-19-00-35-50-003/', '/home.dokt/vacekpa2/experiments/dev/2023-07-19-00-35-50-699/', '/home.dokt/vacekpa2/experiments/dev/2023-07-19-00-35-50-812/', '/home.dokt/vacekpa2/experiments/dev/2023-07-19-00-35-52-394/', '/home.dokt/vacekpa2/experiments/dev/2023-07-19-00-35-56-152/', '/home.dokt/vacekpa2/experiments/dev/2023-07-19-00-36-03-604/', '/home.dokt/vacekpa2/experiments/dev/2023-07-19-00-36-03-724/', '/home.dokt/vacekpa2/experiments/dev/2023-07-19-00-36-03-925/', '/home.dokt/vacekpa2/experiments/dev/2023-07-19-00-36-03-970/', '/home.dokt/vacekpa2/experiments/dev/2023-07-19-00-36-04-163/', '/home.dokt/vacekpa2/experiments/dev/2023-07-19-00-36-07-509/', '/home.dokt/vacekpa2/experiments/dev/2023-07-19-00-36-18-104/', '/home.dokt/vacekpa2/experiments/dev/2023-07-19-00-36-18-107/', '/home.dokt/vacekpa2/experiments/dev/2023-07-19-00-36-18-254/', '/home.dokt/vacekpa2/experiments/dev/2023-07-19-00-36-18-297/', '/home.dokt/vacekpa2/experiments/dev/2023-07-19-00-36-18-422/', '/home.dokt/vacekpa2/experiments/dev/2023-07-19-00-36-22-125/', '/home.dokt/vacekpa2/experiments/dev/2023-07-19-00-36-37-738/', '/home.dokt/vacekpa2/experiments/dev/2023-07-19-00-36-37-875/', '/home.dokt/vacekpa2/experiments/dev/2023-07-19-00-36-38-642/', '/home.dokt/vacekpa2/experiments/dev/2023-07-19-00-36-38-652/', '/home.dokt/vacekpa2/experiments/dev/2023-07-19-00-36-38-826/', '/home.dokt/vacekpa2/experiments/dev/2023-07-19-00-36-40-980/', '/home.dokt/vacekpa2/experiments/dev/2023-07-19-00-36-57-315/', '/home.dokt/vacekpa2/experiments/dev/2023-07-19-00-36-59-053/', '/home.dokt/vacekpa2/experiments/dev/2023-07-19-00-36-59-137/', '/home.dokt/vacekpa2/experiments/dev/2023-07-19-00-36-59-434/', '/home.dokt/vacekpa2/experiments/dev/2023-07-19-00-36-59-841/', '/home.dokt/vacekpa2/experiments/dev/2023-07-19-00-37-00-499/', '/home.dokt/vacekpa2/experiments/dev/2023-07-19-00-37-16-581/', '/home.dokt/vacekpa2/experiments/dev/2023-07-19-00-37-19-419/', '/home.dokt/vacekpa2/experiments/dev/2023-07-19-00-37-19-574/', '/home.dokt/vacekpa2/experiments/dev/2023-07-19-00-37-20-248/', '/home.dokt/vacekpa2/experiments/dev/2023-07-19-00-37-20-254/', '/home.dokt/vacekpa2/experiments/dev/2023-07-19-00-37-20-277/', '/home.dokt/vacekpa2/experiments/dev/2023-07-19-00-37-35-373/', '/home.dokt/vacekpa2/experiments/dev/2023-07-19-00-37-38-605/', '/home.dokt/vacekpa2/experiments/dev/2023-07-19-00-37-39-235/', '/home.dokt/vacekpa2/experiments/dev/2023-07-19-00-37-39-695/', '/home.dokt/vacekpa2/experiments/dev/2023-07-19-00-37-39-871/', '/home.dokt/vacekpa2/experiments/dev/2023-07-19-00-37-39-909/', '/home.dokt/vacekpa2/experiments/dev/2023-07-19-00-37-53-690/', '/home.dokt/vacekpa2/experiments/dev/2023-07-19-00-37-56-157/', '/home.dokt/vacekpa2/experiments/dev/2023-07-19-00-37-56-205/', '/home.dokt/vacekpa2/experiments/dev/2023-07-19-00-37-56-369/', '/home.dokt/vacekpa2/experiments/dev/2023-07-19-00-37-56-655/', '/home.dokt/vacekpa2/experiments/dev/2023-07-19-00-37-56-662/', '/home.dokt/vacekpa2/experiments/dev/2023-07-19-00-38-05-179/', '/home.dokt/vacekpa2/experiments/dev/2023-07-19-00-38-07-946/', '/home.dokt/vacekpa2/experiments/dev/2023-07-19-00-38-08-008/', '/home.dokt/vacekpa2/experiments/dev/2023-07-19-00-38-08-156/', '/home.dokt/vacekpa2/experiments/dev/2023-07-19-00-38-08-236/', '/home.dokt/vacekpa2/experiments/dev/2023-07-19-00-38-08-294/', '/home.dokt/vacekpa2/experiments/dev/2023-07-19-00-38-22-464/', '/home.dokt/vacekpa2/experiments/dev/2023-07-19-00-38-26-564/', '/home.dokt/vacekpa2/experiments/dev/2023-07-19-00-38-26-591/', '/home.dokt/vacekpa2/experiments/dev/2023-07-19-00-38-27-438/', '/home.dokt/vacekpa2/experiments/dev/2023-07-19-00-38-27-466/', '/home.dokt/vacekpa2/experiments/dev/2023-07-19-00-38-27-485/', '/home.dokt/vacekpa2/experiments/dev/2023-07-19-00-38-38-798/', '/home.dokt/vacekpa2/experiments/dev/2023-07-19-00-38-45-696/', '/home.dokt/vacekpa2/experiments/dev/2023-07-19-00-38-46-092/', '/home.dokt/vacekpa2/experiments/dev/2023-07-19-00-38-46-113/', '/home.dokt/vacekpa2/experiments/dev/2023-07-19-00-38-46-274/', '/home.dokt/vacekpa2/experiments/dev/2023-07-19-00-38-46-650/', '/home.dokt/vacekpa2/experiments/dev/2023-07-19-00-38-50-781/', '/home.dokt/vacekpa2/experiments/dev/2023-07-19-00-38-57-042/', '/home.dokt/vacekpa2/experiments/dev/2023-07-19-00-38-57-409/', '/home.dokt/vacekpa2/experiments/dev/2023-07-19-00-38-57-633/', '/home.dokt/vacekpa2/experiments/dev/2023-07-19-00-38-57-738/', '/home.dokt/vacekpa2/experiments/dev/2023-07-19-00-38-58-135/', '/home.dokt/vacekpa2/experiments/dev/2023-07-19-00-39-01-658/', '/home.dokt/vacekpa2/experiments/dev/2023-07-19-00-39-08-786/', '/home.dokt/vacekpa2/experiments/dev/2023-07-19-00-39-09-031/', '/home.dokt/vacekpa2/experiments/dev/2023-07-19-00-39-09-439/', '/home.dokt/vacekpa2/experiments/dev/2023-07-19-00-39-09-512/', '/home.dokt/vacekpa2/experiments/dev/2023-07-19-00-39-09-557/', '/home.dokt/vacekpa2/experiments/dev/2023-07-19-00-39-12-932/', '/home.dokt/vacekpa2/experiments/dev/2023-07-19-00-39-20-609/', '/home.dokt/vacekpa2/experiments/dev/2023-07-19-00-39-20-855/', '/home.dokt/vacekpa2/experiments/dev/2023-07-19-00-39-21-070/', '/home.dokt/vacekpa2/experiments/dev/2023-07-19-00-39-21-079/', '/home.dokt/vacekpa2/experiments/dev/2023-07-19-00-39-21-193/', '/home.dokt/vacekpa2/experiments/dev/2023-07-19-00-39-24-169/', '/home.dokt/vacekpa2/experiments/dev/2023-07-19-00-39-32-025/', '/home.dokt/vacekpa2/experiments/dev/2023-07-19-00-39-32-355/', '/home.dokt/vacekpa2/experiments/dev/2023-07-19-00-39-32-772/', '/home.dokt/vacekpa2/experiments/dev/2023-07-19-00-39-32-804/', '/home.dokt/vacekpa2/experiments/dev/2023-07-19-00-39-32-850/', '/home.dokt/vacekpa2/experiments/dev/2023-07-19-00-39-35-572/', '/home.dokt/vacekpa2/experiments/dev/2023-07-19-00-39-43-706/', '/home.dokt/vacekpa2/experiments/dev/2023-07-19-00-39-43-887/', '/home.dokt/vacekpa2/experiments/dev/2023-07-19-00-39-44-338/', '/home.dokt/vacekpa2/experiments/dev/2023-07-19-00-39-44-371/', '/home.dokt/vacekpa2/experiments/dev/2023-07-19-00-39-44-605/', '/home.dokt/vacekpa2/experiments/dev/2023-07-19-00-39-46-675/', '/home.dokt/vacekpa2/experiments/dev/2023-07-19-00-39-55-204/', '/home.dokt/vacekpa2/experiments/dev/2023-07-19-00-39-55-310/', '/home.dokt/vacekpa2/experiments/dev/2023-07-19-00-39-55-670/', '/home.dokt/vacekpa2/experiments/dev/2023-07-19-00-39-56-056/', '/home.dokt/vacekpa2/experiments/dev/2023-07-19-00-39-56-163/', '/home.dokt/vacekpa2/experiments/dev/2023-07-19-00-39-57-936/', '/home.dokt/vacekpa2/experiments/dev/2023-07-19-00-40-06-545/', '/home.dokt/vacekpa2/experiments/dev/2023-07-19-00-40-06-769/', '/home.dokt/vacekpa2/experiments/dev/2023-07-19-00-40-07-028/', '/home.dokt/vacekpa2/experiments/dev/2023-07-19-00-40-07-724/', '/home.dokt/vacekpa2/experiments/dev/2023-07-19-00-40-07-748/', '/home.dokt/vacekpa2/experiments/dev/2023-07-19-00-40-09-604/', '/home.dokt/vacekpa2/experiments/dev/2023-07-19-00-40-18-232/', '/home.dokt/vacekpa2/experiments/dev/2023-07-19-00-40-18-361/', '/home.dokt/vacekpa2/experiments/dev/2023-07-19-00-40-18-533/', '/home.dokt/vacekpa2/experiments/dev/2023-07-19-00-40-18-967/', '/home.dokt/vacekpa2/experiments/dev/2023-07-19-00-40-19-251/', '/home.dokt/vacekpa2/experiments/dev/2023-07-19-00-40-21-209/', '/home.dokt/vacekpa2/experiments/dev/2023-07-19-00-40-36-598/', '/home.dokt/vacekpa2/experiments/dev/2023-07-19-00-40-36-953/', '/home.dokt/vacekpa2/experiments/dev/2023-07-19-00-40-37-572/', '/home.dokt/vacekpa2/experiments/dev/2023-07-19-00-40-38-295/', '/home.dokt/vacekpa2/experiments/dev/2023-07-19-00-40-38-596/', '/home.dokt/vacekpa2/experiments/dev/2023-07-19-00-40-39-634/', '/home.dokt/vacekpa2/experiments/dev/2023-07-19-00-40-48-419/', '/home.dokt/vacekpa2/experiments/dev/2023-07-19-00-40-48-802/', '/home.dokt/vacekpa2/experiments/dev/2023-07-19-00-40-49-080/', '/home.dokt/vacekpa2/experiments/dev/2023-07-19-00-40-50-297/', '/home.dokt/vacekpa2/experiments/dev/2023-07-19-00-40-50-350/', '/home.dokt/vacekpa2/experiments/dev/2023-07-19-00-40-50-919/', '/home.dokt/vacekpa2/experiments/dev/2023-07-19-00-40-59-922/', '/home.dokt/vacekpa2/experiments/dev/2023-07-19-00-41-00-325/', '/home.dokt/vacekpa2/experiments/dev/2023-07-19-00-41-00-878/', '/home.dokt/vacekpa2/experiments/dev/2023-07-19-00-41-01-826/', '/home.dokt/vacekpa2/experiments/dev/2023-07-19-00-41-01-906/', '/home.dokt/vacekpa2/experiments/dev/2023-07-19-00-41-02-026/', '/home.dokt/vacekpa2/experiments/dev/2023-07-19-00-41-16-449/', '/home.dokt/vacekpa2/experiments/dev/2023-07-19-00-41-17-819/', '/home.dokt/vacekpa2/experiments/dev/2023-07-19-00-41-19-783/', '/home.dokt/vacekpa2/experiments/dev/2023-07-19-00-41-20-416/', '/home.dokt/vacekpa2/experiments/dev/2023-07-19-00-41-21-071/', '/home.dokt/vacekpa2/experiments/dev/2023-07-19-00-41-21-116/', '/home.dokt/vacekpa2/experiments/dev/2023-07-19-00-41-32-604/', '/home.dokt/vacekpa2/experiments/dev/2023-07-19-00-41-33-617/', '/home.dokt/vacekpa2/experiments/dev/2023-07-19-00-41-34-666/', '/home.dokt/vacekpa2/experiments/dev/2023-07-19-00-41-34-751/', '/home.dokt/vacekpa2/experiments/dev/2023-07-19-00-41-35-087/', '/home.dokt/vacekpa2/experiments/dev/2023-07-19-00-41-35-266/', '/home.dokt/vacekpa2/experiments/dev/2023-07-19-00-41-44-005/', '/home.dokt/vacekpa2/experiments/dev/2023-07-19-00-41-45-615/', '/home.dokt/vacekpa2/experiments/dev/2023-07-19-00-41-46-321/', '/home.dokt/vacekpa2/experiments/dev/2023-07-19-00-41-46-609/', '/home.dokt/vacekpa2/experiments/dev/2023-07-19-00-41-46-875/', '/home.dokt/vacekpa2/experiments/dev/2023-07-19-00-41-47-030/', '/home.dokt/vacekpa2/experiments/dev/2023-07-19-00-41-55-714/', '/home.dokt/vacekpa2/experiments/dev/2023-07-19-00-41-57-446/', '/home.dokt/vacekpa2/experiments/dev/2023-07-19-00-41-58-231/', '/home.dokt/vacekpa2/experiments/dev/2023-07-19-00-41-58-409/', '/home.dokt/vacekpa2/experiments/dev/2023-07-19-00-41-58-450/', '/home.dokt/vacekpa2/experiments/dev/2023-07-19-00-42-06-722/', '/home.dokt/vacekpa2/experiments/dev/2023-07-19-00-42-08-807/', '/home.dokt/vacekpa2/experiments/dev/2023-07-19-00-42-09-989/', '/home.dokt/vacekpa2/experiments/dev/2023-07-19-00-42-09-996/', '/home.dokt/vacekpa2/experiments/dev/2023-07-19-00-42-10-006/', '/home.dokt/vacekpa2/experiments/dev/2023-07-19-00-42-18-224/', '/home.dokt/vacekpa2/experiments/dev/2023-07-19-00-42-20-498/', '/home.dokt/vacekpa2/experiments/dev/2023-07-19-00-42-21-382/', '/home.dokt/vacekpa2/experiments/dev/2023-07-19-00-42-21-652/', '/home.dokt/vacekpa2/experiments/dev/2023-07-19-00-42-21-663/', '/home.dokt/vacekpa2/experiments/dev/2023-07-19-00-42-29-428/', '/home.dokt/vacekpa2/experiments/dev/2023-07-19-00-42-31-929/', '/home.dokt/vacekpa2/experiments/dev/2023-07-19-00-42-32-523/', '/home.dokt/vacekpa2/experiments/dev/2023-07-19-00-42-32-993/', '/home.dokt/vacekpa2/experiments/dev/2023-07-19-00-42-33-243/', '/home.dokt/vacekpa2/experiments/dev/2023-07-19-00-42-40-156/', '/home.dokt/vacekpa2/experiments/dev/2023-07-19-00-42-45-492/', '/home.dokt/vacekpa2/experiments/dev/2023-07-19-00-42-45-987/', '/home.dokt/vacekpa2/experiments/dev/2023-07-19-00-42-46-987/', '/home.dokt/vacekpa2/experiments/dev/2023-07-19-00-42-47-341/', '/home.dokt/vacekpa2/experiments/dev/2023-07-19-00-42-55-705/', '/home.dokt/vacekpa2/experiments/dev/2023-07-19-00-43-03-135/', '/home.dokt/vacekpa2/experiments/dev/2023-07-19-00-43-03-409/', '/home.dokt/vacekpa2/experiments/dev/2023-07-19-00-43-04-883/', '/home.dokt/vacekpa2/experiments/dev/2023-07-19-00-43-05-372/', '/home.dokt/vacekpa2/experiments/dev/2023-07-19-00-43-11-260/', '/home.dokt/vacekpa2/experiments/dev/2023-07-19-00-43-21-277/', '/home.dokt/vacekpa2/experiments/dev/2023-07-19-00-43-21-857/', '/home.dokt/vacekpa2/experiments/dev/2023-07-19-00-43-22-613/', '/home.dokt/vacekpa2/experiments/dev/2023-07-19-00-43-22-987/', '/home.dokt/vacekpa2/experiments/dev/2023-07-19-00-43-27-277/', '/home.dokt/vacekpa2/experiments/dev/2023-07-19-00-43-39-135/', '/home.dokt/vacekpa2/experiments/dev/2023-07-19-00-43-40-846/', '/home.dokt/vacekpa2/experiments/dev/2023-07-19-00-43-41-084/', '/home.dokt/vacekpa2/experiments/dev/2023-07-19-00-43-41-470/', '/home.dokt/vacekpa2/experiments/dev/2023-07-19-00-43-44-594/', '/home.dokt/vacekpa2/experiments/dev/2023-07-19-00-43-57-277/', '/home.dokt/vacekpa2/experiments/dev/2023-07-19-00-43-59-856/', '/home.dokt/vacekpa2/experiments/dev/2023-07-19-00-44-00-004/', '/home.dokt/vacekpa2/experiments/dev/2023-07-19-00-44-00-116/', '/home.dokt/vacekpa2/experiments/dev/2023-07-19-00-44-02-133/', '/home.dokt/vacekpa2/experiments/dev/2023-07-19-00-44-15-548/', '/home.dokt/vacekpa2/experiments/dev/2023-07-19-00-44-18-217/', '/home.dokt/vacekpa2/experiments/dev/2023-07-19-00-44-18-564/', '/home.dokt/vacekpa2/experiments/dev/2023-07-19-00-44-19-034/', '/home.dokt/vacekpa2/experiments/dev/2023-07-19-00-44-20-046/', '/home.dokt/vacekpa2/experiments/dev/2023-07-19-00-44-33-585/', '/home.dokt/vacekpa2/experiments/dev/2023-07-19-00-44-37-061/', '/home.dokt/vacekpa2/experiments/dev/2023-07-19-00-44-37-512/', '/home.dokt/vacekpa2/experiments/dev/2023-07-19-00-44-37-516/', '/home.dokt/vacekpa2/experiments/dev/2023-07-19-00-44-38-036/', '/home.dokt/vacekpa2/experiments/dev/2023-07-19-00-44-51-295/', '/home.dokt/vacekpa2/experiments/dev/2023-07-19-00-44-55-354/', '/home.dokt/vacekpa2/experiments/dev/2023-07-19-00-44-55-491/', '/home.dokt/vacekpa2/experiments/dev/2023-07-19-00-44-55-576/', '/home.dokt/vacekpa2/experiments/dev/2023-07-19-00-44-55-602/', '/home.dokt/vacekpa2/experiments/dev/2023-07-19-00-45-02-494/', '/home.dokt/vacekpa2/experiments/dev/2023-07-19-00-45-07-247/', '/home.dokt/vacekpa2/experiments/dev/2023-07-19-00-45-07-436/', '/home.dokt/vacekpa2/experiments/dev/2023-07-19-00-45-07-501/', '/home.dokt/vacekpa2/experiments/dev/2023-07-19-00-45-07-582/', '/home.dokt/vacekpa2/experiments/dev/2023-07-19-00-45-13-701/', '/home.dokt/vacekpa2/experiments/dev/2023-07-19-00-45-18-562/', '/home.dokt/vacekpa2/experiments/dev/2023-07-19-00-45-18-998/', '/home.dokt/vacekpa2/experiments/dev/2023-07-19-00-45-19-111/', '/home.dokt/vacekpa2/experiments/dev/2023-07-19-00-45-19-158/', '/home.dokt/vacekpa2/experiments/dev/2023-07-19-00-45-24-444/', '/home.dokt/vacekpa2/experiments/dev/2023-07-19-00-45-29-785/', '/home.dokt/vacekpa2/experiments/dev/2023-07-19-00-45-30-366/', '/home.dokt/vacekpa2/experiments/dev/2023-07-19-00-45-30-535/', '/home.dokt/vacekpa2/experiments/dev/2023-07-19-00-45-30-672/', '/home.dokt/vacekpa2/experiments/dev/2023-07-19-00-45-35-421/', '/home.dokt/vacekpa2/experiments/dev/2023-07-19-00-45-41-070/', '/home.dokt/vacekpa2/experiments/dev/2023-07-19-00-45-41-757/', '/home.dokt/vacekpa2/experiments/dev/2023-07-19-00-45-41-933/', '/home.dokt/vacekpa2/experiments/dev/2023-07-19-00-45-46-247/', '/home.dokt/vacekpa2/experiments/dev/2023-07-19-00-45-52-427/', '/home.dokt/vacekpa2/experiments/dev/2023-07-19-00-45-53-066/', '/home.dokt/vacekpa2/experiments/dev/2023-07-19-00-45-53-108/', '/home.dokt/vacekpa2/experiments/dev/2023-07-19-00-45-58-799/', '/home.dokt/vacekpa2/experiments/dev/2023-07-19-00-46-10-746/', '/home.dokt/vacekpa2/experiments/dev/2023-07-19-00-46-11-210/', '/home.dokt/vacekpa2/experiments/dev/2023-07-19-00-46-11-396/', '/home.dokt/vacekpa2/experiments/dev/2023-07-19-00-46-15-819/', '/home.dokt/vacekpa2/experiments/dev/2023-07-19-00-46-28-555/', '/home.dokt/vacekpa2/experiments/dev/2023-07-19-00-46-28-566/', '/home.dokt/vacekpa2/experiments/dev/2023-07-19-00-46-29-686/', '/home.dokt/vacekpa2/experiments/dev/2023-07-19-00-46-33-382/', '/home.dokt/vacekpa2/experiments/dev/2023-07-19-00-46-45-630/', '/home.dokt/vacekpa2/experiments/dev/2023-07-19-00-46-46-969/', '/home.dokt/vacekpa2/experiments/dev/2023-07-19-00-46-47-972/', '/home.dokt/vacekpa2/experiments/dev/2023-07-19-00-46-50-140/', '/home.dokt/vacekpa2/experiments/dev/2023-07-19-00-47-03-023/', '/home.dokt/vacekpa2/experiments/dev/2023-07-19-00-47-04-800/', '/home.dokt/vacekpa2/experiments/dev/2023-07-19-00-47-04-942/', '/home.dokt/vacekpa2/experiments/dev/2023-07-19-00-47-07-076/', '/home.dokt/vacekpa2/experiments/dev/2023-07-19-00-47-20-108/', '/home.dokt/vacekpa2/experiments/dev/2023-07-19-00-47-23-228/', '/home.dokt/vacekpa2/experiments/dev/2023-07-19-00-47-23-357/', '/home.dokt/vacekpa2/experiments/dev/2023-07-19-00-47-24-823/', '/home.dokt/vacekpa2/experiments/dev/2023-07-19-00-47-36-858/', '/home.dokt/vacekpa2/experiments/dev/2023-07-19-00-47-40-930/', '/home.dokt/vacekpa2/experiments/dev/2023-07-19-00-47-41-515/', '/home.dokt/vacekpa2/experiments/dev/2023-07-19-00-47-53-963/', '/home.dokt/vacekpa2/experiments/dev/2023-07-19-00-47-57-642/']\n"
     ]
    }
   ],
   "source": [
    "\n"
   ],
   "metadata": {
    "collapsed": false,
    "ExecuteTime": {
     "end_time": "2023-07-19T07:43:51.545806827Z",
     "start_time": "2023-07-19T07:43:51.475638430Z"
    }
   }
  }
 ],
 "metadata": {
  "kernelspec": {
   "display_name": "Python 3",
   "language": "python",
   "name": "python3"
  },
  "language_info": {
   "codemirror_mode": {
    "name": "ipython",
    "version": 2
   },
   "file_extension": ".py",
   "mimetype": "text/x-python",
   "name": "python",
   "nbconvert_exporter": "python",
   "pygments_lexer": "ipython2",
   "version": "2.7.6"
  }
 },
 "nbformat": 4,
 "nbformat_minor": 0
}
