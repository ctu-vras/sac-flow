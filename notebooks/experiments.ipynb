{
 "cells": [
  {
   "cell_type": "markdown",
   "source": [
    "# Experiments"
   ],
   "metadata": {
    "collapsed": false
   }
  },
  {
   "cell_type": "code",
   "execution_count": 27,
   "outputs": [
    {
     "name": "stdout",
     "output_type": "stream",
     "text": [
      "argoverse\n"
     ]
    },
    {
     "name": "stderr",
     "output_type": "stream",
     "text": [
      "0it [00:10, ?it/s]\n"
     ]
    },
    {
     "name": "stdout",
     "output_type": "stream",
     "text": [
      "                        0\n",
      "EPE3D            0.038810\n",
      "acc3d_strict     0.858602\n",
      "acc3d_relax      0.972903\n",
      "angle_error      0.030154\n",
      "outlier          0.027381\n",
      "avg_solver_time  7.960973\n"
     ]
    }
   ],
   "source": [
    "import os\n",
    "import pandas as pd\n",
    "import time\n",
    "import torch\n",
    "from configs.models import SCOOP_cfg, NeuralPrior_cfg\n",
    "from data.gpu_utils import get_free_gpu_indices\n",
    "from pipeline.run_utils import run_experiment\n",
    "\n",
    "# load cfg list from csv later? or just permute variables\n",
    "cfg_list = [#{**SCOOP_cfg, 'affiliation' : 'baseline', 'smooth_weight' : 1},\n",
    "            {**NeuralPrior_cfg, 'affiliation' : 'ours', 'sm_normals_K' : 5, 'K' : 4, 'smooth_weight' : 1., 'forward_weight' : 1, 'free_weight' : 1, 'pc2_smooth' : 1, 'VA' : 1},\n",
    "            ]\n",
    "\n",
    "import subprocess\n",
    "DETACH = 0\n",
    "# tohle cele do subprocessu ve funkci potom #\n",
    "\n",
    "\n",
    "\n",
    "for cfg in cfg_list:\n",
    "\n",
    "    while len(get_free_gpu_indices()) == 0:\n",
    "        print('waiting for gpu')\n",
    "        time.sleep(20)\n",
    "\n",
    "    # for dataset in ['kitti_o', 'kitti_t', 'argoverse', 'nuscenes', 'waymo']:\n",
    "    for dataset in ['argoverse']:\n",
    "\n",
    "        cfg['dataset'] = dataset\n",
    "        cfg['iters'] = 100\n",
    "        # cfg['lr'] = 0.008\n",
    "        cfg['dev'] = 1\n",
    "        # cfg['vis'] = 1\n",
    "        # print(dataset)\n",
    "        run_experiment(cfg, DETACH=DETACH)\n",
    "\n",
    "    # time.sleep(5)\n",
    "\n",
    "    # break"
   ],
   "metadata": {
    "collapsed": false,
    "ExecuteTime": {
     "end_time": "2023-07-18T18:37:17.423065848Z",
     "start_time": "2023-07-18T18:36:59.321927464Z"
    }
   }
  },
  {
   "cell_type": "markdown",
   "source": [
    "# notes\n",
    "- SCOOP wont generalize to other real world datasets (Cross-dataset evaluation) - performance on argoverse is bad, retraining?\n",
    "    - \"It extracts discriminative features, which transfer well across the FT3Do and KITTIo datasets, and enables to compute the correspondence-based flow between the point clouds\"\n",
    "    - We dont have advantage in that, but this kinda justifies the results on argoverse without fine-tunning?\n",
    "    - KittiSF is bijection, that is why it works very good in SCOOP\n",
    "- https://arxiv.org/pdf/2305.02528.pdf cite baseline\n",
    "- Pouceni z reimplementace\n",
    "    - Asi to fakt chce delat krok po kroku uz odzacatku? Tim mysleno testovat vsechno krok po kroku kdyz se prevezmou funkce\n",
    "    - Izolovat (rozumet tem krokum, jinak je proste nedelat, opravdu nedelat)\n",
    "    - Skvely je mit ten framework udelany podle toho, co opravdu clovek delat\n",
    "    - Nejlepsi je mit vsechno v jednom editoru viz. poustet pre python subprocessy, jinak prepinani zpomaluje a nici to framework workflow\n"
   ],
   "metadata": {
    "collapsed": false
   }
  },
  {
   "cell_type": "code",
   "execution_count": 12,
   "outputs": [
    {
     "data": {
      "text/plain": "          model  smooth_weight  forward_weight  free_weight   VA  \\\n0   NeuralPrior            0.0             0.0          0.0  0.0   \n1         SCOOP           10.0             0.0          0.0  0.0   \n2   NeuralPrior            0.0             0.0          0.0  0.0   \n3         SCOOP           10.0             0.0          0.0  0.0   \n4   NeuralPrior            0.0             0.0          0.0  0.0   \n5         SCOOP           10.0             0.0          0.0  0.0   \n6         SCOOP           10.0             0.0          0.0  0.0   \n7   NeuralPrior            0.0             0.0          0.0  1.0   \n8   NeuralPrior            0.0             0.0          1.0  0.0   \n9   NeuralPrior            0.0             0.0          0.0  1.0   \n10        SCOOP           10.0             0.0          0.0  1.0   \n11  NeuralPrior            0.0             0.0          1.0  0.0   \n12  NeuralPrior            0.0             0.0          1.0  0.0   \n13  NeuralPrior            1.0             0.0          1.0  1.0   \n14  NeuralPrior            0.0             0.0          1.0  1.0   \n15  NeuralPrior            0.0             0.0          1.0  1.0   \n16  NeuralPrior            0.0             1.0          0.0  0.0   \n17  NeuralPrior            1.0             0.0          0.0  0.0   \n18  NeuralPrior            1.0             0.0          0.0  1.0   \n19  NeuralPrior            1.0            10.0          1.0  1.0   \n20  NeuralPrior            1.0             0.0          0.0  1.0   \n21  NeuralPrior            1.0             0.0          1.0  0.0   \n22  NeuralPrior            0.0             0.0          1.0  1.0   \n23  NeuralPrior            0.0             1.0          0.0  0.0   \n24  NeuralPrior            1.0             0.0          1.0  1.0   \n25  NeuralPrior            0.0             1.0          0.0  0.0   \n26  NeuralPrior            0.0             1.0          0.0  0.0   \n27  NeuralPrior            0.0             1.0          0.0  1.0   \n28  NeuralPrior            0.0             1.0          1.0  0.0   \n29  NeuralPrior            0.0             1.0          0.0  1.0   \n30  NeuralPrior            1.0             1.0          1.0  0.0   \n31  NeuralPrior            1.0             1.0          0.0  0.0   \n32  NeuralPrior            0.0             1.0          1.0  0.0   \n33  NeuralPrior            1.0             1.0          1.0  1.0   \n34  NeuralPrior            1.0             1.0          0.0  1.0   \n35  NeuralPrior            0.0             1.0          1.0  1.0   \n\n    sm_normals_K  pc2_smooth       aff     EPE3D  acc3d_strict  acc3d_relax  \\\n0           12.0         0.0  baseline  0.031388      0.929155     0.972877   \n1            0.0         0.0  baseline  0.026057      0.975231     0.984227   \n2            0.0         0.0  baseline  0.033551      0.919470     0.971969   \n3            8.0         0.0      ours  0.023097      0.984326     0.990027   \n4            5.0         0.0  baseline  0.034959      0.919604     0.969014   \n5            5.0         0.0      ours  0.022816      0.984743     0.990509   \n6           12.0         0.0      ours  0.025030      0.974226     0.987089   \n7            0.0         0.0      ours  0.036241      0.923736     0.975314   \n8            5.0         0.0      ours  0.033633      0.925779     0.974847   \n9           12.0         0.0      ours  0.033999      0.913492     0.967258   \n10           8.0         0.0      ours  0.024602      0.980852     0.987053   \n11           0.0         0.0      ours  0.035316      0.923393     0.976388   \n12          12.0         0.0      ours  0.035577      0.905084     0.968211   \n13           5.0         0.0      ours  0.036910      0.925500     0.975073   \n14           0.0         0.0      ours  0.033657      0.932761     0.974482   \n15          12.0         0.0      ours  0.037052      0.909292     0.976365   \n16           5.0         0.0      ours  0.034017      0.912525     0.972573   \n17           0.0         0.0      ours  0.033211      0.927848     0.969473   \n18          12.0         0.0      ours  0.034297      0.906935     0.979732   \n19           5.0         1.0      ours  0.036118      0.917010     0.974301   \n20           0.0         0.0      ours  0.032401      0.941521     0.980152   \n21          12.0         0.0      ours  0.037686      0.893212     0.970410   \n22           8.0         0.0      ours  0.033680      0.920763     0.974601   \n23           0.0         1.0      ours  0.031489      0.929052     0.978931   \n24          12.0         0.0      ours  0.032848      0.903581     0.967098   \n25           8.0         0.0      ours  0.030415      0.928995     0.980751   \n26          12.0         0.0      ours  0.032318      0.939043     0.977501   \n27           0.0         1.0      ours  0.035687      0.924861     0.976536   \n28           8.0         0.0      ours  0.038944      0.915358     0.962750   \n29          12.0         0.0      ours  0.034822      0.917388     0.962508   \n30           0.0         1.0      ours  0.034111      0.925418     0.975364   \n31           8.0         0.0      ours  0.035844      0.911051     0.970815   \n32          12.0         0.0      ours  0.034939      0.927630     0.971362   \n33           0.0         1.0      ours  0.035216      0.897243     0.962339   \n34           8.0         0.0      ours  0.031470      0.951886     0.978636   \n35          12.0         0.0      ours  0.036599      0.927178     0.959409   \n\n    angle_error   outlier  avg_solver_time  \n0      0.115838  0.128048         4.622328  \n1      0.114114  0.117224         5.368425  \n2      0.114330  0.150986         4.484728  \n3      0.112887  0.113755         5.209332  \n4      0.118163  0.126600         4.684026  \n5      0.112907  0.112918         5.179033  \n6      0.113150  0.117825         5.097438  \n7      0.119792  0.132228         4.724208  \n8      0.118056  0.136041         5.511823  \n9      0.116179  0.122686         4.794366  \n10     0.113266  0.113966         5.445476  \n11     0.114630  0.125829         4.978976  \n12     0.115456  0.134386         5.373517  \n13     0.118615  0.140676         5.772818  \n14     0.114768  0.131451         5.195485  \n15     0.123144  0.148119         5.547919  \n16     0.119659  0.144814         5.859365  \n17     0.118722  0.144235         5.126230  \n18     0.122173  0.145847         5.502527  \n19     0.116616  0.136645         8.190328  \n20     0.115745  0.132051         5.511011  \n21     0.122628  0.147773         4.957219  \n22     0.116215  0.123122         5.210265  \n23     0.114924  0.129409         7.347296  \n24     0.118037  0.143260         5.818592  \n25     0.117585  0.136693         6.267474  \n26     0.117117  0.132129         6.437127  \n27     0.127156  0.144719         7.475617  \n28     0.121781  0.145579         6.171540  \n29     0.113173  0.139400         6.257996  \n30     0.118097  0.139213         7.813235  \n31     0.124374  0.139635         6.069277  \n32     0.115479  0.121325         6.663709  \n33     0.118188  0.141945         9.018140  \n34     0.115588  0.135347         6.827845  \n35     0.121521  0.146351         6.723748  ",
      "text/html": "<div>\n<style scoped>\n    .dataframe tbody tr th:only-of-type {\n        vertical-align: middle;\n    }\n\n    .dataframe tbody tr th {\n        vertical-align: top;\n    }\n\n    .dataframe thead th {\n        text-align: right;\n    }\n</style>\n<table border=\"1\" class=\"dataframe\">\n  <thead>\n    <tr style=\"text-align: right;\">\n      <th></th>\n      <th>model</th>\n      <th>smooth_weight</th>\n      <th>forward_weight</th>\n      <th>free_weight</th>\n      <th>VA</th>\n      <th>sm_normals_K</th>\n      <th>pc2_smooth</th>\n      <th>aff</th>\n      <th>EPE3D</th>\n      <th>acc3d_strict</th>\n      <th>acc3d_relax</th>\n      <th>angle_error</th>\n      <th>outlier</th>\n      <th>avg_solver_time</th>\n    </tr>\n  </thead>\n  <tbody>\n    <tr>\n      <th>0</th>\n      <td>NeuralPrior</td>\n      <td>0.0</td>\n      <td>0.0</td>\n      <td>0.0</td>\n      <td>0.0</td>\n      <td>12.0</td>\n      <td>0.0</td>\n      <td>baseline</td>\n      <td>0.031388</td>\n      <td>0.929155</td>\n      <td>0.972877</td>\n      <td>0.115838</td>\n      <td>0.128048</td>\n      <td>4.622328</td>\n    </tr>\n    <tr>\n      <th>1</th>\n      <td>SCOOP</td>\n      <td>10.0</td>\n      <td>0.0</td>\n      <td>0.0</td>\n      <td>0.0</td>\n      <td>0.0</td>\n      <td>0.0</td>\n      <td>baseline</td>\n      <td>0.026057</td>\n      <td>0.975231</td>\n      <td>0.984227</td>\n      <td>0.114114</td>\n      <td>0.117224</td>\n      <td>5.368425</td>\n    </tr>\n    <tr>\n      <th>2</th>\n      <td>NeuralPrior</td>\n      <td>0.0</td>\n      <td>0.0</td>\n      <td>0.0</td>\n      <td>0.0</td>\n      <td>0.0</td>\n      <td>0.0</td>\n      <td>baseline</td>\n      <td>0.033551</td>\n      <td>0.919470</td>\n      <td>0.971969</td>\n      <td>0.114330</td>\n      <td>0.150986</td>\n      <td>4.484728</td>\n    </tr>\n    <tr>\n      <th>3</th>\n      <td>SCOOP</td>\n      <td>10.0</td>\n      <td>0.0</td>\n      <td>0.0</td>\n      <td>0.0</td>\n      <td>8.0</td>\n      <td>0.0</td>\n      <td>ours</td>\n      <td>0.023097</td>\n      <td>0.984326</td>\n      <td>0.990027</td>\n      <td>0.112887</td>\n      <td>0.113755</td>\n      <td>5.209332</td>\n    </tr>\n    <tr>\n      <th>4</th>\n      <td>NeuralPrior</td>\n      <td>0.0</td>\n      <td>0.0</td>\n      <td>0.0</td>\n      <td>0.0</td>\n      <td>5.0</td>\n      <td>0.0</td>\n      <td>baseline</td>\n      <td>0.034959</td>\n      <td>0.919604</td>\n      <td>0.969014</td>\n      <td>0.118163</td>\n      <td>0.126600</td>\n      <td>4.684026</td>\n    </tr>\n    <tr>\n      <th>5</th>\n      <td>SCOOP</td>\n      <td>10.0</td>\n      <td>0.0</td>\n      <td>0.0</td>\n      <td>0.0</td>\n      <td>5.0</td>\n      <td>0.0</td>\n      <td>ours</td>\n      <td>0.022816</td>\n      <td>0.984743</td>\n      <td>0.990509</td>\n      <td>0.112907</td>\n      <td>0.112918</td>\n      <td>5.179033</td>\n    </tr>\n    <tr>\n      <th>6</th>\n      <td>SCOOP</td>\n      <td>10.0</td>\n      <td>0.0</td>\n      <td>0.0</td>\n      <td>0.0</td>\n      <td>12.0</td>\n      <td>0.0</td>\n      <td>ours</td>\n      <td>0.025030</td>\n      <td>0.974226</td>\n      <td>0.987089</td>\n      <td>0.113150</td>\n      <td>0.117825</td>\n      <td>5.097438</td>\n    </tr>\n    <tr>\n      <th>7</th>\n      <td>NeuralPrior</td>\n      <td>0.0</td>\n      <td>0.0</td>\n      <td>0.0</td>\n      <td>1.0</td>\n      <td>0.0</td>\n      <td>0.0</td>\n      <td>ours</td>\n      <td>0.036241</td>\n      <td>0.923736</td>\n      <td>0.975314</td>\n      <td>0.119792</td>\n      <td>0.132228</td>\n      <td>4.724208</td>\n    </tr>\n    <tr>\n      <th>8</th>\n      <td>NeuralPrior</td>\n      <td>0.0</td>\n      <td>0.0</td>\n      <td>1.0</td>\n      <td>0.0</td>\n      <td>5.0</td>\n      <td>0.0</td>\n      <td>ours</td>\n      <td>0.033633</td>\n      <td>0.925779</td>\n      <td>0.974847</td>\n      <td>0.118056</td>\n      <td>0.136041</td>\n      <td>5.511823</td>\n    </tr>\n    <tr>\n      <th>9</th>\n      <td>NeuralPrior</td>\n      <td>0.0</td>\n      <td>0.0</td>\n      <td>0.0</td>\n      <td>1.0</td>\n      <td>12.0</td>\n      <td>0.0</td>\n      <td>ours</td>\n      <td>0.033999</td>\n      <td>0.913492</td>\n      <td>0.967258</td>\n      <td>0.116179</td>\n      <td>0.122686</td>\n      <td>4.794366</td>\n    </tr>\n    <tr>\n      <th>10</th>\n      <td>SCOOP</td>\n      <td>10.0</td>\n      <td>0.0</td>\n      <td>0.0</td>\n      <td>1.0</td>\n      <td>8.0</td>\n      <td>0.0</td>\n      <td>ours</td>\n      <td>0.024602</td>\n      <td>0.980852</td>\n      <td>0.987053</td>\n      <td>0.113266</td>\n      <td>0.113966</td>\n      <td>5.445476</td>\n    </tr>\n    <tr>\n      <th>11</th>\n      <td>NeuralPrior</td>\n      <td>0.0</td>\n      <td>0.0</td>\n      <td>1.0</td>\n      <td>0.0</td>\n      <td>0.0</td>\n      <td>0.0</td>\n      <td>ours</td>\n      <td>0.035316</td>\n      <td>0.923393</td>\n      <td>0.976388</td>\n      <td>0.114630</td>\n      <td>0.125829</td>\n      <td>4.978976</td>\n    </tr>\n    <tr>\n      <th>12</th>\n      <td>NeuralPrior</td>\n      <td>0.0</td>\n      <td>0.0</td>\n      <td>1.0</td>\n      <td>0.0</td>\n      <td>12.0</td>\n      <td>0.0</td>\n      <td>ours</td>\n      <td>0.035577</td>\n      <td>0.905084</td>\n      <td>0.968211</td>\n      <td>0.115456</td>\n      <td>0.134386</td>\n      <td>5.373517</td>\n    </tr>\n    <tr>\n      <th>13</th>\n      <td>NeuralPrior</td>\n      <td>1.0</td>\n      <td>0.0</td>\n      <td>1.0</td>\n      <td>1.0</td>\n      <td>5.0</td>\n      <td>0.0</td>\n      <td>ours</td>\n      <td>0.036910</td>\n      <td>0.925500</td>\n      <td>0.975073</td>\n      <td>0.118615</td>\n      <td>0.140676</td>\n      <td>5.772818</td>\n    </tr>\n    <tr>\n      <th>14</th>\n      <td>NeuralPrior</td>\n      <td>0.0</td>\n      <td>0.0</td>\n      <td>1.0</td>\n      <td>1.0</td>\n      <td>0.0</td>\n      <td>0.0</td>\n      <td>ours</td>\n      <td>0.033657</td>\n      <td>0.932761</td>\n      <td>0.974482</td>\n      <td>0.114768</td>\n      <td>0.131451</td>\n      <td>5.195485</td>\n    </tr>\n    <tr>\n      <th>15</th>\n      <td>NeuralPrior</td>\n      <td>0.0</td>\n      <td>0.0</td>\n      <td>1.0</td>\n      <td>1.0</td>\n      <td>12.0</td>\n      <td>0.0</td>\n      <td>ours</td>\n      <td>0.037052</td>\n      <td>0.909292</td>\n      <td>0.976365</td>\n      <td>0.123144</td>\n      <td>0.148119</td>\n      <td>5.547919</td>\n    </tr>\n    <tr>\n      <th>16</th>\n      <td>NeuralPrior</td>\n      <td>0.0</td>\n      <td>1.0</td>\n      <td>0.0</td>\n      <td>0.0</td>\n      <td>5.0</td>\n      <td>0.0</td>\n      <td>ours</td>\n      <td>0.034017</td>\n      <td>0.912525</td>\n      <td>0.972573</td>\n      <td>0.119659</td>\n      <td>0.144814</td>\n      <td>5.859365</td>\n    </tr>\n    <tr>\n      <th>17</th>\n      <td>NeuralPrior</td>\n      <td>1.0</td>\n      <td>0.0</td>\n      <td>0.0</td>\n      <td>0.0</td>\n      <td>0.0</td>\n      <td>0.0</td>\n      <td>ours</td>\n      <td>0.033211</td>\n      <td>0.927848</td>\n      <td>0.969473</td>\n      <td>0.118722</td>\n      <td>0.144235</td>\n      <td>5.126230</td>\n    </tr>\n    <tr>\n      <th>18</th>\n      <td>NeuralPrior</td>\n      <td>1.0</td>\n      <td>0.0</td>\n      <td>0.0</td>\n      <td>1.0</td>\n      <td>12.0</td>\n      <td>0.0</td>\n      <td>ours</td>\n      <td>0.034297</td>\n      <td>0.906935</td>\n      <td>0.979732</td>\n      <td>0.122173</td>\n      <td>0.145847</td>\n      <td>5.502527</td>\n    </tr>\n    <tr>\n      <th>19</th>\n      <td>NeuralPrior</td>\n      <td>1.0</td>\n      <td>10.0</td>\n      <td>1.0</td>\n      <td>1.0</td>\n      <td>5.0</td>\n      <td>1.0</td>\n      <td>ours</td>\n      <td>0.036118</td>\n      <td>0.917010</td>\n      <td>0.974301</td>\n      <td>0.116616</td>\n      <td>0.136645</td>\n      <td>8.190328</td>\n    </tr>\n    <tr>\n      <th>20</th>\n      <td>NeuralPrior</td>\n      <td>1.0</td>\n      <td>0.0</td>\n      <td>0.0</td>\n      <td>1.0</td>\n      <td>0.0</td>\n      <td>0.0</td>\n      <td>ours</td>\n      <td>0.032401</td>\n      <td>0.941521</td>\n      <td>0.980152</td>\n      <td>0.115745</td>\n      <td>0.132051</td>\n      <td>5.511011</td>\n    </tr>\n    <tr>\n      <th>21</th>\n      <td>NeuralPrior</td>\n      <td>1.0</td>\n      <td>0.0</td>\n      <td>1.0</td>\n      <td>0.0</td>\n      <td>12.0</td>\n      <td>0.0</td>\n      <td>ours</td>\n      <td>0.037686</td>\n      <td>0.893212</td>\n      <td>0.970410</td>\n      <td>0.122628</td>\n      <td>0.147773</td>\n      <td>4.957219</td>\n    </tr>\n    <tr>\n      <th>22</th>\n      <td>NeuralPrior</td>\n      <td>0.0</td>\n      <td>0.0</td>\n      <td>1.0</td>\n      <td>1.0</td>\n      <td>8.0</td>\n      <td>0.0</td>\n      <td>ours</td>\n      <td>0.033680</td>\n      <td>0.920763</td>\n      <td>0.974601</td>\n      <td>0.116215</td>\n      <td>0.123122</td>\n      <td>5.210265</td>\n    </tr>\n    <tr>\n      <th>23</th>\n      <td>NeuralPrior</td>\n      <td>0.0</td>\n      <td>1.0</td>\n      <td>0.0</td>\n      <td>0.0</td>\n      <td>0.0</td>\n      <td>1.0</td>\n      <td>ours</td>\n      <td>0.031489</td>\n      <td>0.929052</td>\n      <td>0.978931</td>\n      <td>0.114924</td>\n      <td>0.129409</td>\n      <td>7.347296</td>\n    </tr>\n    <tr>\n      <th>24</th>\n      <td>NeuralPrior</td>\n      <td>1.0</td>\n      <td>0.0</td>\n      <td>1.0</td>\n      <td>1.0</td>\n      <td>12.0</td>\n      <td>0.0</td>\n      <td>ours</td>\n      <td>0.032848</td>\n      <td>0.903581</td>\n      <td>0.967098</td>\n      <td>0.118037</td>\n      <td>0.143260</td>\n      <td>5.818592</td>\n    </tr>\n    <tr>\n      <th>25</th>\n      <td>NeuralPrior</td>\n      <td>0.0</td>\n      <td>1.0</td>\n      <td>0.0</td>\n      <td>0.0</td>\n      <td>8.0</td>\n      <td>0.0</td>\n      <td>ours</td>\n      <td>0.030415</td>\n      <td>0.928995</td>\n      <td>0.980751</td>\n      <td>0.117585</td>\n      <td>0.136693</td>\n      <td>6.267474</td>\n    </tr>\n    <tr>\n      <th>26</th>\n      <td>NeuralPrior</td>\n      <td>0.0</td>\n      <td>1.0</td>\n      <td>0.0</td>\n      <td>0.0</td>\n      <td>12.0</td>\n      <td>0.0</td>\n      <td>ours</td>\n      <td>0.032318</td>\n      <td>0.939043</td>\n      <td>0.977501</td>\n      <td>0.117117</td>\n      <td>0.132129</td>\n      <td>6.437127</td>\n    </tr>\n    <tr>\n      <th>27</th>\n      <td>NeuralPrior</td>\n      <td>0.0</td>\n      <td>1.0</td>\n      <td>0.0</td>\n      <td>1.0</td>\n      <td>0.0</td>\n      <td>1.0</td>\n      <td>ours</td>\n      <td>0.035687</td>\n      <td>0.924861</td>\n      <td>0.976536</td>\n      <td>0.127156</td>\n      <td>0.144719</td>\n      <td>7.475617</td>\n    </tr>\n    <tr>\n      <th>28</th>\n      <td>NeuralPrior</td>\n      <td>0.0</td>\n      <td>1.0</td>\n      <td>1.0</td>\n      <td>0.0</td>\n      <td>8.0</td>\n      <td>0.0</td>\n      <td>ours</td>\n      <td>0.038944</td>\n      <td>0.915358</td>\n      <td>0.962750</td>\n      <td>0.121781</td>\n      <td>0.145579</td>\n      <td>6.171540</td>\n    </tr>\n    <tr>\n      <th>29</th>\n      <td>NeuralPrior</td>\n      <td>0.0</td>\n      <td>1.0</td>\n      <td>0.0</td>\n      <td>1.0</td>\n      <td>12.0</td>\n      <td>0.0</td>\n      <td>ours</td>\n      <td>0.034822</td>\n      <td>0.917388</td>\n      <td>0.962508</td>\n      <td>0.113173</td>\n      <td>0.139400</td>\n      <td>6.257996</td>\n    </tr>\n    <tr>\n      <th>30</th>\n      <td>NeuralPrior</td>\n      <td>1.0</td>\n      <td>1.0</td>\n      <td>1.0</td>\n      <td>0.0</td>\n      <td>0.0</td>\n      <td>1.0</td>\n      <td>ours</td>\n      <td>0.034111</td>\n      <td>0.925418</td>\n      <td>0.975364</td>\n      <td>0.118097</td>\n      <td>0.139213</td>\n      <td>7.813235</td>\n    </tr>\n    <tr>\n      <th>31</th>\n      <td>NeuralPrior</td>\n      <td>1.0</td>\n      <td>1.0</td>\n      <td>0.0</td>\n      <td>0.0</td>\n      <td>8.0</td>\n      <td>0.0</td>\n      <td>ours</td>\n      <td>0.035844</td>\n      <td>0.911051</td>\n      <td>0.970815</td>\n      <td>0.124374</td>\n      <td>0.139635</td>\n      <td>6.069277</td>\n    </tr>\n    <tr>\n      <th>32</th>\n      <td>NeuralPrior</td>\n      <td>0.0</td>\n      <td>1.0</td>\n      <td>1.0</td>\n      <td>0.0</td>\n      <td>12.0</td>\n      <td>0.0</td>\n      <td>ours</td>\n      <td>0.034939</td>\n      <td>0.927630</td>\n      <td>0.971362</td>\n      <td>0.115479</td>\n      <td>0.121325</td>\n      <td>6.663709</td>\n    </tr>\n    <tr>\n      <th>33</th>\n      <td>NeuralPrior</td>\n      <td>1.0</td>\n      <td>1.0</td>\n      <td>1.0</td>\n      <td>1.0</td>\n      <td>0.0</td>\n      <td>1.0</td>\n      <td>ours</td>\n      <td>0.035216</td>\n      <td>0.897243</td>\n      <td>0.962339</td>\n      <td>0.118188</td>\n      <td>0.141945</td>\n      <td>9.018140</td>\n    </tr>\n    <tr>\n      <th>34</th>\n      <td>NeuralPrior</td>\n      <td>1.0</td>\n      <td>1.0</td>\n      <td>0.0</td>\n      <td>1.0</td>\n      <td>8.0</td>\n      <td>0.0</td>\n      <td>ours</td>\n      <td>0.031470</td>\n      <td>0.951886</td>\n      <td>0.978636</td>\n      <td>0.115588</td>\n      <td>0.135347</td>\n      <td>6.827845</td>\n    </tr>\n    <tr>\n      <th>35</th>\n      <td>NeuralPrior</td>\n      <td>0.0</td>\n      <td>1.0</td>\n      <td>1.0</td>\n      <td>1.0</td>\n      <td>12.0</td>\n      <td>0.0</td>\n      <td>ours</td>\n      <td>0.036599</td>\n      <td>0.927178</td>\n      <td>0.959409</td>\n      <td>0.121521</td>\n      <td>0.146351</td>\n      <td>6.723748</td>\n    </tr>\n  </tbody>\n</table>\n</div>"
     },
     "execution_count": 12,
     "metadata": {},
     "output_type": "execute_result"
    }
   ],
   "source": [
    "# Compare experiments, # Udelat cross experiment vizualizaci\n",
    "import glob\n",
    "import pandas as pd\n",
    "import os\n",
    "import matplotlib.pyplot as plt\n",
    "from data.PATHS import TMP_VIS_PATH\n",
    "\n",
    "exp_name = \"dev\"\n",
    "exp_dir = f'{os.path.expanduser(\"~\")}/experiments/{exp_name}'\n",
    "runs = sorted(glob.glob(f'{exp_dir}/*'))\n",
    "\n",
    "# plot?\n",
    "\n",
    "metric_all = []\n",
    "fig, axes = plt.subplots(1, 2)#, figsize=(10, 5))\n",
    "# plt.close()\n",
    "# plt.clf()\n",
    "\n",
    "for run in runs:\n",
    "\n",
    "    if os.path.exists(f'{run}/metric.csv') == False:\n",
    "        continue\n",
    "\n",
    "    metric = pd.read_csv(f'{run}/metric.csv', index_col=0, header=None).transpose()\n",
    "    metric = [v.to_dict() for k,v in metric.iterrows()][0]\n",
    "\n",
    "    args = pd.read_csv(f'{run}/args.csv', header=None, index_col=0).transpose()\n",
    "    args = [v.to_dict() for k, v in args.iterrows()][0]\n",
    "\n",
    "    for k in ['VA', 'free_weight', 'pc2_smooth', 'smooth_weight', 'forward_weight', 'sm_normals_K']:\n",
    "        if k in args.keys():\n",
    "            args[k] = float(args[k])\n",
    "\n",
    "    if args['dataset'] == 'kitti_o': continue\n",
    "\n",
    "    # Skip tryouts\n",
    "    if args['dev'] == 1:\n",
    "        continue\n",
    "\n",
    "    # aff = args['affiliation'].values[0]\n",
    "    epe = metric['EPE3D']\n",
    "    avg_solver_time = metric['avg_solver_time']\n",
    "    # decide about aff\n",
    "    if args['model'] == 'NeuralPrior':\n",
    "\n",
    "        if args['VA'] == 0 and args['free_weight'] == 0 and args['forward_weight'] == 0 and args['pc2_smooth'] == 0 and args['smooth_weight'] == 0:\n",
    "            aff = 'baseline'\n",
    "        else:\n",
    "            aff = 'ours'\n",
    "\n",
    "    if args['model'] == 'SCOOP':\n",
    "        if args['sm_normals_K'] == 0 and args['VA'] == 0 and args['free_weight'] == 0 and args['forward_weight'] == 0 and args['pc2_smooth'] == 0:\n",
    "            aff = 'baseline'\n",
    "        else:\n",
    "            aff = 'ours'\n",
    "\n",
    "    del args['affiliation']\n",
    "    args['aff'] = aff\n",
    "    model_marker = '*' if args['model'] == 'NeuralPrior' else 'o'\n",
    "    color_marker = 'g' if aff == 'ours' else 'b'\n",
    "\n",
    "\n",
    "    axes[0].plot(avg_solver_time, epe, color_marker + model_marker, markersize=10, label=args['model'])\n",
    "\n",
    "\n",
    "    full_dict = {**args, **metric}\n",
    "    name_weight_list = ['free_weight', 'smooth_weight', 'forward_weight', 'pc2_smooth', 'sm_normals_K', 'VA']\n",
    "    name_metrics = ['EPE3D', 'acc3d_strict', 'acc3d_relax', 'angle_error', 'outlier']\n",
    "    interest_dict = {k:v for k,v in full_dict.items() if k in ['aff', 'avg_solver_time', 'model', 'EPE3D'] + name_weight_list + name_metrics}\n",
    "\n",
    "    # metric_all.append(full_dict)\n",
    "    metric_all.append(interest_dict)\n",
    "\n",
    "axes[0].legend(['NeuralPrior', 'SCOOP'])\n",
    "\n",
    "df = pd.DataFrame(metric_all)\n",
    "\n",
    "\n",
    "\n",
    "axes[0].set_xlabel('Average Solver Time Per Frame [s]')\n",
    "axes[0].set_ylabel('EPE [m]')\n",
    "\n",
    "axes[0].set_title('Performance on KITTI-SF')\n",
    "axes[0].legend(['baseline', 'ours'])\n",
    "axes[0].grid(True)\n",
    "\n",
    "\n",
    "#create pandas DataFrame\n",
    "\n",
    "#create table\n",
    "# table = plt.table(cellText=df.values, colLabels=df.columns, loc='center')\n",
    "plt.savefig(f'{TMP_VIS_PATH}/kittisf.png')\n",
    "plt.close()\n",
    "\n",
    "df\n"
   ],
   "metadata": {
    "collapsed": false,
    "ExecuteTime": {
     "end_time": "2023-07-19T11:26:18.383977648Z",
     "start_time": "2023-07-19T11:26:17.140393005Z"
    }
   }
  },
  {
   "cell_type": "code",
   "execution_count": 11,
   "outputs": [
    {
     "data": {
      "text/plain": "dict_keys(['dataset', 'data_path', 'exp_name', 'gpu', 'verbose', 'max_range', 'per_sample_init', 'store_inference', 'model', 'runs', 'dev', 'vis', 'nn_weight', 'smooth_weight', 'forward_weight', 'free_weight', 'VA', 'K', 'sm_normals_K', 'max_radius', 'pc2_smooth', 'both_ways', 'ch_normals_K', 'lr', 'iters', 'early_patience', 'early_min_delta', 'lidar_pose', 'fov_up', 'fov_down', 'H', 'W', 'exp_dir', 'aff', 'EPE3D', 'acc3d_strict', 'acc3d_relax', 'angle_error', 'outlier', 'avg_solver_time'])"
     },
     "execution_count": 11,
     "metadata": {},
     "output_type": "execute_result"
    }
   ],
   "source": [
    "full_dict.keys()"
   ],
   "metadata": {
    "collapsed": false,
    "ExecuteTime": {
     "end_time": "2023-07-19T11:25:47.562440343Z",
     "start_time": "2023-07-19T11:25:47.557910844Z"
    }
   }
  },
  {
   "cell_type": "code",
   "execution_count": 4,
   "outputs": [
    {
     "name": "stdout",
     "output_type": "stream",
     "text": [
      "960\n",
      "Runs: 960 ---> GPU time: 160.0 hours ---> 1.3 days\n"
     ]
    }
   ],
   "source": [
    "import itertools\n",
    "import pandas as pd\n",
    "import os\n",
    "from configs.models import SCOOP_cfg, NeuralPrior_cfg\n",
    "### Make configs\n",
    "\n",
    "permute_cfg = {'model': ['NeuralPrior', 'SCOOP'],\n",
    "               'store_inference' : [0],\n",
    "               'sm_normals_K': [0, 5, 8, 12],\n",
    "               'forward_weight':  [0, 1, 10],\n",
    "               'pc2_smooth': [0, 1],\n",
    "               'K': [4, 32],\n",
    "               'smooth_weight' : [0, 1],\n",
    "               'free_weight': [0, 1],\n",
    "               'VA': [0, 1],\n",
    "               'lr': [0.2, 0.008],\n",
    "               'dataset': ['kitti_t', 'kitti_o'],\n",
    "               'max_radius' : [2],\n",
    "               'early_patience' : [50],\n",
    "               }\n",
    "\n",
    "# 'dataset': ['kitti_t', 'kitti_o', 'argoverse', 'nuscenes', 'waymo'],   # wait for lidar on tommorow\n",
    "# permute all possible combinations of variables above\n",
    "\n",
    "index = permute_cfg.keys()\n",
    "combinations = list(itertools.product(*permute_cfg.values()))\n",
    "\n",
    "df = pd.DataFrame(combinations, columns=index)\n",
    "\n",
    "valid_cfg_list = []\n",
    "\n",
    "\n",
    "# leave out some configs\n",
    "runs = 3\n",
    "for run in range(runs):\n",
    "\n",
    "    for i in range(len(combinations)):\n",
    "        default_cfg = {}\n",
    "        c = df.iloc[i]\n",
    "\n",
    "        ##### KittiSF\n",
    "        if c['dataset'].startswith('kitti'):\n",
    "\n",
    "            if c['K'] != 32: continue\n",
    "\n",
    "        ##### Lidar\n",
    "        if not c['dataset'].startswith('kitti'):\n",
    "\n",
    "            if c['K'] > 8: continue\n",
    "            if c['sm_normals_K'] > 5: continue\n",
    "\n",
    "        if c['dataset'] in ['argoverse', 'nuscenes', 'waymo'] and c['sm_normals_K'] > 5: continue\n",
    "\n",
    "        ##### Models\n",
    "        if c['model'] == \"SCOOP\":\n",
    "            default_cfg = SCOOP_cfg\n",
    "            if c['K'] != 32: continue\n",
    "            if c['lr'] != 0.2: continue\n",
    "            if c['dataset'] in ['argoverse', 'nuscenes', 'waymo']: continue\n",
    "            if c['smooth_weight'] != 1: continue\n",
    "\n",
    "        if c['model'] == 'NeuralPrior':\n",
    "            default_cfg = NeuralPrior_cfg\n",
    "            if c['dataset'] in ['kitti_o']: continue\n",
    "            if c['lr'] == 0.2: continue\n",
    "            # if c['lr'] != 0.001 and c['dataset'] == 'kitti_t': continue\n",
    "            # if c['lr'] != 0.003 and c['dataset'] in ['argoverse', 'waymo', 'nuscenes']: continue\n",
    "\n",
    "\n",
    "        ##### General\n",
    "        if c['forward_weight'] == 0 and c['pc2_smooth'] == 1: continue\n",
    "        if c['K'] == 0 and (c['forward_weight'] > 0 or c['VA'] > 0): continue\n",
    "\n",
    "\n",
    "        final_config = {**default_cfg, **c.to_dict()}\n",
    "        final_config['exp_name'] = final_config['model']\n",
    "        final_config['dev'] = 0\n",
    "\n",
    "        # Exceptions\n",
    "        if c['model'] == \"SCOOP\":\n",
    "            final_config['smooth_weight'] = default_cfg['smooth_weight']\n",
    "            final_config['iters'] = 150\n",
    "\n",
    "        if c['model'] == \"NeuralPrior\":\n",
    "            final_config['iters'] = 250\n",
    "\n",
    "        # Just to make them more and compute multiple times. Otherwise it is not in argparser\n",
    "        valid_cfg_list.append(final_config)\n",
    "\n",
    "print(len(valid_cfg_list))\n",
    "nbr_gpu = 5\n",
    "experiment_time = 10 / 60 # hours\n",
    "gpu_time = len(valid_cfg_list) * experiment_time\n",
    "\n",
    "print(f\"Runs: {len(valid_cfg_list)} ---> GPU time: {gpu_time:.1f} hours ---> {gpu_time / nbr_gpu / 24:.1f} days\")\n",
    "\n",
    "final_df = pd.DataFrame(valid_cfg_list, columns=index)\n",
    "# save to different formats\n",
    "final_df.to_csv(f'{os.path.expanduser(\"~\")}/pcflow/configs/planned_experiments.csv', index=False)"
   ],
   "metadata": {
    "collapsed": false,
    "ExecuteTime": {
     "end_time": "2023-07-18T20:12:21.956973346Z",
     "start_time": "2023-07-18T20:12:20.598893918Z"
    }
   }
  },
  {
   "cell_type": "code",
   "execution_count": null,
   "outputs": [],
   "source": [
    "\n",
    "# Top down view example of NN connections\n",
    "KNN = nn_ind[0]\n",
    "start_arrows = pc2[0][KNN].reshape(-1,3)\n",
    "\n",
    "# NN connections\n",
    "residuals_KNN = (pc2[0].unsqueeze(1) - pc2[0][KNN]).reshape(-1,3)\n",
    "residuals_VA_KNN = (pc2[0].unsqueeze(1) - pc2[0][VA_KNN]).reshape(-1,3)\n",
    "\n",
    "import matplotlib.pyplot as plt\n",
    "from data.PATHS import TMP_VIS_PATH\n",
    "\n",
    "\n",
    "fig, ax = plt.subplots(1,2, figsize=(10,5))\n",
    "ax[0].plot(start_arrows[:,0].cpu(), start_arrows[:,1].cpu(), 'bo', alpha=0.15, markersize=0.1)\n",
    "ax[1].plot(start_arrows[:,0].cpu(), start_arrows[:,1].cpu(), 'bo', alpha=0.15, markersize=0.1)\n",
    "\n",
    "ax[0].quiver(start_arrows[:,0].cpu(), start_arrows[:,1].cpu(), residuals_KNN[:,0].cpu(), residuals_KNN[:,1].cpu(), color='r', scale_units='xy')\n",
    "ax[1].quiver(start_arrows[:,0].cpu(), start_arrows[:,1].cpu(), residuals_VA_KNN[:,0].cpu(), residuals_VA_KNN[:,1].cpu(), color='r', scale_units='xy')\n",
    "\n",
    "ax[0].axis('equal')\n",
    "ax[1].axis('equal')\n",
    "\n",
    "plt.savefig(f'{TMP_VIS_PATH}/{dataset_type}_range.png')\n"
   ],
   "metadata": {
    "collapsed": false
   }
  },
  {
   "cell_type": "code",
   "execution_count": 1,
   "outputs": [
    {
     "name": "stdout",
     "output_type": "stream",
     "text": [
      "['/home.dokt/vacekpa2/experiments/dev/2023-07-18-20-13-06-618/', '/home.dokt/vacekpa2/experiments/dev/2023-07-18-20-13-06-623/', '/home.dokt/vacekpa2/experiments/dev/2023-07-18-20-13-06-644/', '/home.dokt/vacekpa2/experiments/dev/2023-07-18-20-13-06-645/', '/home.dokt/vacekpa2/experiments/dev/2023-07-18-20-13-06-681/', '/home.dokt/vacekpa2/experiments/dev/2023-07-18-20-13-06-788/', '/home.dokt/vacekpa2/experiments/dev/2023-07-18-20-13-06-852/', '/home.dokt/vacekpa2/experiments/dev/2023-07-18-20-30-16-033/', '/home.dokt/vacekpa2/experiments/dev/2023-07-18-20-30-16-765/', '/home.dokt/vacekpa2/experiments/dev/2023-07-18-20-30-43-153/', '/home.dokt/vacekpa2/experiments/dev/2023-07-18-20-39-46-630/', '/home.dokt/vacekpa2/experiments/dev/2023-07-18-20-40-20-900/', '/home.dokt/vacekpa2/experiments/dev/2023-07-18-20-41-42-641/', '/home.dokt/vacekpa2/experiments/dev/2023-07-18-20-43-07-482/', '/home.dokt/vacekpa2/experiments/dev/2023-07-18-20-50-17-780/', '/home.dokt/vacekpa2/experiments/dev/2023-07-18-20-50-42-064/', '/home.dokt/vacekpa2/experiments/dev/2023-07-18-20-53-14-208/', '/home.dokt/vacekpa2/experiments/dev/2023-07-18-21-10-56-043/', '/home.dokt/vacekpa2/experiments/dev/2023-07-18-21-11-29-617/', '/home.dokt/vacekpa2/experiments/dev/2023-07-18-21-11-49-551/', '/home.dokt/vacekpa2/experiments/dev/2023-07-18-21-17-16-922/', '/home.dokt/vacekpa2/experiments/dev/2023-07-18-21-34-05-214/', '/home.dokt/vacekpa2/experiments/dev/2023-07-18-21-36-25-423/', '/home.dokt/vacekpa2/experiments/dev/2023-07-18-21-44-04-517/', '/home.dokt/vacekpa2/experiments/dev/2023-07-18-21-45-27-710/', '/home.dokt/vacekpa2/experiments/dev/2023-07-18-21-47-21-506/', '/home.dokt/vacekpa2/experiments/dev/2023-07-18-21-48-15-898/', '/home.dokt/vacekpa2/experiments/dev/2023-07-18-21-54-39-743/', '/home.dokt/vacekpa2/experiments/dev/2023-07-18-21-59-02-905/', '/home.dokt/vacekpa2/experiments/dev/2023-07-18-22-11-49-469/', '/home.dokt/vacekpa2/experiments/dev/2023-07-18-22-13-45-838/', '/home.dokt/vacekpa2/experiments/dev/2023-07-18-22-16-04-202/', '/home.dokt/vacekpa2/experiments/dev/2023-07-18-22-16-10-800/', '/home.dokt/vacekpa2/experiments/dev/2023-07-18-22-33-15-031/', '/home.dokt/vacekpa2/experiments/dev/2023-07-18-22-36-27-205/', '/home.dokt/vacekpa2/experiments/dev/2023-07-18-22-38-17-257/', '/home.dokt/vacekpa2/experiments/dev/2023-07-18-22-59-27-896/', '/home.dokt/vacekpa2/experiments/dev/2023-07-18-23-00-56-766/', '/home.dokt/vacekpa2/experiments/dev/2023-07-18-23-03-25-979/', '/home.dokt/vacekpa2/experiments/dev/2023-07-18-23-21-54-760/', '/home.dokt/vacekpa2/experiments/dev/2023-07-18-23-24-13-723/', '/home.dokt/vacekpa2/experiments/dev/2023-07-18-23-27-15-295/', '/home.dokt/vacekpa2/experiments/dev/2023-07-18-23-44-29-034/', '/home.dokt/vacekpa2/experiments/dev/2023-07-18-23-49-20-408/', '/home.dokt/vacekpa2/experiments/dev/2023-07-18-23-50-02-070/', '/home.dokt/vacekpa2/experiments/dev/2023-07-18-23-51-15-054/', '/home.dokt/vacekpa2/experiments/dev/2023-07-18-23-52-24-259/', '/home.dokt/vacekpa2/experiments/dev/2023-07-18-23-56-46-520/', '/home.dokt/vacekpa2/experiments/dev/2023-07-19-00-08-16-424/', '/home.dokt/vacekpa2/experiments/dev/2023-07-19-00-14-43-896/', '/home.dokt/vacekpa2/experiments/dev/2023-07-19-00-15-53-020/', '/home.dokt/vacekpa2/experiments/dev/2023-07-19-00-15-53-270/', '/home.dokt/vacekpa2/experiments/dev/2023-07-19-00-15-55-772/', '/home.dokt/vacekpa2/experiments/dev/2023-07-19-00-16-02-573/', '/home.dokt/vacekpa2/experiments/dev/2023-07-19-00-16-03-689/', '/home.dokt/vacekpa2/experiments/dev/2023-07-19-00-16-04-582/', '/home.dokt/vacekpa2/experiments/dev/2023-07-19-00-16-04-904/', '/home.dokt/vacekpa2/experiments/dev/2023-07-19-00-16-05-036/', '/home.dokt/vacekpa2/experiments/dev/2023-07-19-00-16-07-890/', '/home.dokt/vacekpa2/experiments/dev/2023-07-19-00-16-07-897/', '/home.dokt/vacekpa2/experiments/dev/2023-07-19-00-16-16-717/', '/home.dokt/vacekpa2/experiments/dev/2023-07-19-00-16-16-793/', '/home.dokt/vacekpa2/experiments/dev/2023-07-19-00-16-16-813/', '/home.dokt/vacekpa2/experiments/dev/2023-07-19-00-16-16-822/', '/home.dokt/vacekpa2/experiments/dev/2023-07-19-00-16-16-889/', '/home.dokt/vacekpa2/experiments/dev/2023-07-19-00-16-19-782/', '/home.dokt/vacekpa2/experiments/dev/2023-07-19-00-16-19-934/', '/home.dokt/vacekpa2/experiments/dev/2023-07-19-00-16-28-675/', '/home.dokt/vacekpa2/experiments/dev/2023-07-19-00-16-28-785/', '/home.dokt/vacekpa2/experiments/dev/2023-07-19-00-16-28-787/', '/home.dokt/vacekpa2/experiments/dev/2023-07-19-00-16-28-828/', '/home.dokt/vacekpa2/experiments/dev/2023-07-19-00-16-28-989/', '/home.dokt/vacekpa2/experiments/dev/2023-07-19-00-16-31-234/', '/home.dokt/vacekpa2/experiments/dev/2023-07-19-00-16-31-924/', '/home.dokt/vacekpa2/experiments/dev/2023-07-19-00-16-50-820/', '/home.dokt/vacekpa2/experiments/dev/2023-07-19-00-16-50-837/', '/home.dokt/vacekpa2/experiments/dev/2023-07-19-00-16-50-975/', '/home.dokt/vacekpa2/experiments/dev/2023-07-19-00-16-51-202/', '/home.dokt/vacekpa2/experiments/dev/2023-07-19-00-16-51-338/', '/home.dokt/vacekpa2/experiments/dev/2023-07-19-00-16-51-481/', '/home.dokt/vacekpa2/experiments/dev/2023-07-19-00-17-01-289/', '/home.dokt/vacekpa2/experiments/dev/2023-07-19-00-17-10-781/', '/home.dokt/vacekpa2/experiments/dev/2023-07-19-00-17-10-832/', '/home.dokt/vacekpa2/experiments/dev/2023-07-19-00-17-11-072/', '/home.dokt/vacekpa2/experiments/dev/2023-07-19-00-17-11-108/', '/home.dokt/vacekpa2/experiments/dev/2023-07-19-00-17-11-199/', '/home.dokt/vacekpa2/experiments/dev/2023-07-19-00-17-11-533/', '/home.dokt/vacekpa2/experiments/dev/2023-07-19-00-17-20-245/', '/home.dokt/vacekpa2/experiments/dev/2023-07-19-00-17-30-662/', '/home.dokt/vacekpa2/experiments/dev/2023-07-19-00-17-30-817/', '/home.dokt/vacekpa2/experiments/dev/2023-07-19-00-17-31-304/', '/home.dokt/vacekpa2/experiments/dev/2023-07-19-00-17-31-354/', '/home.dokt/vacekpa2/experiments/dev/2023-07-19-00-17-32-065/', '/home.dokt/vacekpa2/experiments/dev/2023-07-19-00-17-32-177/', '/home.dokt/vacekpa2/experiments/dev/2023-07-19-00-17-37-025/', '/home.dokt/vacekpa2/experiments/dev/2023-07-19-00-17-49-876/', '/home.dokt/vacekpa2/experiments/dev/2023-07-19-00-17-49-954/', '/home.dokt/vacekpa2/experiments/dev/2023-07-19-00-17-50-360/', '/home.dokt/vacekpa2/experiments/dev/2023-07-19-00-17-51-160/', '/home.dokt/vacekpa2/experiments/dev/2023-07-19-00-17-51-445/', '/home.dokt/vacekpa2/experiments/dev/2023-07-19-00-17-51-452/', '/home.dokt/vacekpa2/experiments/dev/2023-07-19-00-17-54-606/', '/home.dokt/vacekpa2/experiments/dev/2023-07-19-00-18-08-747/', '/home.dokt/vacekpa2/experiments/dev/2023-07-19-00-18-09-494/', '/home.dokt/vacekpa2/experiments/dev/2023-07-19-00-18-09-622/', '/home.dokt/vacekpa2/experiments/dev/2023-07-19-00-18-10-384/', '/home.dokt/vacekpa2/experiments/dev/2023-07-19-00-18-10-744/', '/home.dokt/vacekpa2/experiments/dev/2023-07-19-00-18-11-562/', '/home.dokt/vacekpa2/experiments/dev/2023-07-19-00-18-13-372/', '/home.dokt/vacekpa2/experiments/dev/2023-07-19-00-18-27-960/', '/home.dokt/vacekpa2/experiments/dev/2023-07-19-00-18-28-025/', '/home.dokt/vacekpa2/experiments/dev/2023-07-19-00-18-29-299/', '/home.dokt/vacekpa2/experiments/dev/2023-07-19-00-18-29-840/', '/home.dokt/vacekpa2/experiments/dev/2023-07-19-00-18-30-353/', '/home.dokt/vacekpa2/experiments/dev/2023-07-19-00-18-31-342/', '/home.dokt/vacekpa2/experiments/dev/2023-07-19-00-18-31-803/', '/home.dokt/vacekpa2/experiments/dev/2023-07-19-00-18-41-324/', '/home.dokt/vacekpa2/experiments/dev/2023-07-19-00-18-41-549/', '/home.dokt/vacekpa2/experiments/dev/2023-07-19-00-18-41-924/', '/home.dokt/vacekpa2/experiments/dev/2023-07-19-00-18-42-241/', '/home.dokt/vacekpa2/experiments/dev/2023-07-19-00-18-42-355/', '/home.dokt/vacekpa2/experiments/dev/2023-07-19-00-18-43-060/', '/home.dokt/vacekpa2/experiments/dev/2023-07-19-00-18-43-728/', '/home.dokt/vacekpa2/experiments/dev/2023-07-19-00-18-53-064/', '/home.dokt/vacekpa2/experiments/dev/2023-07-19-00-18-53-442/', '/home.dokt/vacekpa2/experiments/dev/2023-07-19-00-18-53-527/', '/home.dokt/vacekpa2/experiments/dev/2023-07-19-00-18-53-718/', '/home.dokt/vacekpa2/experiments/dev/2023-07-19-00-18-53-972/', '/home.dokt/vacekpa2/experiments/dev/2023-07-19-00-18-54-503/', '/home.dokt/vacekpa2/experiments/dev/2023-07-19-00-18-55-342/', '/home.dokt/vacekpa2/experiments/dev/2023-07-19-00-19-04-734/', '/home.dokt/vacekpa2/experiments/dev/2023-07-19-00-19-05-168/', '/home.dokt/vacekpa2/experiments/dev/2023-07-19-00-19-05-392/', '/home.dokt/vacekpa2/experiments/dev/2023-07-19-00-19-05-476/', '/home.dokt/vacekpa2/experiments/dev/2023-07-19-00-19-05-689/', '/home.dokt/vacekpa2/experiments/dev/2023-07-19-00-19-05-830/', '/home.dokt/vacekpa2/experiments/dev/2023-07-19-00-19-06-626/', '/home.dokt/vacekpa2/experiments/dev/2023-07-19-00-19-19-261/', '/home.dokt/vacekpa2/experiments/dev/2023-07-19-00-19-20-437/', '/home.dokt/vacekpa2/experiments/dev/2023-07-19-00-19-21-038/', '/home.dokt/vacekpa2/experiments/dev/2023-07-19-00-19-21-060/', '/home.dokt/vacekpa2/experiments/dev/2023-07-19-00-19-21-492/', '/home.dokt/vacekpa2/experiments/dev/2023-07-19-00-19-21-857/', '/home.dokt/vacekpa2/experiments/dev/2023-07-19-00-19-22-955/', '/home.dokt/vacekpa2/experiments/dev/2023-07-19-00-19-39-097/', '/home.dokt/vacekpa2/experiments/dev/2023-07-19-00-19-40-395/', '/home.dokt/vacekpa2/experiments/dev/2023-07-19-00-19-40-621/', '/home.dokt/vacekpa2/experiments/dev/2023-07-19-00-19-41-571/', '/home.dokt/vacekpa2/experiments/dev/2023-07-19-00-19-41-584/', '/home.dokt/vacekpa2/experiments/dev/2023-07-19-00-19-41-925/', '/home.dokt/vacekpa2/experiments/dev/2023-07-19-00-19-42-249/', '/home.dokt/vacekpa2/experiments/dev/2023-07-19-00-19-58-282/', '/home.dokt/vacekpa2/experiments/dev/2023-07-19-00-20-00-177/', '/home.dokt/vacekpa2/experiments/dev/2023-07-19-00-20-01-194/', '/home.dokt/vacekpa2/experiments/dev/2023-07-19-00-20-01-417/', '/home.dokt/vacekpa2/experiments/dev/2023-07-19-00-20-02-235/', '/home.dokt/vacekpa2/experiments/dev/2023-07-19-00-20-02-245/', '/home.dokt/vacekpa2/experiments/dev/2023-07-19-00-20-02-466/', '/home.dokt/vacekpa2/experiments/dev/2023-07-19-00-20-18-838/', '/home.dokt/vacekpa2/experiments/dev/2023-07-19-00-20-19-093/', '/home.dokt/vacekpa2/experiments/dev/2023-07-19-00-20-19-163/', '/home.dokt/vacekpa2/experiments/dev/2023-07-19-00-20-19-693/', '/home.dokt/vacekpa2/experiments/dev/2023-07-19-00-20-20-436/', '/home.dokt/vacekpa2/experiments/dev/2023-07-19-00-20-20-785/', '/home.dokt/vacekpa2/experiments/dev/2023-07-19-00-20-21-016/', '/home.dokt/vacekpa2/experiments/dev/2023-07-19-00-20-39-525/', '/home.dokt/vacekpa2/experiments/dev/2023-07-19-00-20-39-894/', '/home.dokt/vacekpa2/experiments/dev/2023-07-19-00-20-40-026/', '/home.dokt/vacekpa2/experiments/dev/2023-07-19-00-20-40-130/', '/home.dokt/vacekpa2/experiments/dev/2023-07-19-00-20-40-328/', '/home.dokt/vacekpa2/experiments/dev/2023-07-19-00-20-40-875/', '/home.dokt/vacekpa2/experiments/dev/2023-07-19-00-20-41-200/', '/home.dokt/vacekpa2/experiments/dev/2023-07-19-00-21-01-742/', '/home.dokt/vacekpa2/experiments/dev/2023-07-19-00-21-01-912/', '/home.dokt/vacekpa2/experiments/dev/2023-07-19-00-21-01-958/', '/home.dokt/vacekpa2/experiments/dev/2023-07-19-00-21-02-069/', '/home.dokt/vacekpa2/experiments/dev/2023-07-19-00-21-02-164/', '/home.dokt/vacekpa2/experiments/dev/2023-07-19-00-21-02-333/', '/home.dokt/vacekpa2/experiments/dev/2023-07-19-00-21-02-346/', '/home.dokt/vacekpa2/experiments/dev/2023-07-19-00-21-22-621/', '/home.dokt/vacekpa2/experiments/dev/2023-07-19-00-21-22-844/', '/home.dokt/vacekpa2/experiments/dev/2023-07-19-00-21-23-493/', '/home.dokt/vacekpa2/experiments/dev/2023-07-19-00-21-23-599/', '/home.dokt/vacekpa2/experiments/dev/2023-07-19-00-21-23-816/', '/home.dokt/vacekpa2/experiments/dev/2023-07-19-00-21-24-133/', '/home.dokt/vacekpa2/experiments/dev/2023-07-19-00-21-24-488/', '/home.dokt/vacekpa2/experiments/dev/2023-07-19-00-21-43-321/', '/home.dokt/vacekpa2/experiments/dev/2023-07-19-00-21-43-351/', '/home.dokt/vacekpa2/experiments/dev/2023-07-19-00-21-43-765/', '/home.dokt/vacekpa2/experiments/dev/2023-07-19-00-21-43-892/', '/home.dokt/vacekpa2/experiments/dev/2023-07-19-00-21-43-893/', '/home.dokt/vacekpa2/experiments/dev/2023-07-19-00-21-43-896/', '/home.dokt/vacekpa2/experiments/dev/2023-07-19-00-21-44-023/', '/home.dokt/vacekpa2/experiments/dev/2023-07-19-00-21-55-777/', '/home.dokt/vacekpa2/experiments/dev/2023-07-19-00-21-55-778/', '/home.dokt/vacekpa2/experiments/dev/2023-07-19-00-21-56-121/', '/home.dokt/vacekpa2/experiments/dev/2023-07-19-00-21-56-150/', '/home.dokt/vacekpa2/experiments/dev/2023-07-19-00-21-56-227/', '/home.dokt/vacekpa2/experiments/dev/2023-07-19-00-21-56-353/', '/home.dokt/vacekpa2/experiments/dev/2023-07-19-00-21-56-599/', '/home.dokt/vacekpa2/experiments/dev/2023-07-19-00-22-18-816/', '/home.dokt/vacekpa2/experiments/dev/2023-07-19-00-22-18-881/', '/home.dokt/vacekpa2/experiments/dev/2023-07-19-00-22-19-053/', '/home.dokt/vacekpa2/experiments/dev/2023-07-19-00-22-19-166/', '/home.dokt/vacekpa2/experiments/dev/2023-07-19-00-22-19-294/', '/home.dokt/vacekpa2/experiments/dev/2023-07-19-00-22-19-577/', '/home.dokt/vacekpa2/experiments/dev/2023-07-19-00-22-21-834/', '/home.dokt/vacekpa2/experiments/dev/2023-07-19-00-22-39-520/', '/home.dokt/vacekpa2/experiments/dev/2023-07-19-00-22-40-726/', '/home.dokt/vacekpa2/experiments/dev/2023-07-19-00-22-40-828/', '/home.dokt/vacekpa2/experiments/dev/2023-07-19-00-22-40-864/', '/home.dokt/vacekpa2/experiments/dev/2023-07-19-00-22-40-969/', '/home.dokt/vacekpa2/experiments/dev/2023-07-19-00-22-40-997/', '/home.dokt/vacekpa2/experiments/dev/2023-07-19-00-22-41-590/', '/home.dokt/vacekpa2/experiments/dev/2023-07-19-00-22-51-804/', '/home.dokt/vacekpa2/experiments/dev/2023-07-19-00-22-52-753/', '/home.dokt/vacekpa2/experiments/dev/2023-07-19-00-22-53-041/', '/home.dokt/vacekpa2/experiments/dev/2023-07-19-00-22-53-398/', '/home.dokt/vacekpa2/experiments/dev/2023-07-19-00-22-53-522/', '/home.dokt/vacekpa2/experiments/dev/2023-07-19-00-22-53-562/', '/home.dokt/vacekpa2/experiments/dev/2023-07-19-00-22-53-601/', '/home.dokt/vacekpa2/experiments/dev/2023-07-19-00-23-03-698/', '/home.dokt/vacekpa2/experiments/dev/2023-07-19-00-23-05-274/', '/home.dokt/vacekpa2/experiments/dev/2023-07-19-00-23-05-876/', '/home.dokt/vacekpa2/experiments/dev/2023-07-19-00-23-06-631/', '/home.dokt/vacekpa2/experiments/dev/2023-07-19-00-23-07-137/', '/home.dokt/vacekpa2/experiments/dev/2023-07-19-00-23-07-571/', '/home.dokt/vacekpa2/experiments/dev/2023-07-19-00-23-07-740/', '/home.dokt/vacekpa2/experiments/dev/2023-07-19-00-23-26-723/', '/home.dokt/vacekpa2/experiments/dev/2023-07-19-00-23-26-876/', '/home.dokt/vacekpa2/experiments/dev/2023-07-19-00-23-27-032/', '/home.dokt/vacekpa2/experiments/dev/2023-07-19-00-23-27-115/', '/home.dokt/vacekpa2/experiments/dev/2023-07-19-00-23-27-259/', '/home.dokt/vacekpa2/experiments/dev/2023-07-19-00-23-27-399/', '/home.dokt/vacekpa2/experiments/dev/2023-07-19-00-23-28-269/', '/home.dokt/vacekpa2/experiments/dev/2023-07-19-00-23-47-614/', '/home.dokt/vacekpa2/experiments/dev/2023-07-19-00-23-47-783/', '/home.dokt/vacekpa2/experiments/dev/2023-07-19-00-23-48-218/', '/home.dokt/vacekpa2/experiments/dev/2023-07-19-00-23-48-399/', '/home.dokt/vacekpa2/experiments/dev/2023-07-19-00-23-48-468/', '/home.dokt/vacekpa2/experiments/dev/2023-07-19-00-23-48-817/', '/home.dokt/vacekpa2/experiments/dev/2023-07-19-00-23-48-902/', '/home.dokt/vacekpa2/experiments/dev/2023-07-19-00-24-09-562/', '/home.dokt/vacekpa2/experiments/dev/2023-07-19-00-24-09-817/', '/home.dokt/vacekpa2/experiments/dev/2023-07-19-00-24-09-832/', '/home.dokt/vacekpa2/experiments/dev/2023-07-19-00-24-09-960/', '/home.dokt/vacekpa2/experiments/dev/2023-07-19-00-24-09-973/', '/home.dokt/vacekpa2/experiments/dev/2023-07-19-00-24-10-094/', '/home.dokt/vacekpa2/experiments/dev/2023-07-19-00-24-10-172/', '/home.dokt/vacekpa2/experiments/dev/2023-07-19-00-24-29-581/', '/home.dokt/vacekpa2/experiments/dev/2023-07-19-00-24-29-783/', '/home.dokt/vacekpa2/experiments/dev/2023-07-19-00-24-29-978/', '/home.dokt/vacekpa2/experiments/dev/2023-07-19-00-24-30-628/', '/home.dokt/vacekpa2/experiments/dev/2023-07-19-00-24-31-287/', '/home.dokt/vacekpa2/experiments/dev/2023-07-19-00-24-31-347/', '/home.dokt/vacekpa2/experiments/dev/2023-07-19-00-24-31-350/', '/home.dokt/vacekpa2/experiments/dev/2023-07-19-00-24-48-481/', '/home.dokt/vacekpa2/experiments/dev/2023-07-19-00-24-48-534/', '/home.dokt/vacekpa2/experiments/dev/2023-07-19-00-24-48-745/', '/home.dokt/vacekpa2/experiments/dev/2023-07-19-00-24-49-825/', '/home.dokt/vacekpa2/experiments/dev/2023-07-19-00-24-50-156/', '/home.dokt/vacekpa2/experiments/dev/2023-07-19-00-24-50-440/', '/home.dokt/vacekpa2/experiments/dev/2023-07-19-00-24-50-921/', '/home.dokt/vacekpa2/experiments/dev/2023-07-19-00-25-07-798/', '/home.dokt/vacekpa2/experiments/dev/2023-07-19-00-25-08-016/', '/home.dokt/vacekpa2/experiments/dev/2023-07-19-00-25-08-204/', '/home.dokt/vacekpa2/experiments/dev/2023-07-19-00-25-09-104/', '/home.dokt/vacekpa2/experiments/dev/2023-07-19-00-25-09-378/', '/home.dokt/vacekpa2/experiments/dev/2023-07-19-00-25-10-385/', '/home.dokt/vacekpa2/experiments/dev/2023-07-19-00-25-10-470/', '/home.dokt/vacekpa2/experiments/dev/2023-07-19-00-25-26-775/', '/home.dokt/vacekpa2/experiments/dev/2023-07-19-00-25-26-808/', '/home.dokt/vacekpa2/experiments/dev/2023-07-19-00-25-27-061/', '/home.dokt/vacekpa2/experiments/dev/2023-07-19-00-25-27-647/', '/home.dokt/vacekpa2/experiments/dev/2023-07-19-00-25-28-241/', '/home.dokt/vacekpa2/experiments/dev/2023-07-19-00-25-28-457/', '/home.dokt/vacekpa2/experiments/dev/2023-07-19-00-25-28-458/', '/home.dokt/vacekpa2/experiments/dev/2023-07-19-00-25-46-434/', '/home.dokt/vacekpa2/experiments/dev/2023-07-19-00-25-46-858/', '/home.dokt/vacekpa2/experiments/dev/2023-07-19-00-25-46-881/', '/home.dokt/vacekpa2/experiments/dev/2023-07-19-00-25-47-495/', '/home.dokt/vacekpa2/experiments/dev/2023-07-19-00-25-48-074/', '/home.dokt/vacekpa2/experiments/dev/2023-07-19-00-25-48-188/', '/home.dokt/vacekpa2/experiments/dev/2023-07-19-00-25-48-471/', '/home.dokt/vacekpa2/experiments/dev/2023-07-19-00-26-07-635/', '/home.dokt/vacekpa2/experiments/dev/2023-07-19-00-26-07-902/', '/home.dokt/vacekpa2/experiments/dev/2023-07-19-00-26-08-079/', '/home.dokt/vacekpa2/experiments/dev/2023-07-19-00-26-08-295/', '/home.dokt/vacekpa2/experiments/dev/2023-07-19-00-26-08-387/', '/home.dokt/vacekpa2/experiments/dev/2023-07-19-00-26-08-418/', '/home.dokt/vacekpa2/experiments/dev/2023-07-19-00-26-14-610/', '/home.dokt/vacekpa2/experiments/dev/2023-07-19-00-26-27-007/', '/home.dokt/vacekpa2/experiments/dev/2023-07-19-00-26-27-032/', '/home.dokt/vacekpa2/experiments/dev/2023-07-19-00-26-27-172/', '/home.dokt/vacekpa2/experiments/dev/2023-07-19-00-26-27-366/', '/home.dokt/vacekpa2/experiments/dev/2023-07-19-00-26-27-487/', '/home.dokt/vacekpa2/experiments/dev/2023-07-19-00-26-27-727/', '/home.dokt/vacekpa2/experiments/dev/2023-07-19-00-26-33-139/', '/home.dokt/vacekpa2/experiments/dev/2023-07-19-00-26-46-793/', '/home.dokt/vacekpa2/experiments/dev/2023-07-19-00-26-46-960/', '/home.dokt/vacekpa2/experiments/dev/2023-07-19-00-26-46-980/', '/home.dokt/vacekpa2/experiments/dev/2023-07-19-00-26-47-526/', '/home.dokt/vacekpa2/experiments/dev/2023-07-19-00-26-47-577/', '/home.dokt/vacekpa2/experiments/dev/2023-07-19-00-26-47-735/', '/home.dokt/vacekpa2/experiments/dev/2023-07-19-00-26-50-876/', '/home.dokt/vacekpa2/experiments/dev/2023-07-19-00-27-08-000/', '/home.dokt/vacekpa2/experiments/dev/2023-07-19-00-27-08-029/', '/home.dokt/vacekpa2/experiments/dev/2023-07-19-00-27-08-335/', '/home.dokt/vacekpa2/experiments/dev/2023-07-19-00-27-08-458/', '/home.dokt/vacekpa2/experiments/dev/2023-07-19-00-27-08-545/', '/home.dokt/vacekpa2/experiments/dev/2023-07-19-00-27-15-514/', '/home.dokt/vacekpa2/experiments/dev/2023-07-19-00-27-15-529/', '/home.dokt/vacekpa2/experiments/dev/2023-07-19-00-27-26-230/', '/home.dokt/vacekpa2/experiments/dev/2023-07-19-00-27-27-271/', '/home.dokt/vacekpa2/experiments/dev/2023-07-19-00-27-27-390/', '/home.dokt/vacekpa2/experiments/dev/2023-07-19-00-27-27-529/', '/home.dokt/vacekpa2/experiments/dev/2023-07-19-00-27-27-543/', '/home.dokt/vacekpa2/experiments/dev/2023-07-19-00-27-30-838/', '/home.dokt/vacekpa2/experiments/dev/2023-07-19-00-27-31-307/', '/home.dokt/vacekpa2/experiments/dev/2023-07-19-00-27-45-920/', '/home.dokt/vacekpa2/experiments/dev/2023-07-19-00-27-46-437/', '/home.dokt/vacekpa2/experiments/dev/2023-07-19-00-27-46-523/', '/home.dokt/vacekpa2/experiments/dev/2023-07-19-00-27-47-166/', '/home.dokt/vacekpa2/experiments/dev/2023-07-19-00-27-47-341/', '/home.dokt/vacekpa2/experiments/dev/2023-07-19-00-27-49-839/', '/home.dokt/vacekpa2/experiments/dev/2023-07-19-00-27-49-860/', '/home.dokt/vacekpa2/experiments/dev/2023-07-19-00-28-05-901/', '/home.dokt/vacekpa2/experiments/dev/2023-07-19-00-28-06-086/', '/home.dokt/vacekpa2/experiments/dev/2023-07-19-00-28-07-377/', '/home.dokt/vacekpa2/experiments/dev/2023-07-19-00-28-07-394/', '/home.dokt/vacekpa2/experiments/dev/2023-07-19-00-28-07-571/', '/home.dokt/vacekpa2/experiments/dev/2023-07-19-00-28-09-204/', '/home.dokt/vacekpa2/experiments/dev/2023-07-19-00-28-09-546/', '/home.dokt/vacekpa2/experiments/dev/2023-07-19-00-28-25-266/', '/home.dokt/vacekpa2/experiments/dev/2023-07-19-00-28-25-774/', '/home.dokt/vacekpa2/experiments/dev/2023-07-19-00-28-26-981/', '/home.dokt/vacekpa2/experiments/dev/2023-07-19-00-28-27-592/', '/home.dokt/vacekpa2/experiments/dev/2023-07-19-00-28-27-792/', '/home.dokt/vacekpa2/experiments/dev/2023-07-19-00-28-28-314/', '/home.dokt/vacekpa2/experiments/dev/2023-07-19-00-28-28-706/', '/home.dokt/vacekpa2/experiments/dev/2023-07-19-00-28-43-589/', '/home.dokt/vacekpa2/experiments/dev/2023-07-19-00-28-45-755/', '/home.dokt/vacekpa2/experiments/dev/2023-07-19-00-28-47-517/', '/home.dokt/vacekpa2/experiments/dev/2023-07-19-00-28-47-558/', '/home.dokt/vacekpa2/experiments/dev/2023-07-19-00-28-47-852/', '/home.dokt/vacekpa2/experiments/dev/2023-07-19-00-28-48-094/', '/home.dokt/vacekpa2/experiments/dev/2023-07-19-00-28-48-131/', '/home.dokt/vacekpa2/experiments/dev/2023-07-19-00-29-00-893/', '/home.dokt/vacekpa2/experiments/dev/2023-07-19-00-29-04-208/', '/home.dokt/vacekpa2/experiments/dev/2023-07-19-00-29-06-099/', '/home.dokt/vacekpa2/experiments/dev/2023-07-19-00-29-06-553/', '/home.dokt/vacekpa2/experiments/dev/2023-07-19-00-29-06-921/', '/home.dokt/vacekpa2/experiments/dev/2023-07-19-00-29-07-209/', '/home.dokt/vacekpa2/experiments/dev/2023-07-19-00-29-07-330/', '/home.dokt/vacekpa2/experiments/dev/2023-07-19-00-29-17-663/', '/home.dokt/vacekpa2/experiments/dev/2023-07-19-00-29-23-097/', '/home.dokt/vacekpa2/experiments/dev/2023-07-19-00-29-24-855/', '/home.dokt/vacekpa2/experiments/dev/2023-07-19-00-29-25-203/', '/home.dokt/vacekpa2/experiments/dev/2023-07-19-00-29-25-655/', '/home.dokt/vacekpa2/experiments/dev/2023-07-19-00-29-26-336/', '/home.dokt/vacekpa2/experiments/dev/2023-07-19-00-29-26-694/', '/home.dokt/vacekpa2/experiments/dev/2023-07-19-00-29-34-341/', '/home.dokt/vacekpa2/experiments/dev/2023-07-19-00-29-41-820/', '/home.dokt/vacekpa2/experiments/dev/2023-07-19-00-29-43-431/', '/home.dokt/vacekpa2/experiments/dev/2023-07-19-00-29-43-914/', '/home.dokt/vacekpa2/experiments/dev/2023-07-19-00-29-44-181/', '/home.dokt/vacekpa2/experiments/dev/2023-07-19-00-29-44-571/', '/home.dokt/vacekpa2/experiments/dev/2023-07-19-00-29-44-838/', '/home.dokt/vacekpa2/experiments/dev/2023-07-19-00-29-47-956/', '/home.dokt/vacekpa2/experiments/dev/2023-07-19-00-29-53-356/', '/home.dokt/vacekpa2/experiments/dev/2023-07-19-00-29-55-165/', '/home.dokt/vacekpa2/experiments/dev/2023-07-19-00-29-55-666/', '/home.dokt/vacekpa2/experiments/dev/2023-07-19-00-29-55-735/', '/home.dokt/vacekpa2/experiments/dev/2023-07-19-00-29-56-029/', '/home.dokt/vacekpa2/experiments/dev/2023-07-19-00-29-56-308/', '/home.dokt/vacekpa2/experiments/dev/2023-07-19-00-29-59-057/', '/home.dokt/vacekpa2/experiments/dev/2023-07-19-00-30-05-928/', '/home.dokt/vacekpa2/experiments/dev/2023-07-19-00-30-08-842/', '/home.dokt/vacekpa2/experiments/dev/2023-07-19-00-30-10-629/', '/home.dokt/vacekpa2/experiments/dev/2023-07-19-00-30-10-647/', '/home.dokt/vacekpa2/experiments/dev/2023-07-19-00-30-11-142/', '/home.dokt/vacekpa2/experiments/dev/2023-07-19-00-30-12-224/', '/home.dokt/vacekpa2/experiments/dev/2023-07-19-00-30-15-525/', '/home.dokt/vacekpa2/experiments/dev/2023-07-19-00-30-23-395/', '/home.dokt/vacekpa2/experiments/dev/2023-07-19-00-30-28-042/', '/home.dokt/vacekpa2/experiments/dev/2023-07-19-00-30-29-642/', '/home.dokt/vacekpa2/experiments/dev/2023-07-19-00-30-29-731/', '/home.dokt/vacekpa2/experiments/dev/2023-07-19-00-30-30-278/', '/home.dokt/vacekpa2/experiments/dev/2023-07-19-00-30-30-761/', '/home.dokt/vacekpa2/experiments/dev/2023-07-19-00-30-33-915/', '/home.dokt/vacekpa2/experiments/dev/2023-07-19-00-30-36-882/', '/home.dokt/vacekpa2/experiments/dev/2023-07-19-00-30-39-329/', '/home.dokt/vacekpa2/experiments/dev/2023-07-19-00-30-41-667/', '/home.dokt/vacekpa2/experiments/dev/2023-07-19-00-30-41-968/', '/home.dokt/vacekpa2/experiments/dev/2023-07-19-00-30-42-008/', '/home.dokt/vacekpa2/experiments/dev/2023-07-19-00-30-42-273/', '/home.dokt/vacekpa2/experiments/dev/2023-07-19-00-30-44-820/', '/home.dokt/vacekpa2/experiments/dev/2023-07-19-00-30-48-291/', '/home.dokt/vacekpa2/experiments/dev/2023-07-19-00-30-50-586/', '/home.dokt/vacekpa2/experiments/dev/2023-07-19-00-30-53-117/', '/home.dokt/vacekpa2/experiments/dev/2023-07-19-00-30-53-491/', '/home.dokt/vacekpa2/experiments/dev/2023-07-19-00-30-53-509/', '/home.dokt/vacekpa2/experiments/dev/2023-07-19-00-30-53-648/', '/home.dokt/vacekpa2/experiments/dev/2023-07-19-00-30-56-201/', '/home.dokt/vacekpa2/experiments/dev/2023-07-19-00-31-02-997/', '/home.dokt/vacekpa2/experiments/dev/2023-07-19-00-31-08-767/', '/home.dokt/vacekpa2/experiments/dev/2023-07-19-00-31-12-163/', '/home.dokt/vacekpa2/experiments/dev/2023-07-19-00-31-12-649/', '/home.dokt/vacekpa2/experiments/dev/2023-07-19-00-31-12-807/', '/home.dokt/vacekpa2/experiments/dev/2023-07-19-00-31-13-202/', '/home.dokt/vacekpa2/experiments/dev/2023-07-19-00-31-14-902/', '/home.dokt/vacekpa2/experiments/dev/2023-07-19-00-31-19-665/', '/home.dokt/vacekpa2/experiments/dev/2023-07-19-00-31-26-308/', '/home.dokt/vacekpa2/experiments/dev/2023-07-19-00-31-29-112/', '/home.dokt/vacekpa2/experiments/dev/2023-07-19-00-31-29-217/', '/home.dokt/vacekpa2/experiments/dev/2023-07-19-00-31-29-242/', '/home.dokt/vacekpa2/experiments/dev/2023-07-19-00-31-29-445/', '/home.dokt/vacekpa2/experiments/dev/2023-07-19-00-31-30-828/', '/home.dokt/vacekpa2/experiments/dev/2023-07-19-00-31-34-036/', '/home.dokt/vacekpa2/experiments/dev/2023-07-19-00-31-43-753/', '/home.dokt/vacekpa2/experiments/dev/2023-07-19-00-31-47-926/', '/home.dokt/vacekpa2/experiments/dev/2023-07-19-00-31-48-269/', '/home.dokt/vacekpa2/experiments/dev/2023-07-19-00-31-49-313/', '/home.dokt/vacekpa2/experiments/dev/2023-07-19-00-31-49-568/', '/home.dokt/vacekpa2/experiments/dev/2023-07-19-00-31-50-136/', '/home.dokt/vacekpa2/experiments/dev/2023-07-19-00-31-52-124/', '/home.dokt/vacekpa2/experiments/dev/2023-07-19-00-32-00-443/', '/home.dokt/vacekpa2/experiments/dev/2023-07-19-00-32-07-372/', '/home.dokt/vacekpa2/experiments/dev/2023-07-19-00-32-07-470/', '/home.dokt/vacekpa2/experiments/dev/2023-07-19-00-32-09-211/', '/home.dokt/vacekpa2/experiments/dev/2023-07-19-00-32-09-320/', '/home.dokt/vacekpa2/experiments/dev/2023-07-19-00-32-09-331/', '/home.dokt/vacekpa2/experiments/dev/2023-07-19-00-32-10-628/', '/home.dokt/vacekpa2/experiments/dev/2023-07-19-00-32-16-960/', '/home.dokt/vacekpa2/experiments/dev/2023-07-19-00-32-28-282/', '/home.dokt/vacekpa2/experiments/dev/2023-07-19-00-32-28-462/', '/home.dokt/vacekpa2/experiments/dev/2023-07-19-00-32-28-811/', '/home.dokt/vacekpa2/experiments/dev/2023-07-19-00-32-29-186/', '/home.dokt/vacekpa2/experiments/dev/2023-07-19-00-32-29-397/', '/home.dokt/vacekpa2/experiments/dev/2023-07-19-00-32-30-650/', '/home.dokt/vacekpa2/experiments/dev/2023-07-19-00-32-33-543/', '/home.dokt/vacekpa2/experiments/dev/2023-07-19-00-32-40-171/', '/home.dokt/vacekpa2/experiments/dev/2023-07-19-00-32-40-349/', '/home.dokt/vacekpa2/experiments/dev/2023-07-19-00-32-40-791/', '/home.dokt/vacekpa2/experiments/dev/2023-07-19-00-32-41-122/', '/home.dokt/vacekpa2/experiments/dev/2023-07-19-00-32-41-455/', '/home.dokt/vacekpa2/experiments/dev/2023-07-19-00-32-42-142/', '/home.dokt/vacekpa2/experiments/dev/2023-07-19-00-32-44-552/', '/home.dokt/vacekpa2/experiments/dev/2023-07-19-00-32-53-261/', '/home.dokt/vacekpa2/experiments/dev/2023-07-19-00-32-53-922/', '/home.dokt/vacekpa2/experiments/dev/2023-07-19-00-32-54-362/', '/home.dokt/vacekpa2/experiments/dev/2023-07-19-00-32-55-033/', '/home.dokt/vacekpa2/experiments/dev/2023-07-19-00-32-55-734/', '/home.dokt/vacekpa2/experiments/dev/2023-07-19-00-32-56-822/', '/home.dokt/vacekpa2/experiments/dev/2023-07-19-00-33-00-446/', '/home.dokt/vacekpa2/experiments/dev/2023-07-19-00-33-11-847/', '/home.dokt/vacekpa2/experiments/dev/2023-07-19-00-33-13-450/', '/home.dokt/vacekpa2/experiments/dev/2023-07-19-00-33-13-470/', '/home.dokt/vacekpa2/experiments/dev/2023-07-19-00-33-13-910/', '/home.dokt/vacekpa2/experiments/dev/2023-07-19-00-33-14-768/', '/home.dokt/vacekpa2/experiments/dev/2023-07-19-00-33-15-535/', '/home.dokt/vacekpa2/experiments/dev/2023-07-19-00-33-17-874/', '/home.dokt/vacekpa2/experiments/dev/2023-07-19-00-33-29-205/', '/home.dokt/vacekpa2/experiments/dev/2023-07-19-00-33-31-946/', '/home.dokt/vacekpa2/experiments/dev/2023-07-19-00-33-33-387/', '/home.dokt/vacekpa2/experiments/dev/2023-07-19-00-33-33-621/', '/home.dokt/vacekpa2/experiments/dev/2023-07-19-00-33-34-094/', '/home.dokt/vacekpa2/experiments/dev/2023-07-19-00-33-34-442/', '/home.dokt/vacekpa2/experiments/dev/2023-07-19-00-33-36-595/', '/home.dokt/vacekpa2/experiments/dev/2023-07-19-00-33-41-412/', '/home.dokt/vacekpa2/experiments/dev/2023-07-19-00-33-43-516/', '/home.dokt/vacekpa2/experiments/dev/2023-07-19-00-33-45-488/', '/home.dokt/vacekpa2/experiments/dev/2023-07-19-00-33-45-581/', '/home.dokt/vacekpa2/experiments/dev/2023-07-19-00-33-45-798/', '/home.dokt/vacekpa2/experiments/dev/2023-07-19-00-33-46-217/', '/home.dokt/vacekpa2/experiments/dev/2023-07-19-00-33-47-992/', '/home.dokt/vacekpa2/experiments/dev/2023-07-19-00-33-55-416/', '/home.dokt/vacekpa2/experiments/dev/2023-07-19-00-34-01-109/', '/home.dokt/vacekpa2/experiments/dev/2023-07-19-00-34-04-781/', '/home.dokt/vacekpa2/experiments/dev/2023-07-19-00-34-05-073/', '/home.dokt/vacekpa2/experiments/dev/2023-07-19-00-34-05-214/', '/home.dokt/vacekpa2/experiments/dev/2023-07-19-00-34-05-437/', '/home.dokt/vacekpa2/experiments/dev/2023-07-19-00-34-07-072/', '/home.dokt/vacekpa2/experiments/dev/2023-07-19-00-34-12-141/', '/home.dokt/vacekpa2/experiments/dev/2023-07-19-00-34-17-483/', '/home.dokt/vacekpa2/experiments/dev/2023-07-19-00-34-22-850/', '/home.dokt/vacekpa2/experiments/dev/2023-07-19-00-34-23-035/', '/home.dokt/vacekpa2/experiments/dev/2023-07-19-00-34-23-144/', '/home.dokt/vacekpa2/experiments/dev/2023-07-19-00-34-23-441/', '/home.dokt/vacekpa2/experiments/dev/2023-07-19-00-34-24-490/', '/home.dokt/vacekpa2/experiments/dev/2023-07-19-00-34-28-069/', '/home.dokt/vacekpa2/experiments/dev/2023-07-19-00-34-34-047/', '/home.dokt/vacekpa2/experiments/dev/2023-07-19-00-34-41-575/', '/home.dokt/vacekpa2/experiments/dev/2023-07-19-00-34-41-926/', '/home.dokt/vacekpa2/experiments/dev/2023-07-19-00-34-43-270/', '/home.dokt/vacekpa2/experiments/dev/2023-07-19-00-34-43-406/', '/home.dokt/vacekpa2/experiments/dev/2023-07-19-00-34-43-837/', '/home.dokt/vacekpa2/experiments/dev/2023-07-19-00-34-46-023/', '/home.dokt/vacekpa2/experiments/dev/2023-07-19-00-34-49-107/', '/home.dokt/vacekpa2/experiments/dev/2023-07-19-00-34-53-754/', '/home.dokt/vacekpa2/experiments/dev/2023-07-19-00-34-53-802/', '/home.dokt/vacekpa2/experiments/dev/2023-07-19-00-34-54-932/', '/home.dokt/vacekpa2/experiments/dev/2023-07-19-00-34-55-036/', '/home.dokt/vacekpa2/experiments/dev/2023-07-19-00-34-55-135/', '/home.dokt/vacekpa2/experiments/dev/2023-07-19-00-34-58-424/', '/home.dokt/vacekpa2/experiments/dev/2023-07-19-00-35-05-215/', '/home.dokt/vacekpa2/experiments/dev/2023-07-19-00-35-11-523/', '/home.dokt/vacekpa2/experiments/dev/2023-07-19-00-35-12-127/', '/home.dokt/vacekpa2/experiments/dev/2023-07-19-00-35-12-258/', '/home.dokt/vacekpa2/experiments/dev/2023-07-19-00-35-12-394/', '/home.dokt/vacekpa2/experiments/dev/2023-07-19-00-35-15-269/', '/home.dokt/vacekpa2/experiments/dev/2023-07-19-00-35-19-905/', '/home.dokt/vacekpa2/experiments/dev/2023-07-19-00-35-30-112/', '/home.dokt/vacekpa2/experiments/dev/2023-07-19-00-35-31-150/', '/home.dokt/vacekpa2/experiments/dev/2023-07-19-00-35-31-230/', '/home.dokt/vacekpa2/experiments/dev/2023-07-19-00-35-31-527/', '/home.dokt/vacekpa2/experiments/dev/2023-07-19-00-35-33-417/', '/home.dokt/vacekpa2/experiments/dev/2023-07-19-00-35-36-893/', '/home.dokt/vacekpa2/experiments/dev/2023-07-19-00-35-49-234/', '/home.dokt/vacekpa2/experiments/dev/2023-07-19-00-35-50-003/', '/home.dokt/vacekpa2/experiments/dev/2023-07-19-00-35-50-699/', '/home.dokt/vacekpa2/experiments/dev/2023-07-19-00-35-50-812/', '/home.dokt/vacekpa2/experiments/dev/2023-07-19-00-35-52-394/', '/home.dokt/vacekpa2/experiments/dev/2023-07-19-00-35-56-152/', '/home.dokt/vacekpa2/experiments/dev/2023-07-19-00-36-03-604/', '/home.dokt/vacekpa2/experiments/dev/2023-07-19-00-36-03-724/', '/home.dokt/vacekpa2/experiments/dev/2023-07-19-00-36-03-925/', '/home.dokt/vacekpa2/experiments/dev/2023-07-19-00-36-03-970/', '/home.dokt/vacekpa2/experiments/dev/2023-07-19-00-36-04-163/', '/home.dokt/vacekpa2/experiments/dev/2023-07-19-00-36-07-509/', '/home.dokt/vacekpa2/experiments/dev/2023-07-19-00-36-18-104/', '/home.dokt/vacekpa2/experiments/dev/2023-07-19-00-36-18-107/', '/home.dokt/vacekpa2/experiments/dev/2023-07-19-00-36-18-254/', '/home.dokt/vacekpa2/experiments/dev/2023-07-19-00-36-18-297/', '/home.dokt/vacekpa2/experiments/dev/2023-07-19-00-36-18-422/', '/home.dokt/vacekpa2/experiments/dev/2023-07-19-00-36-22-125/', '/home.dokt/vacekpa2/experiments/dev/2023-07-19-00-36-37-738/', '/home.dokt/vacekpa2/experiments/dev/2023-07-19-00-36-37-875/', '/home.dokt/vacekpa2/experiments/dev/2023-07-19-00-36-38-642/', '/home.dokt/vacekpa2/experiments/dev/2023-07-19-00-36-38-652/', '/home.dokt/vacekpa2/experiments/dev/2023-07-19-00-36-38-826/', '/home.dokt/vacekpa2/experiments/dev/2023-07-19-00-36-40-980/', '/home.dokt/vacekpa2/experiments/dev/2023-07-19-00-36-57-315/', '/home.dokt/vacekpa2/experiments/dev/2023-07-19-00-36-59-053/', '/home.dokt/vacekpa2/experiments/dev/2023-07-19-00-36-59-137/', '/home.dokt/vacekpa2/experiments/dev/2023-07-19-00-36-59-434/', '/home.dokt/vacekpa2/experiments/dev/2023-07-19-00-36-59-841/', '/home.dokt/vacekpa2/experiments/dev/2023-07-19-00-37-00-499/', '/home.dokt/vacekpa2/experiments/dev/2023-07-19-00-37-16-581/', '/home.dokt/vacekpa2/experiments/dev/2023-07-19-00-37-19-419/', '/home.dokt/vacekpa2/experiments/dev/2023-07-19-00-37-19-574/', '/home.dokt/vacekpa2/experiments/dev/2023-07-19-00-37-20-248/', '/home.dokt/vacekpa2/experiments/dev/2023-07-19-00-37-20-254/', '/home.dokt/vacekpa2/experiments/dev/2023-07-19-00-37-20-277/', '/home.dokt/vacekpa2/experiments/dev/2023-07-19-00-37-35-373/', '/home.dokt/vacekpa2/experiments/dev/2023-07-19-00-37-38-605/', '/home.dokt/vacekpa2/experiments/dev/2023-07-19-00-37-39-235/', '/home.dokt/vacekpa2/experiments/dev/2023-07-19-00-37-39-695/', '/home.dokt/vacekpa2/experiments/dev/2023-07-19-00-37-39-871/', '/home.dokt/vacekpa2/experiments/dev/2023-07-19-00-37-39-909/', '/home.dokt/vacekpa2/experiments/dev/2023-07-19-00-37-53-690/', '/home.dokt/vacekpa2/experiments/dev/2023-07-19-00-37-56-157/', '/home.dokt/vacekpa2/experiments/dev/2023-07-19-00-37-56-205/', '/home.dokt/vacekpa2/experiments/dev/2023-07-19-00-37-56-369/', '/home.dokt/vacekpa2/experiments/dev/2023-07-19-00-37-56-655/', '/home.dokt/vacekpa2/experiments/dev/2023-07-19-00-37-56-662/', '/home.dokt/vacekpa2/experiments/dev/2023-07-19-00-38-05-179/', '/home.dokt/vacekpa2/experiments/dev/2023-07-19-00-38-07-946/', '/home.dokt/vacekpa2/experiments/dev/2023-07-19-00-38-08-008/', '/home.dokt/vacekpa2/experiments/dev/2023-07-19-00-38-08-156/', '/home.dokt/vacekpa2/experiments/dev/2023-07-19-00-38-08-236/', '/home.dokt/vacekpa2/experiments/dev/2023-07-19-00-38-08-294/', '/home.dokt/vacekpa2/experiments/dev/2023-07-19-00-38-22-464/', '/home.dokt/vacekpa2/experiments/dev/2023-07-19-00-38-26-564/', '/home.dokt/vacekpa2/experiments/dev/2023-07-19-00-38-26-591/', '/home.dokt/vacekpa2/experiments/dev/2023-07-19-00-38-27-438/', '/home.dokt/vacekpa2/experiments/dev/2023-07-19-00-38-27-466/', '/home.dokt/vacekpa2/experiments/dev/2023-07-19-00-38-27-485/', '/home.dokt/vacekpa2/experiments/dev/2023-07-19-00-38-38-798/', '/home.dokt/vacekpa2/experiments/dev/2023-07-19-00-38-45-696/', '/home.dokt/vacekpa2/experiments/dev/2023-07-19-00-38-46-092/', '/home.dokt/vacekpa2/experiments/dev/2023-07-19-00-38-46-113/', '/home.dokt/vacekpa2/experiments/dev/2023-07-19-00-38-46-274/', '/home.dokt/vacekpa2/experiments/dev/2023-07-19-00-38-46-650/', '/home.dokt/vacekpa2/experiments/dev/2023-07-19-00-38-50-781/', '/home.dokt/vacekpa2/experiments/dev/2023-07-19-00-38-57-042/', '/home.dokt/vacekpa2/experiments/dev/2023-07-19-00-38-57-409/', '/home.dokt/vacekpa2/experiments/dev/2023-07-19-00-38-57-633/', '/home.dokt/vacekpa2/experiments/dev/2023-07-19-00-38-57-738/', '/home.dokt/vacekpa2/experiments/dev/2023-07-19-00-38-58-135/', '/home.dokt/vacekpa2/experiments/dev/2023-07-19-00-39-01-658/', '/home.dokt/vacekpa2/experiments/dev/2023-07-19-00-39-08-786/', '/home.dokt/vacekpa2/experiments/dev/2023-07-19-00-39-09-031/', '/home.dokt/vacekpa2/experiments/dev/2023-07-19-00-39-09-439/', '/home.dokt/vacekpa2/experiments/dev/2023-07-19-00-39-09-512/', '/home.dokt/vacekpa2/experiments/dev/2023-07-19-00-39-09-557/', '/home.dokt/vacekpa2/experiments/dev/2023-07-19-00-39-12-932/', '/home.dokt/vacekpa2/experiments/dev/2023-07-19-00-39-20-609/', '/home.dokt/vacekpa2/experiments/dev/2023-07-19-00-39-20-855/', '/home.dokt/vacekpa2/experiments/dev/2023-07-19-00-39-21-070/', '/home.dokt/vacekpa2/experiments/dev/2023-07-19-00-39-21-079/', '/home.dokt/vacekpa2/experiments/dev/2023-07-19-00-39-21-193/', '/home.dokt/vacekpa2/experiments/dev/2023-07-19-00-39-24-169/', '/home.dokt/vacekpa2/experiments/dev/2023-07-19-00-39-32-025/', '/home.dokt/vacekpa2/experiments/dev/2023-07-19-00-39-32-355/', '/home.dokt/vacekpa2/experiments/dev/2023-07-19-00-39-32-772/', '/home.dokt/vacekpa2/experiments/dev/2023-07-19-00-39-32-804/', '/home.dokt/vacekpa2/experiments/dev/2023-07-19-00-39-32-850/', '/home.dokt/vacekpa2/experiments/dev/2023-07-19-00-39-35-572/', '/home.dokt/vacekpa2/experiments/dev/2023-07-19-00-39-43-706/', '/home.dokt/vacekpa2/experiments/dev/2023-07-19-00-39-43-887/', '/home.dokt/vacekpa2/experiments/dev/2023-07-19-00-39-44-338/', '/home.dokt/vacekpa2/experiments/dev/2023-07-19-00-39-44-371/', '/home.dokt/vacekpa2/experiments/dev/2023-07-19-00-39-44-605/', '/home.dokt/vacekpa2/experiments/dev/2023-07-19-00-39-46-675/', '/home.dokt/vacekpa2/experiments/dev/2023-07-19-00-39-55-204/', '/home.dokt/vacekpa2/experiments/dev/2023-07-19-00-39-55-310/', '/home.dokt/vacekpa2/experiments/dev/2023-07-19-00-39-55-670/', '/home.dokt/vacekpa2/experiments/dev/2023-07-19-00-39-56-056/', '/home.dokt/vacekpa2/experiments/dev/2023-07-19-00-39-56-163/', '/home.dokt/vacekpa2/experiments/dev/2023-07-19-00-39-57-936/', '/home.dokt/vacekpa2/experiments/dev/2023-07-19-00-40-06-545/', '/home.dokt/vacekpa2/experiments/dev/2023-07-19-00-40-06-769/', '/home.dokt/vacekpa2/experiments/dev/2023-07-19-00-40-07-028/', '/home.dokt/vacekpa2/experiments/dev/2023-07-19-00-40-07-724/', '/home.dokt/vacekpa2/experiments/dev/2023-07-19-00-40-07-748/', '/home.dokt/vacekpa2/experiments/dev/2023-07-19-00-40-09-604/', '/home.dokt/vacekpa2/experiments/dev/2023-07-19-00-40-18-232/', '/home.dokt/vacekpa2/experiments/dev/2023-07-19-00-40-18-361/', '/home.dokt/vacekpa2/experiments/dev/2023-07-19-00-40-18-533/', '/home.dokt/vacekpa2/experiments/dev/2023-07-19-00-40-18-967/', '/home.dokt/vacekpa2/experiments/dev/2023-07-19-00-40-19-251/', '/home.dokt/vacekpa2/experiments/dev/2023-07-19-00-40-21-209/', '/home.dokt/vacekpa2/experiments/dev/2023-07-19-00-40-36-598/', '/home.dokt/vacekpa2/experiments/dev/2023-07-19-00-40-36-953/', '/home.dokt/vacekpa2/experiments/dev/2023-07-19-00-40-37-572/', '/home.dokt/vacekpa2/experiments/dev/2023-07-19-00-40-38-295/', '/home.dokt/vacekpa2/experiments/dev/2023-07-19-00-40-38-596/', '/home.dokt/vacekpa2/experiments/dev/2023-07-19-00-40-39-634/', '/home.dokt/vacekpa2/experiments/dev/2023-07-19-00-40-48-419/', '/home.dokt/vacekpa2/experiments/dev/2023-07-19-00-40-48-802/', '/home.dokt/vacekpa2/experiments/dev/2023-07-19-00-40-49-080/', '/home.dokt/vacekpa2/experiments/dev/2023-07-19-00-40-50-297/', '/home.dokt/vacekpa2/experiments/dev/2023-07-19-00-40-50-350/', '/home.dokt/vacekpa2/experiments/dev/2023-07-19-00-40-50-919/', '/home.dokt/vacekpa2/experiments/dev/2023-07-19-00-40-59-922/', '/home.dokt/vacekpa2/experiments/dev/2023-07-19-00-41-00-325/', '/home.dokt/vacekpa2/experiments/dev/2023-07-19-00-41-00-878/', '/home.dokt/vacekpa2/experiments/dev/2023-07-19-00-41-01-826/', '/home.dokt/vacekpa2/experiments/dev/2023-07-19-00-41-01-906/', '/home.dokt/vacekpa2/experiments/dev/2023-07-19-00-41-02-026/', '/home.dokt/vacekpa2/experiments/dev/2023-07-19-00-41-16-449/', '/home.dokt/vacekpa2/experiments/dev/2023-07-19-00-41-17-819/', '/home.dokt/vacekpa2/experiments/dev/2023-07-19-00-41-19-783/', '/home.dokt/vacekpa2/experiments/dev/2023-07-19-00-41-20-416/', '/home.dokt/vacekpa2/experiments/dev/2023-07-19-00-41-21-071/', '/home.dokt/vacekpa2/experiments/dev/2023-07-19-00-41-21-116/', '/home.dokt/vacekpa2/experiments/dev/2023-07-19-00-41-32-604/', '/home.dokt/vacekpa2/experiments/dev/2023-07-19-00-41-33-617/', '/home.dokt/vacekpa2/experiments/dev/2023-07-19-00-41-34-666/', '/home.dokt/vacekpa2/experiments/dev/2023-07-19-00-41-34-751/', '/home.dokt/vacekpa2/experiments/dev/2023-07-19-00-41-35-087/', '/home.dokt/vacekpa2/experiments/dev/2023-07-19-00-41-35-266/', '/home.dokt/vacekpa2/experiments/dev/2023-07-19-00-41-44-005/', '/home.dokt/vacekpa2/experiments/dev/2023-07-19-00-41-45-615/', '/home.dokt/vacekpa2/experiments/dev/2023-07-19-00-41-46-321/', '/home.dokt/vacekpa2/experiments/dev/2023-07-19-00-41-46-609/', '/home.dokt/vacekpa2/experiments/dev/2023-07-19-00-41-46-875/', '/home.dokt/vacekpa2/experiments/dev/2023-07-19-00-41-47-030/', '/home.dokt/vacekpa2/experiments/dev/2023-07-19-00-41-55-714/', '/home.dokt/vacekpa2/experiments/dev/2023-07-19-00-41-57-446/', '/home.dokt/vacekpa2/experiments/dev/2023-07-19-00-41-58-231/', '/home.dokt/vacekpa2/experiments/dev/2023-07-19-00-41-58-409/', '/home.dokt/vacekpa2/experiments/dev/2023-07-19-00-41-58-450/', '/home.dokt/vacekpa2/experiments/dev/2023-07-19-00-42-06-722/', '/home.dokt/vacekpa2/experiments/dev/2023-07-19-00-42-08-807/', '/home.dokt/vacekpa2/experiments/dev/2023-07-19-00-42-09-989/', '/home.dokt/vacekpa2/experiments/dev/2023-07-19-00-42-09-996/', '/home.dokt/vacekpa2/experiments/dev/2023-07-19-00-42-10-006/', '/home.dokt/vacekpa2/experiments/dev/2023-07-19-00-42-18-224/', '/home.dokt/vacekpa2/experiments/dev/2023-07-19-00-42-20-498/', '/home.dokt/vacekpa2/experiments/dev/2023-07-19-00-42-21-382/', '/home.dokt/vacekpa2/experiments/dev/2023-07-19-00-42-21-652/', '/home.dokt/vacekpa2/experiments/dev/2023-07-19-00-42-21-663/', '/home.dokt/vacekpa2/experiments/dev/2023-07-19-00-42-29-428/', '/home.dokt/vacekpa2/experiments/dev/2023-07-19-00-42-31-929/', '/home.dokt/vacekpa2/experiments/dev/2023-07-19-00-42-32-523/', '/home.dokt/vacekpa2/experiments/dev/2023-07-19-00-42-32-993/', '/home.dokt/vacekpa2/experiments/dev/2023-07-19-00-42-33-243/', '/home.dokt/vacekpa2/experiments/dev/2023-07-19-00-42-40-156/', '/home.dokt/vacekpa2/experiments/dev/2023-07-19-00-42-45-492/', '/home.dokt/vacekpa2/experiments/dev/2023-07-19-00-42-45-987/', '/home.dokt/vacekpa2/experiments/dev/2023-07-19-00-42-46-987/', '/home.dokt/vacekpa2/experiments/dev/2023-07-19-00-42-47-341/', '/home.dokt/vacekpa2/experiments/dev/2023-07-19-00-42-55-705/', '/home.dokt/vacekpa2/experiments/dev/2023-07-19-00-43-03-135/', '/home.dokt/vacekpa2/experiments/dev/2023-07-19-00-43-03-409/', '/home.dokt/vacekpa2/experiments/dev/2023-07-19-00-43-04-883/', '/home.dokt/vacekpa2/experiments/dev/2023-07-19-00-43-05-372/', '/home.dokt/vacekpa2/experiments/dev/2023-07-19-00-43-11-260/', '/home.dokt/vacekpa2/experiments/dev/2023-07-19-00-43-21-277/', '/home.dokt/vacekpa2/experiments/dev/2023-07-19-00-43-21-857/', '/home.dokt/vacekpa2/experiments/dev/2023-07-19-00-43-22-613/', '/home.dokt/vacekpa2/experiments/dev/2023-07-19-00-43-22-987/', '/home.dokt/vacekpa2/experiments/dev/2023-07-19-00-43-27-277/', '/home.dokt/vacekpa2/experiments/dev/2023-07-19-00-43-39-135/', '/home.dokt/vacekpa2/experiments/dev/2023-07-19-00-43-40-846/', '/home.dokt/vacekpa2/experiments/dev/2023-07-19-00-43-41-084/', '/home.dokt/vacekpa2/experiments/dev/2023-07-19-00-43-41-470/', '/home.dokt/vacekpa2/experiments/dev/2023-07-19-00-43-44-594/', '/home.dokt/vacekpa2/experiments/dev/2023-07-19-00-43-57-277/', '/home.dokt/vacekpa2/experiments/dev/2023-07-19-00-43-59-856/', '/home.dokt/vacekpa2/experiments/dev/2023-07-19-00-44-00-004/', '/home.dokt/vacekpa2/experiments/dev/2023-07-19-00-44-00-116/', '/home.dokt/vacekpa2/experiments/dev/2023-07-19-00-44-02-133/', '/home.dokt/vacekpa2/experiments/dev/2023-07-19-00-44-15-548/', '/home.dokt/vacekpa2/experiments/dev/2023-07-19-00-44-18-217/', '/home.dokt/vacekpa2/experiments/dev/2023-07-19-00-44-18-564/', '/home.dokt/vacekpa2/experiments/dev/2023-07-19-00-44-19-034/', '/home.dokt/vacekpa2/experiments/dev/2023-07-19-00-44-20-046/', '/home.dokt/vacekpa2/experiments/dev/2023-07-19-00-44-33-585/', '/home.dokt/vacekpa2/experiments/dev/2023-07-19-00-44-37-061/', '/home.dokt/vacekpa2/experiments/dev/2023-07-19-00-44-37-512/', '/home.dokt/vacekpa2/experiments/dev/2023-07-19-00-44-37-516/', '/home.dokt/vacekpa2/experiments/dev/2023-07-19-00-44-38-036/', '/home.dokt/vacekpa2/experiments/dev/2023-07-19-00-44-51-295/', '/home.dokt/vacekpa2/experiments/dev/2023-07-19-00-44-55-354/', '/home.dokt/vacekpa2/experiments/dev/2023-07-19-00-44-55-491/', '/home.dokt/vacekpa2/experiments/dev/2023-07-19-00-44-55-576/', '/home.dokt/vacekpa2/experiments/dev/2023-07-19-00-44-55-602/', '/home.dokt/vacekpa2/experiments/dev/2023-07-19-00-45-02-494/', '/home.dokt/vacekpa2/experiments/dev/2023-07-19-00-45-07-247/', '/home.dokt/vacekpa2/experiments/dev/2023-07-19-00-45-07-436/', '/home.dokt/vacekpa2/experiments/dev/2023-07-19-00-45-07-501/', '/home.dokt/vacekpa2/experiments/dev/2023-07-19-00-45-07-582/', '/home.dokt/vacekpa2/experiments/dev/2023-07-19-00-45-13-701/', '/home.dokt/vacekpa2/experiments/dev/2023-07-19-00-45-18-562/', '/home.dokt/vacekpa2/experiments/dev/2023-07-19-00-45-18-998/', '/home.dokt/vacekpa2/experiments/dev/2023-07-19-00-45-19-111/', '/home.dokt/vacekpa2/experiments/dev/2023-07-19-00-45-19-158/', '/home.dokt/vacekpa2/experiments/dev/2023-07-19-00-45-24-444/', '/home.dokt/vacekpa2/experiments/dev/2023-07-19-00-45-29-785/', '/home.dokt/vacekpa2/experiments/dev/2023-07-19-00-45-30-366/', '/home.dokt/vacekpa2/experiments/dev/2023-07-19-00-45-30-535/', '/home.dokt/vacekpa2/experiments/dev/2023-07-19-00-45-30-672/', '/home.dokt/vacekpa2/experiments/dev/2023-07-19-00-45-35-421/', '/home.dokt/vacekpa2/experiments/dev/2023-07-19-00-45-41-070/', '/home.dokt/vacekpa2/experiments/dev/2023-07-19-00-45-41-757/', '/home.dokt/vacekpa2/experiments/dev/2023-07-19-00-45-41-933/', '/home.dokt/vacekpa2/experiments/dev/2023-07-19-00-45-46-247/', '/home.dokt/vacekpa2/experiments/dev/2023-07-19-00-45-52-427/', '/home.dokt/vacekpa2/experiments/dev/2023-07-19-00-45-53-066/', '/home.dokt/vacekpa2/experiments/dev/2023-07-19-00-45-53-108/', '/home.dokt/vacekpa2/experiments/dev/2023-07-19-00-45-58-799/', '/home.dokt/vacekpa2/experiments/dev/2023-07-19-00-46-10-746/', '/home.dokt/vacekpa2/experiments/dev/2023-07-19-00-46-11-210/', '/home.dokt/vacekpa2/experiments/dev/2023-07-19-00-46-11-396/', '/home.dokt/vacekpa2/experiments/dev/2023-07-19-00-46-15-819/', '/home.dokt/vacekpa2/experiments/dev/2023-07-19-00-46-28-555/', '/home.dokt/vacekpa2/experiments/dev/2023-07-19-00-46-28-566/', '/home.dokt/vacekpa2/experiments/dev/2023-07-19-00-46-29-686/', '/home.dokt/vacekpa2/experiments/dev/2023-07-19-00-46-33-382/', '/home.dokt/vacekpa2/experiments/dev/2023-07-19-00-46-45-630/', '/home.dokt/vacekpa2/experiments/dev/2023-07-19-00-46-46-969/', '/home.dokt/vacekpa2/experiments/dev/2023-07-19-00-46-47-972/', '/home.dokt/vacekpa2/experiments/dev/2023-07-19-00-46-50-140/', '/home.dokt/vacekpa2/experiments/dev/2023-07-19-00-47-03-023/', '/home.dokt/vacekpa2/experiments/dev/2023-07-19-00-47-04-800/', '/home.dokt/vacekpa2/experiments/dev/2023-07-19-00-47-04-942/', '/home.dokt/vacekpa2/experiments/dev/2023-07-19-00-47-07-076/', '/home.dokt/vacekpa2/experiments/dev/2023-07-19-00-47-20-108/', '/home.dokt/vacekpa2/experiments/dev/2023-07-19-00-47-23-228/', '/home.dokt/vacekpa2/experiments/dev/2023-07-19-00-47-23-357/', '/home.dokt/vacekpa2/experiments/dev/2023-07-19-00-47-24-823/', '/home.dokt/vacekpa2/experiments/dev/2023-07-19-00-47-36-858/', '/home.dokt/vacekpa2/experiments/dev/2023-07-19-00-47-40-930/', '/home.dokt/vacekpa2/experiments/dev/2023-07-19-00-47-41-515/', '/home.dokt/vacekpa2/experiments/dev/2023-07-19-00-47-53-963/', '/home.dokt/vacekpa2/experiments/dev/2023-07-19-00-47-57-642/']\n"
     ]
    }
   ],
   "source": [
    "\n"
   ],
   "metadata": {
    "collapsed": false,
    "ExecuteTime": {
     "end_time": "2023-07-19T07:43:51.545806827Z",
     "start_time": "2023-07-19T07:43:51.475638430Z"
    }
   }
  }
 ],
 "metadata": {
  "kernelspec": {
   "display_name": "Python 3",
   "language": "python",
   "name": "python3"
  },
  "language_info": {
   "codemirror_mode": {
    "name": "ipython",
    "version": 2
   },
   "file_extension": ".py",
   "mimetype": "text/x-python",
   "name": "python",
   "nbconvert_exporter": "python",
   "pygments_lexer": "ipython2",
   "version": "2.7.6"
  }
 },
 "nbformat": 4,
 "nbformat_minor": 0
}
