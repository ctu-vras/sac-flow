{
 "cells": [
  {
   "cell_type": "code",
   "execution_count": 56,
   "metadata": {
    "collapsed": true,
    "ExecuteTime": {
     "end_time": "2023-06-16T10:05:24.450329215Z",
     "start_time": "2023-06-16T10:05:24.272240354Z"
    }
   },
   "outputs": [
    {
     "data": {
      "text/plain": "  exp_name     epe3d  acc3d_strict  acc3d_relax  angle_error   outlier  \\\n0      dev  0.245842      0.038680     0.183696     0.125528  0.912334   \n1      dev  0.246491      0.000000     0.120403     0.146714  0.967503   \n2      dev  0.336021      0.036059     0.065274     0.107339  0.952435   \n3      dev  0.280821      0.019770     0.088286     0.131208  0.944291   \n4      dev  0.254855      0.049906     0.127106     0.099550  0.925141   \n5      dev  0.270263      0.030296     0.128287     0.110837  0.913795   \n6      dev  0.177557      0.115800     0.451655     0.128515  0.735402   \n7      dev  0.298591      0.028095     0.091127     0.143512  0.945912   \n8      dev  0.298591      0.028095     0.091127     0.143512  0.945912   \n9      dev  0.231836      0.036479     0.137732     0.106635  0.914055   \n\n   solver_time    dataset  \n0     1.982607  argoverse  \n1     2.116008  argoverse  \n2     2.132563  argoverse  \n3     2.035323  argoverse  \n4     2.140059  argoverse  \n5     2.178515  argoverse  \n6     2.083488  argoverse  \n7     2.150250  argoverse  \n8     2.150250  argoverse  \n9     2.147244  argoverse  ",
      "text/html": "<div>\n<style scoped>\n    .dataframe tbody tr th:only-of-type {\n        vertical-align: middle;\n    }\n\n    .dataframe tbody tr th {\n        vertical-align: top;\n    }\n\n    .dataframe thead th {\n        text-align: right;\n    }\n</style>\n<table border=\"1\" class=\"dataframe\">\n  <thead>\n    <tr style=\"text-align: right;\">\n      <th></th>\n      <th>exp_name</th>\n      <th>epe3d</th>\n      <th>acc3d_strict</th>\n      <th>acc3d_relax</th>\n      <th>angle_error</th>\n      <th>outlier</th>\n      <th>solver_time</th>\n      <th>dataset</th>\n    </tr>\n  </thead>\n  <tbody>\n    <tr>\n      <th>0</th>\n      <td>dev</td>\n      <td>0.245842</td>\n      <td>0.038680</td>\n      <td>0.183696</td>\n      <td>0.125528</td>\n      <td>0.912334</td>\n      <td>1.982607</td>\n      <td>argoverse</td>\n    </tr>\n    <tr>\n      <th>1</th>\n      <td>dev</td>\n      <td>0.246491</td>\n      <td>0.000000</td>\n      <td>0.120403</td>\n      <td>0.146714</td>\n      <td>0.967503</td>\n      <td>2.116008</td>\n      <td>argoverse</td>\n    </tr>\n    <tr>\n      <th>2</th>\n      <td>dev</td>\n      <td>0.336021</td>\n      <td>0.036059</td>\n      <td>0.065274</td>\n      <td>0.107339</td>\n      <td>0.952435</td>\n      <td>2.132563</td>\n      <td>argoverse</td>\n    </tr>\n    <tr>\n      <th>3</th>\n      <td>dev</td>\n      <td>0.280821</td>\n      <td>0.019770</td>\n      <td>0.088286</td>\n      <td>0.131208</td>\n      <td>0.944291</td>\n      <td>2.035323</td>\n      <td>argoverse</td>\n    </tr>\n    <tr>\n      <th>4</th>\n      <td>dev</td>\n      <td>0.254855</td>\n      <td>0.049906</td>\n      <td>0.127106</td>\n      <td>0.099550</td>\n      <td>0.925141</td>\n      <td>2.140059</td>\n      <td>argoverse</td>\n    </tr>\n    <tr>\n      <th>5</th>\n      <td>dev</td>\n      <td>0.270263</td>\n      <td>0.030296</td>\n      <td>0.128287</td>\n      <td>0.110837</td>\n      <td>0.913795</td>\n      <td>2.178515</td>\n      <td>argoverse</td>\n    </tr>\n    <tr>\n      <th>6</th>\n      <td>dev</td>\n      <td>0.177557</td>\n      <td>0.115800</td>\n      <td>0.451655</td>\n      <td>0.128515</td>\n      <td>0.735402</td>\n      <td>2.083488</td>\n      <td>argoverse</td>\n    </tr>\n    <tr>\n      <th>7</th>\n      <td>dev</td>\n      <td>0.298591</td>\n      <td>0.028095</td>\n      <td>0.091127</td>\n      <td>0.143512</td>\n      <td>0.945912</td>\n      <td>2.150250</td>\n      <td>argoverse</td>\n    </tr>\n    <tr>\n      <th>8</th>\n      <td>dev</td>\n      <td>0.298591</td>\n      <td>0.028095</td>\n      <td>0.091127</td>\n      <td>0.143512</td>\n      <td>0.945912</td>\n      <td>2.150250</td>\n      <td>argoverse</td>\n    </tr>\n    <tr>\n      <th>9</th>\n      <td>dev</td>\n      <td>0.231836</td>\n      <td>0.036479</td>\n      <td>0.137732</td>\n      <td>0.106635</td>\n      <td>0.914055</td>\n      <td>2.147244</td>\n      <td>argoverse</td>\n    </tr>\n  </tbody>\n</table>\n</div>"
     },
     "execution_count": 56,
     "metadata": {},
     "output_type": "execute_result"
    }
   ],
   "source": [
    "import pandas as pd\n",
    "import os\n",
    "import glob\n",
    "import numpy as np\n",
    "# _ = os.stat(f'{os.path.expanduser(\"~\")}/experiments/').st_mtime    # to refresh the cache\n",
    "\n",
    "# metric_files = glob.glob(f'{os.path.expanduser(\"~\")}/experiments/*/logfile*')\n",
    "metric_files = glob.glob(f'{os.path.expanduser(\"~\")}/experiments/dev/*/logfile')\n",
    "minus_metric_files = []\n",
    "# minus_metric_files += glob.glob(f'{os.path.expanduser(\"~\")}/experiments/*5000/logfile*')\n",
    "# minus_metric_files += glob.glob(f'{os.path.expanduser(\"~\")}/experiments/dev/logfile*')\n",
    "# minus_metric_files += glob.glob(f'{os.path.expanduser(\"~\")}/experiments/ours/logfile*')\n",
    "\n",
    "metric_files = [x for x in metric_files if x not in minus_metric_files]\n",
    "\n",
    "all_metrics = []\n",
    "\n",
    "# include args\n",
    "include_args = ['dataset']\n",
    "for i in range(len(metric_files)):\n",
    "    file = metric_files[i]\n",
    "    opened_file = open(file, 'r')\n",
    "\n",
    "    accum_info = {}\n",
    "\n",
    "    for line in opened_file.readlines():\n",
    "\n",
    "        args = np.load(os.path.dirname(file) + '/args.npy', allow_pickle=True).item()\n",
    "\n",
    "        # if 'dataset' in line:\n",
    "        #     dataset = line.split('=')[-1].strip()\n",
    "        #     dataset = dataset.capitalize()\n",
    "\n",
    "        if 'exp_name' in line:\n",
    "            exp_name = line.split('=')[-1].strip()\n",
    "\n",
    "        if 'EPE3D' in line:\n",
    "            epe3d = float(line.split(' ')[-1])\n",
    "\n",
    "        if 'acc3d_strict' in line:\n",
    "            acc3d_strict = float(line.split(' ')[-1])\n",
    "\n",
    "        if 'acc3d_relax' in line:\n",
    "            acc3d_relax = float(line.split(' ')[-1])\n",
    "\n",
    "        if 'angle_error' in line:\n",
    "            angle_error = float(line.split(' ')[-1])\n",
    "\n",
    "        if 'outlier' in line:\n",
    "            outlier = float(line.split(' ')[-1])\n",
    "\n",
    "        if 'solver_time' in line:\n",
    "            solver_time = float(line.split(' ')[-1])\n",
    "\n",
    "\n",
    "    accum_info = {\"exp_name\" : exp_name,\n",
    "                  \"epe3d\" : epe3d,\n",
    "                  \"acc3d_strict\" : acc3d_strict,\n",
    "                  \"acc3d_relax\" : acc3d_relax,\n",
    "                  \"angle_error\" : angle_error,\n",
    "                  \"outlier\" : outlier,\n",
    "                  \"solver_time\" : solver_time}\n",
    "\n",
    "    for includes in include_args:\n",
    "        accum_info[includes] = getattr(args, includes)\n",
    "\n",
    "    all_metrics.append(accum_info)\n",
    "\n",
    "    opened_file.close()\n",
    "\n",
    "metric_df = pd.DataFrame(all_metrics)\n",
    "\n",
    "\n",
    "### Works, highlights  rows\n",
    "# highest_epe = metric_df['epe3d'].argmax()\n",
    "# print(highest_epe)\n",
    "# subsets = pd.IndexSlice[highest_epe, :]\n",
    "\n",
    "# metric_df.style.applymap(lambda x: \"background-color: green\", subset=subsets)\n",
    "metric_df\n",
    "# todo search for metrics you want, commands, plotting"
   ]
  },
  {
   "cell_type": "code",
   "execution_count": 6,
   "outputs": [],
   "source": [
    "from data.PATHS import TMP_VIS_PATH\n",
    "import matplotlib.pyplot as plt\n",
    "plt.close()\n",
    "plt.rcParams[\"figure.figsize\"] = (18,10)\n",
    "plt.title(\"Model performance\")\n",
    "plt.grid(True)\n",
    "plt.xlabel(\"Time Complexity (s)\")\n",
    "plt.ylabel(\"EPE3D [m]\")\n",
    "\n",
    "# annotate points\n",
    "for i in range(len(metric_df)):\n",
    "    exp_name = metric_df['exp_name'][i]\n",
    "    if 'ours' in exp_name or 'visibility' in exp_name or 'VIS' in exp_name or 'forward' in exp_name or \"FF\" in exp_name:\n",
    "        color = 'r'\n",
    "    else:\n",
    "        color = 'b'\n",
    "\n",
    "    # plot marker\n",
    "    plt.plot(metric_df['solver_time'][i], metric_df['epe3d'][i], f'{color}*', markersize=20)\n",
    "\n",
    "                    # Name of the point                         # Coordinates\n",
    "    plt.annotate(exp_name.replace('-ours','(ours)'), (metric_df['solver_time'][i], metric_df['epe3d'][i]), fontsize=15)\n",
    "\n",
    "plt.savefig(TMP_VIS_PATH + '/gif.png')\n"
   ],
   "metadata": {
    "collapsed": false,
    "ExecuteTime": {
     "end_time": "2023-06-15T06:25:44.489418931Z",
     "start_time": "2023-06-15T06:25:44.149463740Z"
    }
   }
  },
  {
   "cell_type": "code",
   "execution_count": 39,
   "outputs": [
    {
     "data": {
      "text/plain": "[{'args': array(Namespace(dataset='argoverse', data_path='/home.dokt/vacekpa2/data/', exp_name='dev', baseline='NSF', gpu='0', verbose=0, max_range=35, per_sample_init=1, store_inference=1, runs=1, dev=1, vis=0, l_ch=1.0, l_ff=1, l_dt=0, l_sm=1, l_vsm=0, normals_K=4, KNN_max_radius=1.5, smooth_K=4, pc2_smoothness=0, l_ch_bothways=1, l_dt_gridfactor=10, lr=0.008, iters=10, early_patience=10, early_min_delta=0.001, use_case='local minima', expectation='beat baseline', hypothesis='beat baseline'),\n        dtype=object)},\n {'args': array(Namespace(dataset='argoverse', data_path='/home.dokt/vacekpa2/data/', exp_name='dev', baseline='NSF', gpu='0', verbose=0, max_range=35, per_sample_init=1, store_inference=1, runs=1, dev=1, vis=0, l_ch=1.0, l_ff=1, l_dt=0, l_sm=1, l_vsm=0, normals_K=4, KNN_max_radius=1.5, smooth_K=4, pc2_smoothness=0, l_ch_bothways=1, l_dt_gridfactor=10, lr=0.008, iters=10, early_patience=10, early_min_delta=0.001, use_case='local minima', expectation='beat baseline', hypothesis='beat baseline'),\n        dtype=object)},\n {'args': array(Namespace(dataset='argoverse', data_path='/home.dokt/vacekpa2/data/', exp_name='dev', baseline='NSF', gpu='0', verbose=0, max_range=35, per_sample_init=1, store_inference=1, runs=1, dev=1, vis=0, l_ch=1.0, l_ff=1, l_dt=0, l_sm=1, l_vsm=0, normals_K=4, KNN_max_radius=1.5, smooth_K=4, pc2_smoothness=0, l_ch_bothways=1, l_dt_gridfactor=10, lr=0.008, iters=10, early_patience=10, early_min_delta=0.001, use_case='local minima', expectation='beat baseline', hypothesis='beat baseline'),\n        dtype=object)},\n {'args': array(Namespace(dataset='argoverse', data_path='/home.dokt/vacekpa2/data/', exp_name='dev', baseline='NSF', gpu='0', verbose=0, max_range=35, per_sample_init=1, store_inference=1, runs=1, dev=1, vis=0, l_ch=1.0, l_ff=1, l_dt=0, l_sm=1, l_vsm=0, normals_K=4, KNN_max_radius=1.5, smooth_K=4, pc2_smoothness=0, l_ch_bothways=1, l_dt_gridfactor=10, lr=0.008, iters=10, early_patience=10, early_min_delta=0.001, use_case='local minima', expectation='beat baseline', hypothesis='beat baseline'),\n        dtype=object)},\n {'args': array(Namespace(dataset='argoverse', data_path='/home.dokt/vacekpa2/data/', exp_name='dev', baseline='NSF', gpu='0', verbose=0, max_range=35, per_sample_init=1, store_inference=1, runs=1, dev=1, vis=0, l_ch=1.0, l_ff=1, l_dt=0, l_sm=1, l_vsm=0, normals_K=4, KNN_max_radius=1.5, smooth_K=4, pc2_smoothness=0, l_ch_bothways=1, l_dt_gridfactor=10, lr=0.008, iters=10, early_patience=10, early_min_delta=0.001, use_case='local minima', expectation='beat baseline', hypothesis='beat baseline'),\n        dtype=object)},\n {'args': array(Namespace(dataset='argoverse', data_path='/home.dokt/vacekpa2/data/', exp_name='dev', baseline='NSF', gpu='0', verbose=0, max_range=35, per_sample_init=1, store_inference=1, runs=1, dev=1, vis=0, l_ch=1.0, l_ff=1, l_dt=0, l_sm=1, l_vsm=0, normals_K=4, KNN_max_radius=1.5, smooth_K=4, pc2_smoothness=0, l_ch_bothways=1, l_dt_gridfactor=10, lr=0.008, iters=10, early_patience=10, early_min_delta=0.001, use_case='local minima', expectation='beat baseline', hypothesis='beat baseline'),\n        dtype=object)},\n {'args': array(Namespace(dataset='argoverse', data_path='/home.dokt/vacekpa2/data/', exp_name='dev', baseline='NSF', gpu='0', verbose=0, max_range=35, per_sample_init=1, store_inference=1, runs=1, dev=1, vis=0, l_ch=1.0, l_ff=1, l_dt=0, l_sm=1, l_vsm=0, normals_K=4, KNN_max_radius=1.5, smooth_K=4, pc2_smoothness=0, l_ch_bothways=1, l_dt_gridfactor=10, lr=0.008, iters=10, early_patience=10, early_min_delta=0.001, use_case='local minima', expectation='beat baseline', hypothesis='beat baseline'),\n        dtype=object)},\n {'args': array(Namespace(dataset='argoverse', data_path='/home.dokt/vacekpa2/data/', exp_name='dev', baseline='NSF', gpu='0', verbose=0, max_range=35, per_sample_init=1, store_inference=1, runs=1, dev=1, vis=0, l_ch=1.0, l_ff=1, l_dt=0, l_sm=1, l_vsm=0, normals_K=4, KNN_max_radius=1.5, smooth_K=4, pc2_smoothness=0, l_ch_bothways=1, l_dt_gridfactor=10, lr=0.008, iters=10, early_patience=10, early_min_delta=0.001, use_case='local minima', expectation='beat baseline', hypothesis='beat baseline'),\n        dtype=object)},\n {'args': array(Namespace(dataset='argoverse', data_path='/home.dokt/vacekpa2/data/', exp_name='dev', baseline='NSF', gpu='0', verbose=0, max_range=35, per_sample_init=1, store_inference=1, runs=1, dev=1, vis=0, l_ch=1.0, l_ff=1, l_dt=0, l_sm=1, l_vsm=0, normals_K=4, KNN_max_radius=1.5, smooth_K=4, pc2_smoothness=0, l_ch_bothways=1, l_dt_gridfactor=10, lr=0.008, iters=10, early_patience=10, early_min_delta=0.001, use_case='local minima', expectation='beat baseline', hypothesis='beat baseline'),\n        dtype=object)},\n {'args': array(Namespace(dataset='argoverse', data_path='/home.dokt/vacekpa2/data/', exp_name='dev', baseline='NSF', gpu='0', verbose=0, max_range=35, per_sample_init=1, store_inference=1, runs=1, dev=1, vis=0, l_ch=1.0, l_ff=1, l_dt=0, l_sm=1, l_vsm=0, normals_K=4, KNN_max_radius=1.5, smooth_K=4, pc2_smoothness=0, l_ch_bothways=1, l_dt_gridfactor=10, lr=0.008, iters=10, early_patience=10, early_min_delta=0.001, use_case='local minima', expectation='beat baseline', hypothesis='beat baseline'),\n        dtype=object)}]"
     },
     "execution_count": 39,
     "metadata": {},
     "output_type": "execute_result"
    }
   ],
   "source": [
    "from vis.mayavi_interactive import visualize_flow_frame\n"
   ],
   "metadata": {
    "collapsed": false,
    "ExecuteTime": {
     "end_time": "2023-06-16T09:59:11.292035688Z",
     "start_time": "2023-06-16T09:59:11.272248763Z"
    }
   }
  },
  {
   "cell_type": "code",
   "execution_count": null,
   "outputs": [],
   "source": [],
   "metadata": {
    "collapsed": false
   }
  }
 ],
 "metadata": {
  "kernelspec": {
   "display_name": "Python 3",
   "language": "python",
   "name": "python3"
  },
  "language_info": {
   "codemirror_mode": {
    "name": "ipython",
    "version": 2
   },
   "file_extension": ".py",
   "mimetype": "text/x-python",
   "name": "python",
   "nbconvert_exporter": "python",
   "pygments_lexer": "ipython2",
   "version": "2.7.6"
  }
 },
 "nbformat": 4,
 "nbformat_minor": 0
}
