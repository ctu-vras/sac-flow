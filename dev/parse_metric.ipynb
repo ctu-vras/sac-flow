{
 "cells": [
  {
   "cell_type": "code",
   "execution_count": 3,
   "metadata": {
    "collapsed": true,
    "ExecuteTime": {
     "end_time": "2023-06-07T09:26:36.735850419Z",
     "start_time": "2023-06-07T09:26:36.697757211Z"
    }
   },
   "outputs": [
    {
     "data": {
      "text/plain": "                 exp_name     epe3d    dataset  acc3d_strict  acc3d_relax  \\\n0            forward_flow  0.092443  Argoverse      0.697132     0.874634   \n1   visibility_smoothness  0.082483  Argoverse      0.565055     0.805950   \n2              smoothness  0.097475  Argoverse      0.593866     0.820662   \n3  forward_and_visibility  0.077181  Argoverse      0.614720     0.861715   \n4                   allec  0.093097  Argoverse      0.382482     0.655555   \n5                baseline  0.116202  Argoverse      0.586211     0.797746   \n\n   angle_error   outlier  solver_time  \n0     0.210007  0.125563    10.344284  \n1     0.101770  0.195077    16.699733  \n2     0.208463  0.179338    16.613856  \n3     0.096689  0.138285     9.628811  \n4     0.057583  0.345538    15.728599  \n5     0.357751  0.461535    16.009291  ",
      "text/html": "<div>\n<style scoped>\n    .dataframe tbody tr th:only-of-type {\n        vertical-align: middle;\n    }\n\n    .dataframe tbody tr th {\n        vertical-align: top;\n    }\n\n    .dataframe thead th {\n        text-align: right;\n    }\n</style>\n<table border=\"1\" class=\"dataframe\">\n  <thead>\n    <tr style=\"text-align: right;\">\n      <th></th>\n      <th>exp_name</th>\n      <th>epe3d</th>\n      <th>dataset</th>\n      <th>acc3d_strict</th>\n      <th>acc3d_relax</th>\n      <th>angle_error</th>\n      <th>outlier</th>\n      <th>solver_time</th>\n    </tr>\n  </thead>\n  <tbody>\n    <tr>\n      <th>0</th>\n      <td>forward_flow</td>\n      <td>0.092443</td>\n      <td>Argoverse</td>\n      <td>0.697132</td>\n      <td>0.874634</td>\n      <td>0.210007</td>\n      <td>0.125563</td>\n      <td>10.344284</td>\n    </tr>\n    <tr>\n      <th>1</th>\n      <td>visibility_smoothness</td>\n      <td>0.082483</td>\n      <td>Argoverse</td>\n      <td>0.565055</td>\n      <td>0.805950</td>\n      <td>0.101770</td>\n      <td>0.195077</td>\n      <td>16.699733</td>\n    </tr>\n    <tr>\n      <th>2</th>\n      <td>smoothness</td>\n      <td>0.097475</td>\n      <td>Argoverse</td>\n      <td>0.593866</td>\n      <td>0.820662</td>\n      <td>0.208463</td>\n      <td>0.179338</td>\n      <td>16.613856</td>\n    </tr>\n    <tr>\n      <th>3</th>\n      <td>forward_and_visibility</td>\n      <td>0.077181</td>\n      <td>Argoverse</td>\n      <td>0.614720</td>\n      <td>0.861715</td>\n      <td>0.096689</td>\n      <td>0.138285</td>\n      <td>9.628811</td>\n    </tr>\n    <tr>\n      <th>4</th>\n      <td>allec</td>\n      <td>0.093097</td>\n      <td>Argoverse</td>\n      <td>0.382482</td>\n      <td>0.655555</td>\n      <td>0.057583</td>\n      <td>0.345538</td>\n      <td>15.728599</td>\n    </tr>\n    <tr>\n      <th>5</th>\n      <td>baseline</td>\n      <td>0.116202</td>\n      <td>Argoverse</td>\n      <td>0.586211</td>\n      <td>0.797746</td>\n      <td>0.357751</td>\n      <td>0.461535</td>\n      <td>16.009291</td>\n    </tr>\n  </tbody>\n</table>\n</div>"
     },
     "execution_count": 3,
     "metadata": {},
     "output_type": "execute_result"
    }
   ],
   "source": [
    "import pandas as pd\n",
    "import os\n",
    "import glob\n",
    "# _ = os.stat(f'{os.path.expanduser(\"~\")}/experiments/').st_mtime    # to refresh the cache\n",
    "\n",
    "metric_files = glob.glob(f'{os.path.expanduser(\"~\")}/experiments/*/logfile*')\n",
    "minus_metric_files = []\n",
    "minus_metric_files += glob.glob(f'{os.path.expanduser(\"~\")}/experiments/*5000/logfile*')\n",
    "minus_metric_files += glob.glob(f'{os.path.expanduser(\"~\")}/experiments/dev/logfile*')\n",
    "minus_metric_files += glob.glob(f'{os.path.expanduser(\"~\")}/experiments/nsfp/logfile*')\n",
    "\n",
    "metric_files = [x for x in metric_files if x not in minus_metric_files]\n",
    "\n",
    "all_metrics = []\n",
    "\n",
    "for i in range(len(metric_files)):\n",
    "    file = metric_files[i]\n",
    "    opened_file = open(file, 'r')\n",
    "\n",
    "    accum_info = {}\n",
    "\n",
    "    for line in opened_file.readlines():\n",
    "\n",
    "        if 'dataset' in line:\n",
    "            dataset = line.split('=')[-1].strip()\n",
    "            dataset = dataset.capitalize()\n",
    "\n",
    "        if 'exp_name' in line:\n",
    "            exp_name = line.split('=')[-1].strip()\n",
    "\n",
    "        if 'EPE3D' in line:\n",
    "            epe3d = float(line.split(' ')[-1])\n",
    "\n",
    "        if 'acc3d_strict' in line:\n",
    "            acc3d_strict = float(line.split(' ')[-1])\n",
    "\n",
    "        if 'acc3d_relax' in line:\n",
    "            acc3d_relax = float(line.split(' ')[-1])\n",
    "\n",
    "        if 'angle_error' in line:\n",
    "            angle_error = float(line.split(' ')[-1])\n",
    "\n",
    "        if 'outlier' in line:\n",
    "            outlier = float(line.split(' ')[-1])\n",
    "\n",
    "        if 'solver_time' in line:\n",
    "            solver_time = float(line.split(' ')[-1])\n",
    "\n",
    "    accum_info = {\"exp_name\" : exp_name,\n",
    "\n",
    "                  \"epe3d\" : epe3d,\n",
    "                  \"dataset\" : dataset,\n",
    "                  \"acc3d_strict\" : acc3d_strict,\n",
    "                  \"acc3d_relax\" : acc3d_relax,\n",
    "                  \"angle_error\" : angle_error,\n",
    "                  \"outlier\" : outlier,\n",
    "                  \"solver_time\" : solver_time}\n",
    "\n",
    "    all_metrics.append(accum_info)\n",
    "\n",
    "    opened_file.close()\n",
    "\n",
    "metric_df = pd.DataFrame(all_metrics)\n",
    "\n",
    "\n",
    "### Works, highlights  rows\n",
    "# highest_epe = metric_df['epe3d'].argmax()\n",
    "# print(highest_epe)\n",
    "# subsets = pd.IndexSlice[highest_epe, :]\n",
    "\n",
    "# metric_df.style.applymap(lambda x: \"background-color: green\", subset=subsets)\n",
    "metric_df\n"
   ]
  },
  {
   "cell_type": "code",
   "execution_count": 5,
   "outputs": [],
   "source": [
    "\n",
    "from data.PATHS import TMP_VIS_PATH\n",
    "import matplotlib.pyplot as plt\n",
    "plt.close()\n",
    "plt.rcParams[\"figure.figsize\"] = (18,10)\n",
    "plt.title(\"Model performance\")\n",
    "plt.grid(True)\n",
    "plt.xlabel(\"Time Complexity (s)\")\n",
    "plt.ylabel(\"EPE3D [m]\")\n",
    "\n",
    "# annotate points\n",
    "for i in range(len(metric_df)):\n",
    "    exp_name = metric_df['exp_name'][i]\n",
    "    if 'ours' in exp_name or 'visibility' in exp_name or 'forward' in exp_name:\n",
    "        color = 'r'\n",
    "    else:\n",
    "        color = 'b'\n",
    "\n",
    "    # plot marker\n",
    "    plt.plot(metric_df['solver_time'][i], metric_df['epe3d'][i], f'{color}*', markersize=20)\n",
    "\n",
    "                    # Name of the point                         # Coordinates\n",
    "    plt.annotate(exp_name.replace('-ours','(ours)'), (metric_df['solver_time'][i], metric_df['epe3d'][i]), fontsize=15)\n",
    "\n",
    "plt.savefig(TMP_VIS_PATH + '/gif.png')\n"
   ],
   "metadata": {
    "collapsed": false,
    "ExecuteTime": {
     "end_time": "2023-06-07T10:35:57.682177705Z",
     "start_time": "2023-06-07T10:35:57.382139583Z"
    }
   }
  },
  {
   "cell_type": "code",
   "execution_count": 6,
   "outputs": [],
   "source": [
    "\n",
    "\n",
    "# if k=5, as always\n",
    "# if k=[5,6,7...], then trigger ablation? do that in a solver and store multiple files?\n",
    "\n"
   ],
   "metadata": {
    "collapsed": false,
    "ExecuteTime": {
     "end_time": "2023-06-07T10:35:57.706367636Z",
     "start_time": "2023-06-07T10:35:57.679923775Z"
    }
   }
  },
  {
   "cell_type": "code",
   "execution_count": null,
   "outputs": [],
   "source": [],
   "metadata": {
    "collapsed": false
   }
  }
 ],
 "metadata": {
  "kernelspec": {
   "display_name": "Python 3",
   "language": "python",
   "name": "python3"
  },
  "language_info": {
   "codemirror_mode": {
    "name": "ipython",
    "version": 2
   },
   "file_extension": ".py",
   "mimetype": "text/x-python",
   "name": "python",
   "nbconvert_exporter": "python",
   "pygments_lexer": "ipython2",
   "version": "2.7.6"
  }
 },
 "nbformat": 4,
 "nbformat_minor": 0
}
