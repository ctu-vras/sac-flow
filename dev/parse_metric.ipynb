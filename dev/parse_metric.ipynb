{
 "cells": [
  {
   "cell_type": "code",
   "execution_count": 50,
   "metadata": {
    "collapsed": true,
    "ExecuteTime": {
     "end_time": "2023-05-26T08:30:14.754000063Z",
     "start_time": "2023-05-26T08:30:14.719446868Z"
    }
   },
   "outputs": [
    {
     "data": {
      "text/plain": "                 exp_name     epe3d  acc3d_strict  acc3d_relax  angle_error  \\\n0            forward_flow  0.092443      0.697132     0.874634     0.210007   \n1   visibility_smoothness  0.082483      0.565055     0.805950     0.101770   \n2              smoothness  0.097475      0.593866     0.820662     0.208463   \n3  forward_and_visibility  0.077181      0.614720     0.861715     0.096689   \n4                   allec  0.093097      0.382482     0.655555     0.057583   \n5                baseline  0.116202      0.586211     0.797746     0.357751   \n\n    outlier  solver_time  \n0  0.125563    10.344284  \n1  0.195077    16.699733  \n2  0.179338    16.613856  \n3  0.138285     9.628811  \n4  0.345538    15.728599  \n5  0.461535    16.009291  ",
      "text/html": "<div>\n<style scoped>\n    .dataframe tbody tr th:only-of-type {\n        vertical-align: middle;\n    }\n\n    .dataframe tbody tr th {\n        vertical-align: top;\n    }\n\n    .dataframe thead th {\n        text-align: right;\n    }\n</style>\n<table border=\"1\" class=\"dataframe\">\n  <thead>\n    <tr style=\"text-align: right;\">\n      <th></th>\n      <th>exp_name</th>\n      <th>epe3d</th>\n      <th>acc3d_strict</th>\n      <th>acc3d_relax</th>\n      <th>angle_error</th>\n      <th>outlier</th>\n      <th>solver_time</th>\n    </tr>\n  </thead>\n  <tbody>\n    <tr>\n      <th>0</th>\n      <td>forward_flow</td>\n      <td>0.092443</td>\n      <td>0.697132</td>\n      <td>0.874634</td>\n      <td>0.210007</td>\n      <td>0.125563</td>\n      <td>10.344284</td>\n    </tr>\n    <tr>\n      <th>1</th>\n      <td>visibility_smoothness</td>\n      <td>0.082483</td>\n      <td>0.565055</td>\n      <td>0.805950</td>\n      <td>0.101770</td>\n      <td>0.195077</td>\n      <td>16.699733</td>\n    </tr>\n    <tr>\n      <th>2</th>\n      <td>smoothness</td>\n      <td>0.097475</td>\n      <td>0.593866</td>\n      <td>0.820662</td>\n      <td>0.208463</td>\n      <td>0.179338</td>\n      <td>16.613856</td>\n    </tr>\n    <tr>\n      <th>3</th>\n      <td>forward_and_visibility</td>\n      <td>0.077181</td>\n      <td>0.614720</td>\n      <td>0.861715</td>\n      <td>0.096689</td>\n      <td>0.138285</td>\n      <td>9.628811</td>\n    </tr>\n    <tr>\n      <th>4</th>\n      <td>allec</td>\n      <td>0.093097</td>\n      <td>0.382482</td>\n      <td>0.655555</td>\n      <td>0.057583</td>\n      <td>0.345538</td>\n      <td>15.728599</td>\n    </tr>\n    <tr>\n      <th>5</th>\n      <td>baseline</td>\n      <td>0.116202</td>\n      <td>0.586211</td>\n      <td>0.797746</td>\n      <td>0.357751</td>\n      <td>0.461535</td>\n      <td>16.009291</td>\n    </tr>\n  </tbody>\n</table>\n</div>"
     },
     "execution_count": 50,
     "metadata": {},
     "output_type": "execute_result"
    }
   ],
   "source": [
    "import pandas as pd\n",
    "import os\n",
    "import glob\n",
    "\n",
    "metric_files = glob.glob(f'{os.path.expanduser(\"~\")}/experiments/*/logfile')\n",
    "\n",
    "all_metrics = []\n",
    "\n",
    "for i in range(len(metric_files)):\n",
    "    file = metric_files[i]\n",
    "    opened_file = open(file, 'r')\n",
    "\n",
    "    accum_info = {}\n",
    "\n",
    "    for line in opened_file.readlines():\n",
    "        if 'exp_name' in line:\n",
    "            exp_name = line.split('=')[-1].strip()\n",
    "\n",
    "        if 'EPE3D' in line:\n",
    "            epe3d = float(line.split(' ')[-1])\n",
    "\n",
    "        if 'acc3d_strict' in line:\n",
    "            acc3d_strict = float(line.split(' ')[-1])\n",
    "\n",
    "        if 'acc3d_relax' in line:\n",
    "            acc3d_relax = float(line.split(' ')[-1])\n",
    "\n",
    "        if 'angle_error' in line:\n",
    "            angle_error = float(line.split(' ')[-1])\n",
    "\n",
    "        if 'outlier' in line:\n",
    "            outlier = float(line.split(' ')[-1])\n",
    "\n",
    "        if 'solver_time' in line:\n",
    "            solver_time = float(line.split(' ')[-1])\n",
    "\n",
    "    accum_info = {\"exp_name\" : exp_name,\n",
    "                  \"epe3d\" : epe3d,\n",
    "                  \"acc3d_strict\" : acc3d_strict,\n",
    "                  \"acc3d_relax\" : acc3d_relax,\n",
    "                  \"angle_error\" : angle_error,\n",
    "                  \"outlier\" : outlier,\n",
    "                  \"solver_time\" : solver_time}\n",
    "\n",
    "    all_metrics.append(accum_info)\n",
    "\n",
    "    opened_file.close()\n",
    "\n",
    "metric_df = pd.DataFrame(all_metrics)\n",
    "\n",
    "def highlight_rows(x):\n",
    "\n",
    "    if x.exp_name == 'baseline':\n",
    "        return['background-color: pink']*5\n",
    "    else:\n",
    "        return['background-color: blue']*5\n",
    "\n",
    "metric_df.style.apply(highlight_rows, axis=0)\n",
    "\n",
    "# metric_df.to_csv('cur_metrics.csv')\n",
    "with open('cur_metrics.tex', 'w') as tf:\n",
    "    tf.write(metric_df.style.to_latex())\n",
    "# metric_df.style.to_latex()\n",
    "\n",
    "# display(metric_df.style.apply(highlight_rows, axis=0))\n",
    "metric_df\n",
    "# metric_df.exp_name[2]\n"
   ]
  }
 ],
 "metadata": {
  "kernelspec": {
   "display_name": "Python 3",
   "language": "python",
   "name": "python3"
  },
  "language_info": {
   "codemirror_mode": {
    "name": "ipython",
    "version": 2
   },
   "file_extension": ".py",
   "mimetype": "text/x-python",
   "name": "python",
   "nbconvert_exporter": "python",
   "pygments_lexer": "ipython2",
   "version": "2.7.6"
  }
 },
 "nbformat": 4,
 "nbformat_minor": 0
}
