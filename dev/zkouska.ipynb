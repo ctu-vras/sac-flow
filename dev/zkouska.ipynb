{
 "cells": [
  {
   "cell_type": "markdown",
   "source": [
    "# Title\n",
    "- When you feel you need to use function in general, then there is a natural barier here and you should write it into script and import it\n",
    "\n",
    "<!--- ![alt text](/home/patrik/pcflow/drawio/images/code.drawio.png) -->\n",
    "\n",
    "\n",
    "\n"
   ],
   "metadata": {
    "collapsed": false
   }
  },
  {
   "cell_type": "markdown",
   "source": [
    "# Imports"
   ],
   "metadata": {
    "collapsed": false
   }
  },
  {
   "cell_type": "code",
   "execution_count": 1,
   "outputs": [],
   "source": [
    "import matplotlib.pyplot as plt\n",
    "import numpy as np\n",
    "import torch\n",
    "from vis.deprecated_vis import *\n",
    "import glob\n",
    "from data.PATHS import DATA_PATH, TMP_VIS_PATH"
   ],
   "metadata": {
    "collapsed": false,
    "ExecuteTime": {
     "end_time": "2023-05-26T07:40:10.516962408Z",
     "start_time": "2023-05-26T07:40:04.803236860Z"
    }
   }
  },
  {
   "cell_type": "markdown",
   "source": [
    "# Structure Loss"
   ],
   "metadata": {
    "collapsed": false
   }
  },
  {
   "cell_type": "markdown",
   "source": [
    "# Use Case for NN Flow\n",
    "Argoverse1 NSF - frame 2\n",
    "<img src=\"/home/patrik/pcflow/use_cases/Smooth_NN_from_flow.png\" width=600>"
   ],
   "metadata": {
    "collapsed": false
   }
  },
  {
   "cell_type": "markdown",
   "source": [
    "# To visualize DT loss on the point cloud"
   ],
   "metadata": {
    "collapsed": false
   }
  },
  {
   "cell_type": "code",
   "execution_count": 6,
   "outputs": [],
   "source": [
    "# visualize_points3D(pc2[0], per_point_DT_loss)\n",
    "\n",
    "# visualize_points3D(pc2[0], per_point_reverse_dt_loss)\n",
    "# visualize_points3D(pc1[0], per_point_smooth_loss)\n",
    "# visualize_points3D(pc1[0], per_point_forward_smooth_loss)\n"
   ],
   "metadata": {
    "collapsed": false,
    "ExecuteTime": {
     "end_time": "2023-05-25T16:08:38.171422355Z",
     "start_time": "2023-05-25T16:08:38.121231089Z"
    }
   }
  },
  {
   "cell_type": "code",
   "execution_count": 8,
   "outputs": [],
   "source": [
    "from loss.flow import *\n",
    "import argparse\n",
    "\n",
    "arp = argparse.ArgumentParser()\n",
    "\n",
    "class UnsupervisedFlowLosses(torch.nn.Module):\n",
    "\n",
    "    def __init__(self, pc, args):\n",
    "        super().__init__()\n",
    "        self.args = args\n",
    "\n",
    "        # store outputs of losses if better?\n",
    "        self.current_loss = 10000\n",
    "\n",
    "        # init losses\n",
    "        self.loss_functions = []\n",
    "\n",
    "        # Smoothness\n",
    "        # todo add normals []\n",
    "        if args.loss_smooth_weight > 0:\n",
    "            Smooth_loss = FlowSmoothLoss(args.pc, K=args.loss_smooth_K, weight=args.loss_smooth_weight,\n",
    "                           max_radius=args.loss_smooth_max_radius, loss_norm=args.loss_smooth_norm)\n",
    "\n",
    "            self.loss_functions.append(Smooth_loss)\n",
    "\n",
    "        # Visibility\n",
    "        if args.loss_vis_weight > 0:\n",
    "            Vis_loss = VisibilitySmoothnessLoss(args.pc, K=args.loss_vis_K, VOF=args.VOF, HOF=args.HOF,\n",
    "                                                max_radius=args.loss_vis_max_radius, margin=args.loss_vis_margin,\n",
    "                                                loss_norm=args.loss_vis_norm)\n",
    "            self.loss_functions.append(Vis_loss)\n",
    "\n",
    "        # DT loss instead of chamfer\n",
    "        # maybe throw sanity check if chamfer is not used?\n",
    "        # todo return dict\n",
    "\n",
    "        # Chamfer\n",
    "        # todo define chamf layer, with reverse []\n",
    "        if args.loss_chamfer_weight > 0:\n",
    "            self.loss_functions.append(chamfer_distance_loss)\n",
    "\n",
    "        # todo ForwardFlow []\n",
    "\n",
    "        # todo push flow from freespace []\n",
    "\n",
    "args = argparse.Namespace()\n",
    "args.loss_smooth_weight = 1.\n",
    "args.loss_vis_weight = 1.\n",
    "\n",
    "UnsupervisedFlowLosses(args)"
   ],
   "metadata": {
    "collapsed": false,
    "ExecuteTime": {
     "end_time": "2023-06-07T11:03:41.598235652Z",
     "start_time": "2023-06-07T11:03:41.557509382Z"
    }
   }
  },
  {
   "cell_type": "code",
   "execution_count": 7,
   "outputs": [
    {
     "name": "stdout",
     "output_type": "stream",
     "text": [
      "Namespace(loss_smooth_weight=1.0)\n"
     ]
    }
   ],
   "source": [
    "print(args)\n"
   ],
   "metadata": {
    "collapsed": false,
    "ExecuteTime": {
     "end_time": "2023-06-07T11:01:35.445416405Z",
     "start_time": "2023-06-07T11:01:35.430507795Z"
    }
   }
  },
  {
   "cell_type": "code",
   "execution_count": null,
   "outputs": [],
   "source": [],
   "metadata": {
    "collapsed": false
   }
  }
 ],
 "metadata": {
  "kernelspec": {
   "display_name": "Python 3",
   "language": "python",
   "name": "python3"
  },
  "language_info": {
   "codemirror_mode": {
    "name": "ipython",
    "version": 2
   },
   "file_extension": ".py",
   "mimetype": "text/x-python",
   "name": "python",
   "nbconvert_exporter": "python",
   "pygments_lexer": "ipython2",
   "version": "2.7.6"
  }
 },
 "nbformat": 4,
 "nbformat_minor": 0
}
