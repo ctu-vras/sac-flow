{
 "cells": [
  {
   "cell_type": "code",
   "execution_count": 1,
   "metadata": {
    "collapsed": true,
    "ExecuteTime": {
     "end_time": "2023-05-25T15:54:13.062651921Z",
     "start_time": "2023-05-25T15:53:49.504479665Z"
    }
   },
   "outputs": [
    {
     "data": {
      "text/plain": "(tensor(0.0005),\n tensor([[0.0000, 0.0001, 0.0002,  ..., 0.0012, 0.0008, 0.0012]]))"
     },
     "execution_count": 1,
     "metadata": {},
     "output_type": "execute_result"
    }
   ],
   "source": [
    "from data.NSF_data import NSF_dataset\n",
    "import torch\n",
    "import numpy as np\n",
    "from vis.deprecated_vis import *\n",
    "\n",
    "def calculate_polar_coords(pc):\n",
    "\n",
    "    calc_depth = np.linalg.norm(pc[:,:3], axis=1)\n",
    "    yaw = -np.arctan2(pc[:, 1], pc[:, 0])\n",
    "    pitch = np.arcsin(pc[:, 2] / (calc_depth + 1e-8))\n",
    "\n",
    "    return yaw, pitch, calc_depth\n",
    "\n",
    "\n",
    "\n",
    "nsf_dataloader = NSF_dataset()\n",
    "for batch_id, data in enumerate(nsf_dataloader):\n",
    "    pc1, pc2, gt_flow = data\n",
    "    break\n",
    "\n",
    "from loss.flow import VisibilitySmoothnessLoss\n",
    "\n",
    "# VIS = VisibilitySmoothness(pc1, K=2, VOF=1024, HOF=50, margin=3)\n",
    "# not on gpu again ... :D\n",
    "# VIS(gt_flow)"
   ]
  },
  {
   "cell_type": "code",
   "execution_count": 2,
   "outputs": [],
   "source": [
    "yaw, pitch, calc_depth = calculate_polar_coords(pc1[0].detach().cpu().numpy())\n",
    "\n",
    "HOF = 1024 #\n",
    "VOF = 50 # 50 degree\n",
    "\n",
    "def get_range_img_coords(pc, VOF, HOF, ):\n",
    "\n",
    "    yaw, pitch, calc_depth = calculate_polar_coords(pc)\n",
    "\n",
    "    # to rads\n",
    "    fov = VOF * np.pi / 180.0\n",
    "\n",
    "    fov_down = fov / 2\n",
    "\n",
    "    # get projections in image coords\n",
    "    proj_x = 0.5 * (yaw / np.pi + 1.0)          # in [0.0, 1.0]\n",
    "    # proj_y = 1.0 - (pitch + abs(fov_down)) / fov        # in [0.0, 1.0]\n",
    "    proj_y = 1.0 - (pitch + abs(fov_down)) / fov        # in [0.0, 1.0]\n",
    "\n",
    "    # scale to image size using angular resolution\n",
    "    proj_x *= HOF                              # in [0.0, W]\n",
    "    proj_y *= VOF                              # in [0.0, H]\n",
    "\n",
    "    u, v = np.floor(proj_x).astype(int), np.floor(proj_y).astype(int)\n",
    "\n",
    "    # print(np.unique(proj_y))\n",
    "    depth_image = - np.ones((HOF, VOF))\n",
    "    depth_image[u, v] = calc_depth\n",
    "\n",
    "    return u, v, depth_image\n",
    "\n",
    "u,v, depth_image = get_range_img_coords(pc1[0].detach().cpu().numpy(), VOF, HOF)\n",
    "\n",
    "import matplotlib.pyplot as plt\n",
    "from data.PATHS import TMP_VIS_PATH\n",
    "plt.imshow(depth_image.T)\n",
    "plt.savefig(TMP_VIS_PATH + '/depth_image.png')\n"
   ],
   "metadata": {
    "collapsed": false,
    "ExecuteTime": {
     "end_time": "2023-05-25T15:25:37.940636100Z",
     "start_time": "2023-05-25T15:25:37.787948496Z"
    }
   }
  },
  {
   "cell_type": "code",
   "execution_count": 16,
   "outputs": [],
   "source": [
    "def KNN_coords(pc, nn_ind, VOF, HOF):\n",
    "    '''\n",
    "    :param pc2: point cloud to strip as Nx3\n",
    "    :param nn_ind: KNN indices as NxK\n",
    "    :return: Coordinates of KNN in depth image as NxKx2\n",
    "    '''\n",
    "    H_coords, V_coords, depth_image = get_range_img_coords(pc.detach().cpu().numpy(), VOF, HOF)\n",
    "\n",
    "    # plt.imshow(self.depth)\n",
    "    # plt.savefig('toy_samples/depth.png')\n",
    "\n",
    "    image_indices = np.stack((V_coords, H_coords)).T\n",
    "    image_indices = torch.from_numpy(image_indices).to(pc.device)\n",
    "\n",
    "    KNN_image_indices = image_indices[nn_ind]\n",
    "\n",
    "    return KNN_image_indices\n",
    "\n",
    "from pytorch3d.ops.knn import knn_points\n",
    "dist, nn_ind, _ = knn_points(pc1, pc1, K=2)\n"
   ],
   "metadata": {
    "collapsed": false,
    "ExecuteTime": {
     "end_time": "2023-05-25T15:31:10.937802229Z",
     "start_time": "2023-05-25T15:30:51.711185251Z"
    }
   }
  },
  {
   "cell_type": "code",
   "execution_count": 43,
   "outputs": [
    {
     "name": "stdout",
     "output_type": "stream",
     "text": [
      "tensor(0.9694)\n"
     ]
    }
   ],
   "source": [
    "image_indices = KNN_coords(pc1[0], nn_ind[0], VOF, HOF)\n",
    "# unify dimensions! keep single only for your use case\n",
    "from ops.visibility2D import KNN_visibility_solver, substitute_NN_by_mask\n",
    "from loss.flow import smoothness_loss\n",
    "\n",
    "def strip_KNN_with_vis(pc, nn_ind, VOF, HOF, margin=3):\n",
    "    '''\n",
    "    :param pc2: point cloud to strip as Nx3\n",
    "    :param nn_ind: KNN indices as NxK\n",
    "    :return: visibility aware KNN indices as NxK (stripped KNNs)\n",
    "    '''\n",
    "\n",
    "    _,_, depth = get_range_img_coords(pc.detach().cpu().numpy(), VOF, HOF)\n",
    "\n",
    "    KNN_image_indices = KNN_coords(pc, nn_ind, VOF, HOF)\n",
    "\n",
    "    depth = torch.from_numpy(depth).to(pc.device)\n",
    "\n",
    "    valid_KNN = KNN_visibility_solver(KNN_image_indices, depth.T, margin=margin)\n",
    "\n",
    "    visibility_aware_KNN = substitute_NN_by_mask(nn_ind, valid_KNN)\n",
    "\n",
    "    return visibility_aware_KNN\n",
    "\n",
    "class VisibilitySmoothness(torch.nn.Module):\n",
    "\n",
    "    def __init__(self, pc, VOH, HOF, margin=3, loss_norm=1):\n",
    "        super(VisibilitySmoothness, self).__init__()\n",
    "        self.margin = margin\n",
    "        self.pc = pc\n",
    "        self.VOH = VOH\n",
    "        self.HOV = HOF\n",
    "        self.margin = margin\n",
    "        self.loss_norm = loss_norm\n",
    "\n",
    "        self.nn_ind = strip_KNN_with_vis(self.pc[0], nn_ind[0], self.VOH, self.HOV, margin=self.margin)\n",
    "\n",
    "    def forward(self, pred_flow):\n",
    "        smooth_loss, per_point_smooth_loss = smoothness_loss(pred_flow, self.nn_ind, loss_norm=self.loss_norm)\n",
    "\n",
    "        return smooth_loss, per_point_smooth_loss\n",
    "\n",
    "# new_nn_ind = strip_KNN_with_vis(pc1[0], nn_ind[0], VOF, HOF, margin=2)\n",
    "VisSmo = VisibilitySmoothness(pc1, VOF, HOF, margin=2)\n",
    "\n",
    "similarity_nn = (nn_ind[0] == VisSmo.nn_ind).all(1).sum() / nn_ind.shape[1]\n",
    "\n",
    "print(similarity_nn)\n",
    "\n",
    "#todo table of losses and results\n"
   ],
   "metadata": {
    "collapsed": false,
    "ExecuteTime": {
     "end_time": "2023-05-25T15:44:48.585010591Z",
     "start_time": "2023-05-25T15:44:48.452827941Z"
    }
   }
  },
  {
   "cell_type": "code",
   "execution_count": 9,
   "outputs": [
    {
     "ename": "NameError",
     "evalue": "name 'depth' is not defined",
     "output_type": "error",
     "traceback": [
      "\u001B[0;31m---------------------------------------------------------------------------\u001B[0m",
      "\u001B[0;31mNameError\u001B[0m                                 Traceback (most recent call last)",
      "Cell \u001B[0;32mIn [9], line 1\u001B[0m\n\u001B[0;32m----> 1\u001B[0m \u001B[43mdepth\u001B[49m\u001B[38;5;241m.\u001B[39mshape\n",
      "\u001B[0;31mNameError\u001B[0m: name 'depth' is not defined"
     ]
    }
   ],
   "source": [
    "\n"
   ],
   "metadata": {
    "collapsed": false,
    "ExecuteTime": {
     "end_time": "2023-05-25T15:28:22.431039756Z",
     "start_time": "2023-05-25T15:28:22.407993810Z"
    }
   }
  }
 ],
 "metadata": {
  "kernelspec": {
   "display_name": "Python 3",
   "language": "python",
   "name": "python3"
  },
  "language_info": {
   "codemirror_mode": {
    "name": "ipython",
    "version": 2
   },
   "file_extension": ".py",
   "mimetype": "text/x-python",
   "name": "python",
   "nbconvert_exporter": "python",
   "pygments_lexer": "ipython2",
   "version": "2.7.6"
  }
 },
 "nbformat": 4,
 "nbformat_minor": 0
}
