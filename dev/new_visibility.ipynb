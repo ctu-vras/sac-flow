{
 "cells": [
  {
   "cell_type": "code",
   "execution_count": null,
   "outputs": [],
   "source": [
    "import matplotlib.pyplot as plt\n",
    "\n",
    "from data.NSF_data import Argo1_NSF\n",
    "from ops.visibility2D import get_range_img_coords\n",
    "import torch\n",
    "import numpy as np\n",
    "from vis.deprecated_vis import *\n",
    "from data.PATHS import TMP_VIS_PATH\n",
    "\n",
    "nsf_dataloader = Argo1_NSF()\n",
    "for batch_id, data in enumerate(nsf_dataloader):\n",
    "    pc1, pc2, gt_flow = data\n",
    "    break\n",
    "\n",
    "pc = pc1[0].numpy()\n",
    "\n",
    "yaw, pitch, depth = get_range_img_coords(pc, VOF=50, HOF=1024)\n",
    "depth_pc = np.linalg.norm(pc, axis=1)\n",
    "\n",
    "# visualize_points3D(pc, depth_pc)"
   ],
   "metadata": {
    "collapsed": false,
    "is_executing": true
   }
  },
  {
   "cell_type": "code",
   "execution_count": 19,
   "outputs": [],
   "source": [
    "from sklearn.cluster import DBSCAN\n",
    "dbscan = DBSCAN(eps=1., min_samples=5)\n",
    "\n",
    "margin = 5\n",
    "# cylinder = np.stack([yaw, pitch, depth_pc * 10], axis=1) # normilized yaw, pitch increment =1\n",
    "# dbscan.fit(cylinder)  # not good?\n",
    "\n",
    "dbscan.fit(pc)\n",
    "labels = dbscan.labels_\n",
    "\n",
    "\n",
    "visualize_points3D(pc[labels==0], pc[labels==0, 2])"
   ],
   "metadata": {
    "collapsed": false,
    "ExecuteTime": {
     "end_time": "2023-05-26T15:16:27.871156662Z",
     "start_time": "2023-05-26T15:16:25.991973076Z"
    }
   }
  },
  {
   "cell_type": "markdown",
   "source": [
    "# Clusters separated by visibility ray as line\n",
    "    - view it as linear classification of point instances\n",
    "    - computation as Linear layer\n",
    "\n",
    "    - toy example [x]\n",
    "    - define which rays to take []\n",
    "    - 2D so far? how to get\n",
    "    - define suitable depth []"
   ],
   "metadata": {
    "collapsed": false
   }
  },
  {
   "cell_type": "code",
   "execution_count": null,
   "outputs": [],
   "source": [
    "pc_clu = pc[labels==0]\n",
    "sim_ray = np.array(([pc_clu.mean(0), np.array([0,0,0])]))\n",
    "print(sim_ray)\n",
    "\n",
    "a = sim_ray[0,1] - sim_ray[1,1]\n",
    "b = sim_ray[1,0] - sim_ray[0,0]\n",
    "c = a * sim_ray[0,0] + b * sim_ray[0, 1]\n",
    "\n",
    "plt.close()\n",
    "plt.plot(sim_ray[:,0], sim_ray[:,1], 'r-')\n",
    "plt.plot(pc_clu[:,0], pc_clu[:,1], 'y.')\n",
    "plt.savefig(TMP_VIS_PATH + '/prd.png')\n"
   ],
   "metadata": {
    "collapsed": false,
    "is_executing": true
   }
  },
  {
   "cell_type": "code",
   "execution_count": 30,
   "outputs": [],
   "source": [
    "line_eq = np.array((a,b,c))\n",
    "distance = pc_clu @ line_eq\n",
    "instances = distance > 0\n",
    "# visualize_points3D(pc_clu, instances)\n",
    "\n",
    "plt.plot(pc_clu[instances, 0], pc_clu[instances, 1], 'y.')\n",
    "plt.plot(pc_clu[instances==False, 0], pc_clu[instances==False, 1], 'g.')\n",
    "plt.savefig(TMP_VIS_PATH + '/prd.png')\n"
   ],
   "metadata": {
    "collapsed": false,
    "ExecuteTime": {
     "end_time": "2023-05-26T15:26:02.905371420Z",
     "start_time": "2023-05-26T15:26:02.797122969Z"
    }
   }
  },
  {
   "cell_type": "markdown",
   "source": [],
   "metadata": {
    "collapsed": false
   }
  }
 ],
 "metadata": {
  "kernelspec": {
   "display_name": "Python 3",
   "language": "python",
   "name": "python3"
  },
  "language_info": {
   "codemirror_mode": {
    "name": "ipython",
    "version": 2
   },
   "file_extension": ".py",
   "mimetype": "text/x-python",
   "name": "python",
   "nbconvert_exporter": "python",
   "pygments_lexer": "ipython2",
   "version": "2.7.6"
  }
 },
 "nbformat": 4,
 "nbformat_minor": 0
}
