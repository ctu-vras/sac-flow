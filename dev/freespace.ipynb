{
 "cells": [
  {
   "cell_type": "markdown",
   "source": [
    "# Freespace\n",
    "- import data [x]\n",
    "- set up representation yaw, pitch, depth [x]\n",
    "- solver resolution - nearby points creates boundary? [x]\n",
    "- visualize on example [x]\n"
   ],
   "metadata": {
    "collapsed": false
   }
  },
  {
   "cell_type": "code",
   "execution_count": 1,
   "outputs": [],
   "source": [
    "import numpy as np\n",
    "import matplotlib.pyplot as plt\n",
    "import torch\n",
    "\n",
    "from vis.deprecated_vis import *\n",
    "from data.PATHS import TMP_VIS_PATH\n",
    "from data.NSF_data import NSF_dataset\n",
    "from data.range_image import range_image_coords, create_depth_img\n",
    "\n",
    "dataset = NSF_dataset()\n",
    "data = next(dataset.__iter__())\n",
    "\n",
    "torch.use_deterministic_algorithms(mode=True, warn_only=False)  # this ...\n",
    "device = torch.device('cuda' if torch.cuda.is_available() else 'cpu')\n",
    "\n",
    "pc1, pc2, gt_flow = data\n",
    "\n",
    "pc1 = pc1.to(device)\n",
    "pc2 = pc2.to(device)\n",
    "gt_flow = gt_flow.to(device)\n",
    "est_flow = torch.randn(pc1.shape, device=device, requires_grad=True)"
   ],
   "metadata": {
    "collapsed": false,
    "ExecuteTime": {
     "end_time": "2023-06-29T08:05:57.509890976Z",
     "start_time": "2023-06-29T08:05:50.845413987Z"
    }
   }
  },
  {
   "cell_type": "code",
   "execution_count": 2,
   "outputs": [],
   "source": [
    "from pytorch3d.ops.knn import knn_points\n",
    "\n",
    "def calculate_polar_coords(pc):\n",
    "\n",
    "    calc_depth = torch.norm(pc[:,:3], dim=1)\n",
    "    yaw = - torch.arctan2(pc[:, 1], pc[:, 0])\n",
    "    pitch = torch.arcsin(pc[:, 2] / (calc_depth + 1e-8))\n",
    "\n",
    "    return yaw, pitch, calc_depth\n",
    "\n",
    "\n",
    "def yaw_pitch_depth_to_xyz(yaw, pitch, depth):\n",
    "    # generated, maybe shifted\n",
    "    # Convert degrees to radians\n",
    "    # yaw = math.radians(yaw)\n",
    "    # pitch = math.radians(pitch)\n",
    "\n",
    "    # correct [x]\n",
    "    # Calculate XYZ coordinates\n",
    "    x = depth * torch.cos(yaw) * torch.cos(pitch)\n",
    "    y = depth * torch.sin(yaw) * torch.cos(pitch)\n",
    "    z = depth * torch.sin(pitch)\n",
    "\n",
    "    xyz = torch.stack([x, y, z]).T#[..., [2, 0, 1]]\n",
    "    xyz[:, 1] = - xyz[:, 1]\n",
    "\n",
    "    return xyz\n",
    "\n"
   ],
   "metadata": {
    "collapsed": false,
    "ExecuteTime": {
     "end_time": "2023-06-29T08:05:57.768457297Z",
     "start_time": "2023-06-29T08:05:57.511733094Z"
    }
   }
  },
  {
   "cell_type": "markdown",
   "source": [
    "# Representation"
   ],
   "metadata": {
    "collapsed": false
   }
  },
  {
   "cell_type": "markdown",
   "source": [
    "# Create freespace label"
   ],
   "metadata": {
    "collapsed": false
   }
  },
  {
   "cell_type": "code",
   "execution_count": 5,
   "outputs": [
    {
     "ename": "NameError",
     "evalue": "name 'range_depth' is not defined",
     "output_type": "error",
     "traceback": [
      "\u001B[0;31m---------------------------------------------------------------------------\u001B[0m",
      "\u001B[0;31mNameError\u001B[0m                                 Traceback (most recent call last)",
      "Cell \u001B[0;32mIn [5], line 42\u001B[0m\n\u001B[1;32m     40\u001B[0m plt\u001B[38;5;241m.\u001B[39mclose()\n\u001B[1;32m     41\u001B[0m fig, axes \u001B[38;5;241m=\u001B[39m plt\u001B[38;5;241m.\u001B[39msubplots(\u001B[38;5;241m1\u001B[39m,\u001B[38;5;241m3\u001B[39m, figsize\u001B[38;5;241m=\u001B[39m(\u001B[38;5;241m10\u001B[39m,\u001B[38;5;241m5\u001B[39m))\n\u001B[0;32m---> 42\u001B[0m axes[\u001B[38;5;241m0\u001B[39m]\u001B[38;5;241m.\u001B[39mimshow(\u001B[43mrange_depth\u001B[49m\u001B[38;5;241m.\u001B[39mdetach()\u001B[38;5;241m.\u001B[39mcpu()\u001B[38;5;241m.\u001B[39mnumpy())\n\u001B[1;32m     43\u001B[0m axes[\u001B[38;5;241m1\u001B[39m]\u001B[38;5;241m.\u001B[39mimshow(flow_range_depth\u001B[38;5;241m.\u001B[39mdetach()\u001B[38;5;241m.\u001B[39mcpu()\u001B[38;5;241m.\u001B[39mnumpy())\n\u001B[1;32m     44\u001B[0m axes[\u001B[38;5;241m2\u001B[39m]\u001B[38;5;241m.\u001B[39mimshow(range_depth\u001B[38;5;241m.\u001B[39mdetach()\u001B[38;5;241m.\u001B[39mcpu()\u001B[38;5;241m.\u001B[39mnumpy() \u001B[38;5;241m-\u001B[39m flow_range_depth\u001B[38;5;241m.\u001B[39mdetach()\u001B[38;5;241m.\u001B[39mcpu()\u001B[38;5;241m.\u001B[39mnumpy())\n",
      "\u001B[0;31mNameError\u001B[0m: name 'range_depth' is not defined"
     ]
    }
   ],
   "source": [
    "t_z1 = 1.640420\n",
    "t_z2 = 1.565252\n",
    "t_z_mean = (t_z1 + t_z2) / 2\n",
    "# todo tohle asi zpusobuje error v rekonstrukci, dva body maji diky jinemu souradnemu systemu stejny pitch a yaw, a pak jsou za sebou a jeden ma depth malou a druhy velkou. proto se do point cloudu promitne jinak. - Ale proc range image je jiny, kdyz vstupy jsou stejne?!?\n",
    "\n",
    "# resolution based on the data?\n",
    "# todo pouzit puvodni point cloud []\n",
    "fov_up= 25\n",
    "fov_down = - 25\n",
    "proj_H = 50 #?\n",
    "proj_W = 2048\n",
    "max_range = 70\n",
    "\n",
    "to_project_pc2 = pc2[0].clone()\n",
    "to_project_pc2[:, 2] -= t_z_mean\n",
    "\n",
    "\n",
    "flow_pc = pc2[0].clone() # + torch.randn_like(pc2[0], device=pc2.device) * 0.1\n",
    "flow_pc[:, 2] -= t_z_mean\n",
    "\n"
   ],
   "metadata": {
    "collapsed": false,
    "ExecuteTime": {
     "end_time": "2023-06-29T08:05:58.186733358Z",
     "start_time": "2023-06-29T08:05:57.771213203Z"
    }
   }
  },
  {
   "cell_type": "code",
   "execution_count": 18,
   "outputs": [
    {
     "data": {
      "text/plain": "tensor([ True, False, False,  ...,  True, False, False], device='cuda:0')"
     },
     "execution_count": 18,
     "metadata": {},
     "output_type": "execute_result"
    }
   ],
   "source": [
    "# VAChamfer()\n",
    "# FlowSmoothness\n",
    "\n",
    "class FlowFreespace(torch.nn.Module):\n",
    "\n",
    "    def __init__(self, pc2, fov_up, fov_down, proj_H, proj_W, max_range, margin=0.001):\n",
    "        super().__init__()\n",
    "        # todo dataset lidar pose\n",
    "        # KNN smoothness vis-aware\n",
    "        # todo option of \"pushing\" points to the freespace\n",
    "        self.pc2 = pc2\n",
    "        self.fov_up = fov_up\n",
    "        self.fov_down = fov_down\n",
    "        self.proj_H = proj_H\n",
    "        self.proj_W = proj_W\n",
    "        self.max_range = max_range\n",
    "        self.margin = margin\n",
    "\n",
    "        pc2_depth, idx_w, idx_h, inside_range_img = range_image_coords(to_project_pc2, fov_up, fov_down, proj_H, proj_W)\n",
    "        self.range_depth = create_depth_img(pc2_depth, idx_w, idx_h, proj_H, proj_W, inside_range_img)\n",
    "\n",
    "    def forward(self, pc1, est_flow):\n",
    "        '''\n",
    "\n",
    "        Args:\n",
    "            pc1:\n",
    "            est_flow:\n",
    "\n",
    "        Returns:\n",
    "        mask whether the deformed point cloud is in freespace visibility area\n",
    "        '''\n",
    "        # dynamic\n",
    "        # create deformed pc1\n",
    "        flow_pc = (pc1 + est_flow)[0]\n",
    "\n",
    "        flow_depth, flow_w, flow_h, flow_inside = range_image_coords(flow_pc, self.fov_up, self.fov_down, self.proj_H, self.proj_W)\n",
    "\n",
    "        # use it only for flow inside the image\n",
    "        masked_pc2_depth = self.range_depth[flow_h[flow_inside], flow_w[flow_inside]]\n",
    "        compared_depth = masked_pc2_depth - flow_depth[flow_inside]\n",
    "\n",
    "        # compared_depth\n",
    "        # if flow point before the visible point from pc2, then it is in freespace\n",
    "        # margin is just little number to not push points already close to visible point\n",
    "        flow_in_freespace = compared_depth > 0 + self.margin\n",
    "\n",
    "        return flow_in_freespace\n",
    "\n",
    "FlowFreespace(to_project_pc2, fov_up, fov_down, proj_H, proj_W, max_range)(pc1, est_flow)"
   ],
   "metadata": {
    "collapsed": false,
    "ExecuteTime": {
     "end_time": "2023-06-29T08:32:29.163001626Z",
     "start_time": "2023-06-29T08:32:29.121581759Z"
    }
   }
  },
  {
   "cell_type": "code",
   "execution_count": null,
   "outputs": [],
   "source": [],
   "metadata": {
    "collapsed": false
   }
  }
 ],
 "metadata": {
  "kernelspec": {
   "display_name": "Python 3",
   "language": "python",
   "name": "python3"
  },
  "language_info": {
   "codemirror_mode": {
    "name": "ipython",
    "version": 2
   },
   "file_extension": ".py",
   "mimetype": "text/x-python",
   "name": "python",
   "nbconvert_exporter": "python",
   "pygments_lexer": "ipython2",
   "version": "2.7.6"
  }
 },
 "nbformat": 4,
 "nbformat_minor": 0
}
