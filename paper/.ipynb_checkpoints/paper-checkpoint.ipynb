{
 "cells": [
  {
   "cell_type": "code",
   "execution_count": 1,
   "metadata": {
    "ExecuteTime": {
     "end_time": "2023-06-30T10:39:47.537846006Z",
     "start_time": "2023-06-30T10:39:45.920002034Z"
    },
    "collapsed": true
   },
   "outputs": [
    {
     "name": "stderr",
     "output_type": "stream",
     "text": [
      "/tmp/ipykernel_29008/1857991973.py:21: FutureWarning: In future versions `DataFrame.to_latex` is expected to utilise the base implementation of `Styler.to_latex` for formatting and rendering. The arguments signature may therefore change. It is recommended instead to use `DataFrame.style.to_latex` which also contains additional functionality.\n",
      "  doc = [r'\\begin{table}', df.to_latex(), r'\\end{table}']\n"
     ]
    },
    {
     "data": {
      "text/html": [
       "<style type=\"text/css\">\n",
       "#T_35576_row1_col1, #T_35576_row1_col2, #T_35576_row3_col0, #T_35576_row3_col2 {\n",
       "  background-color: yellow;\n",
       "}\n",
       "</style>\n",
       "<table id=\"T_35576\">\n",
       "  <thead>\n",
       "    <tr>\n",
       "      <th class=\"blank level0\" >&nbsp;</th>\n",
       "      <th id=\"T_35576_level0_col0\" class=\"col_heading level0 col0\" >0</th>\n",
       "      <th id=\"T_35576_level0_col1\" class=\"col_heading level0 col1\" >1</th>\n",
       "      <th id=\"T_35576_level0_col2\" class=\"col_heading level0 col2\" >2</th>\n",
       "    </tr>\n",
       "  </thead>\n",
       "  <tbody>\n",
       "    <tr>\n",
       "      <th id=\"T_35576_level0_row0\" class=\"row_heading level0 row0\" >0</th>\n",
       "      <td id=\"T_35576_row0_col0\" class=\"data row0 col0\" >0.727391</td>\n",
       "      <td id=\"T_35576_row0_col1\" class=\"data row0 col1\" >0.217020</td>\n",
       "      <td id=\"T_35576_row0_col2\" class=\"data row0 col2\" >0.316564</td>\n",
       "    </tr>\n",
       "    <tr>\n",
       "      <th id=\"T_35576_level0_row1\" class=\"row_heading level0 row1\" >1</th>\n",
       "      <td id=\"T_35576_row1_col0\" class=\"data row1 col0\" >0.388580</td>\n",
       "      <td id=\"T_35576_row1_col1\" class=\"data row1 col1\" >0.818959</td>\n",
       "      <td id=\"T_35576_row1_col2\" class=\"data row1 col2\" >0.795346</td>\n",
       "    </tr>\n",
       "    <tr>\n",
       "      <th id=\"T_35576_level0_row2\" class=\"row_heading level0 row2\" >2</th>\n",
       "      <td id=\"T_35576_row2_col0\" class=\"data row2 col0\" >0.638864</td>\n",
       "      <td id=\"T_35576_row2_col1\" class=\"data row2 col1\" >0.422191</td>\n",
       "      <td id=\"T_35576_row2_col2\" class=\"data row2 col2\" >0.050470</td>\n",
       "    </tr>\n",
       "    <tr>\n",
       "      <th id=\"T_35576_level0_row3\" class=\"row_heading level0 row3\" >3</th>\n",
       "      <td id=\"T_35576_row3_col0\" class=\"data row3 col0\" >0.851727</td>\n",
       "      <td id=\"T_35576_row3_col1\" class=\"data row3 col1\" >0.238027</td>\n",
       "      <td id=\"T_35576_row3_col2\" class=\"data row3 col2\" >0.838048</td>\n",
       "    </tr>\n",
       "  </tbody>\n",
       "</table>\n"
      ],
      "text/plain": [
       "<pandas.io.formats.style.Styler at 0x7f2f91bf3040>"
      ]
     },
     "execution_count": 1,
     "metadata": {},
     "output_type": "execute_result"
    }
   ],
   "source": [
    "from IPython.display import Markdown as md\n",
    "# Instead of setting the cell to Markdown, create Markdown from withnin a code cell!\n",
    "# We can just use python variable replacement syntax to make the text dynamic\n",
    "n = 10\n",
    "\n",
    "md(f\"## This is a markdown header with a variable {n}\")\n",
    "\n",
    "# import matplotlib\n",
    "# import matplotlib.pyplot as plt\n",
    "# matplotlib.use('GTK')\n",
    "# plt.plot(range(10))\n",
    "# plt.show()\n",
    "\n",
    "import numpy as np\n",
    "import pandas as pd\n",
    "df = pd.DataFrame(np.random.rand(4,3))\n",
    "df.style.applymap(lambda x: 'background-color : yellow' if x>df.iloc[0,0] else '')\n",
    "\n",
    "\n",
    "from IPython.display import Latex, display\n",
    "doc = [r'\\begin{table}', df.to_latex(), r'\\end{table}']\n",
    "# latex_table = '\\n '.join(doc)\n",
    "# display(Latex(latex_table))\n",
    "\n",
    "df.style.to_latex()\n",
    "df.style.applymap(lambda x: 'background-color : yellow' if x>df.iloc[0,0] else '')\n",
    "\n",
    "# visualization of each optimization, store it on server\n",
    "# visualize the experiment frame-by-frame with loss plots per iteration"
   ]
  }
 ],
 "metadata": {
  "kernelspec": {
   "display_name": "Python 3",
   "language": "python",
   "name": "python3"
  },
  "language_info": {
   "codemirror_mode": {
    "name": "ipython",
    "version": 3
   },
   "file_extension": ".py",
   "mimetype": "text/x-python",
   "name": "python",
   "nbconvert_exporter": "python",
   "pygments_lexer": "ipython3",
   "version": "3.6.9"
  }
 },
 "nbformat": 4,
 "nbformat_minor": 1
}
